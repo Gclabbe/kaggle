{
 "cells": [
  {
   "cell_type": "markdown",
   "id": "2f2419e4",
   "metadata": {
    "papermill": {
     "duration": 0.015082,
     "end_time": "2021-08-06T23:51:27.942505",
     "exception": false,
     "start_time": "2021-08-06T23:51:27.927423",
     "status": "completed"
    },
    "tags": []
   },
   "source": [
    "**This notebook is an exercise in the [Python](https://www.kaggle.com/learn/python) course.  You can reference the tutorial at [this link](https://www.kaggle.com/colinmorris/lists).**\n",
    "\n",
    "---\n"
   ]
  },
  {
   "cell_type": "markdown",
   "id": "9987ce96",
   "metadata": {
    "papermill": {
     "duration": 0.013502,
     "end_time": "2021-08-06T23:51:27.971955",
     "exception": false,
     "start_time": "2021-08-06T23:51:27.958453",
     "status": "completed"
    },
    "tags": []
   },
   "source": [
    "Things get more interesting with lists. You'll apply your new knowledge to solve the questions below. Remember to run the following cell first."
   ]
  },
  {
   "cell_type": "code",
   "execution_count": 1,
   "id": "66b22495",
   "metadata": {
    "execution": {
     "iopub.execute_input": "2021-08-06T23:51:28.012354Z",
     "iopub.status.busy": "2021-08-06T23:51:28.011597Z",
     "iopub.status.idle": "2021-08-06T23:51:28.141171Z",
     "shell.execute_reply": "2021-08-06T23:51:28.142136Z",
     "shell.execute_reply.started": "2021-08-06T23:09:23.860474Z"
    },
    "papermill": {
     "duration": 0.156806,
     "end_time": "2021-08-06T23:51:28.142611",
     "exception": false,
     "start_time": "2021-08-06T23:51:27.985805",
     "status": "completed"
    },
    "tags": []
   },
   "outputs": [
    {
     "name": "stdout",
     "output_type": "stream",
     "text": [
      "Setup complete.\n"
     ]
    }
   ],
   "source": [
    "from learntools.core import binder; binder.bind(globals())\n",
    "from learntools.python.ex4 import *\n",
    "print('Setup complete.')"
   ]
  },
  {
   "cell_type": "markdown",
   "id": "d9252a27",
   "metadata": {
    "papermill": {
     "duration": 0.014854,
     "end_time": "2021-08-06T23:51:28.172980",
     "exception": false,
     "start_time": "2021-08-06T23:51:28.158126",
     "status": "completed"
    },
    "tags": []
   },
   "source": [
    "# 1.\n",
    "\n",
    "Complete the function below according to its docstring."
   ]
  },
  {
   "cell_type": "code",
   "execution_count": 2,
   "id": "8fa11be9",
   "metadata": {
    "execution": {
     "iopub.execute_input": "2021-08-06T23:51:28.210911Z",
     "iopub.status.busy": "2021-08-06T23:51:28.209924Z",
     "iopub.status.idle": "2021-08-06T23:51:28.216292Z",
     "shell.execute_reply": "2021-08-06T23:51:28.215759Z",
     "shell.execute_reply.started": "2021-08-06T23:22:45.962565Z"
    },
    "papermill": {
     "duration": 0.029001,
     "end_time": "2021-08-06T23:51:28.216426",
     "exception": false,
     "start_time": "2021-08-06T23:51:28.187425",
     "status": "completed"
    },
    "tags": []
   },
   "outputs": [
    {
     "data": {
      "application/javascript": [
       "parent.postMessage({\"jupyterEvent\": \"custom.exercise_interaction\", \"data\": {\"outcomeType\": 1, \"valueTowardsCompletion\": 0.2, \"interactionType\": 1, \"questionType\": 2, \"questionId\": \"1_SelectSecondItem\", \"learnToolsVersion\": \"0.3.4\", \"failureMessage\": \"\", \"exceptionClass\": \"\", \"trace\": \"\"}}, \"*\")"
      ],
      "text/plain": [
       "<IPython.core.display.Javascript object>"
      ]
     },
     "metadata": {},
     "output_type": "display_data"
    },
    {
     "data": {
      "text/markdown": [
       "<span style=\"color:#33cc33\">Correct</span>"
      ],
      "text/plain": [
       "Correct"
      ]
     },
     "metadata": {},
     "output_type": "display_data"
    }
   ],
   "source": [
    "def select_second(L):\n",
    "    \"\"\"Return the second element of the given list. If the list has no second\n",
    "    element, return None.\n",
    "    \"\"\"\n",
    "    if len(L) < 2:\n",
    "        return None\n",
    "    else:\n",
    "        return L[1]\n",
    "\n",
    "    \n",
    "# Check your answer\n",
    "q1.check()"
   ]
  },
  {
   "cell_type": "code",
   "execution_count": 3,
   "id": "c954f1ab",
   "metadata": {
    "execution": {
     "iopub.execute_input": "2021-08-06T23:51:28.250172Z",
     "iopub.status.busy": "2021-08-06T23:51:28.249245Z",
     "iopub.status.idle": "2021-08-06T23:51:28.252684Z",
     "shell.execute_reply": "2021-08-06T23:51:28.253166Z",
     "shell.execute_reply.started": "2021-08-06T23:33:10.030474Z"
    },
    "papermill": {
     "duration": 0.021765,
     "end_time": "2021-08-06T23:51:28.253324",
     "exception": false,
     "start_time": "2021-08-06T23:51:28.231559",
     "status": "completed"
    },
    "tags": []
   },
   "outputs": [],
   "source": [
    "#q1.hint()\n",
    "#q1.solution()"
   ]
  },
  {
   "cell_type": "markdown",
   "id": "91f0cc1d",
   "metadata": {
    "papermill": {
     "duration": 0.014741,
     "end_time": "2021-08-06T23:51:28.283218",
     "exception": false,
     "start_time": "2021-08-06T23:51:28.268477",
     "status": "completed"
    },
    "tags": []
   },
   "source": [
    "# 2.\n",
    "\n",
    "You are analyzing sports teams.  Members of each team are stored in a list. The Coach is the first name in the list, the captain is the second name in the list, and other players are listed after that. \n",
    "These lists are stored in another list, which starts with the best team and proceeds through the list to the worst team last.  Complete the function below to select the **captain** of the worst team."
   ]
  },
  {
   "cell_type": "code",
   "execution_count": 4,
   "id": "27cbf2f1",
   "metadata": {
    "execution": {
     "iopub.execute_input": "2021-08-06T23:51:28.316933Z",
     "iopub.status.busy": "2021-08-06T23:51:28.315988Z",
     "iopub.status.idle": "2021-08-06T23:51:28.324885Z",
     "shell.execute_reply": "2021-08-06T23:51:28.324370Z",
     "shell.execute_reply.started": "2021-08-06T23:33:43.458243Z"
    },
    "papermill": {
     "duration": 0.026781,
     "end_time": "2021-08-06T23:51:28.325019",
     "exception": false,
     "start_time": "2021-08-06T23:51:28.298238",
     "status": "completed"
    },
    "tags": []
   },
   "outputs": [
    {
     "data": {
      "application/javascript": [
       "parent.postMessage({\"jupyterEvent\": \"custom.exercise_interaction\", \"data\": {\"outcomeType\": 1, \"valueTowardsCompletion\": 0.2, \"interactionType\": 1, \"questionType\": 2, \"questionId\": \"2_LosingTeamCaptain\", \"learnToolsVersion\": \"0.3.4\", \"failureMessage\": \"\", \"exceptionClass\": \"\", \"trace\": \"\"}}, \"*\")"
      ],
      "text/plain": [
       "<IPython.core.display.Javascript object>"
      ]
     },
     "metadata": {},
     "output_type": "display_data"
    },
    {
     "data": {
      "text/markdown": [
       "<span style=\"color:#33cc33\">Correct</span>"
      ],
      "text/plain": [
       "Correct"
      ]
     },
     "metadata": {},
     "output_type": "display_data"
    }
   ],
   "source": [
    "def losing_team_captain(teams):\n",
    "    \"\"\"Given a list of teams, where each team is a list of names, return the 2nd player (captain)\n",
    "    from the last listed team\n",
    "    \"\"\"\n",
    "    return teams[-1][1]\n",
    "\n",
    "# Check your answer\n",
    "q2.check()"
   ]
  },
  {
   "cell_type": "code",
   "execution_count": 5,
   "id": "fdedd2b5",
   "metadata": {
    "execution": {
     "iopub.execute_input": "2021-08-06T23:51:28.361874Z",
     "iopub.status.busy": "2021-08-06T23:51:28.361035Z",
     "iopub.status.idle": "2021-08-06T23:51:28.364248Z",
     "shell.execute_reply": "2021-08-06T23:51:28.364743Z",
     "shell.execute_reply.started": "2021-08-06T23:33:46.770843Z"
    },
    "papermill": {
     "duration": 0.023328,
     "end_time": "2021-08-06T23:51:28.364902",
     "exception": false,
     "start_time": "2021-08-06T23:51:28.341574",
     "status": "completed"
    },
    "tags": []
   },
   "outputs": [],
   "source": [
    "#q2.hint()\n",
    "#q2.solution()"
   ]
  },
  {
   "cell_type": "markdown",
   "id": "1db956c2",
   "metadata": {
    "papermill": {
     "duration": 0.015886,
     "end_time": "2021-08-06T23:51:28.397020",
     "exception": false,
     "start_time": "2021-08-06T23:51:28.381134",
     "status": "completed"
    },
    "tags": []
   },
   "source": [
    "# 3.\n",
    "\n",
    "The next iteration of Mario Kart will feature an extra-infuriating new item, the *Purple Shell*. When used, it warps the last place racer into first place and the first place racer into last place. Complete the function below to implement the Purple Shell's effect."
   ]
  },
  {
   "cell_type": "code",
   "execution_count": 6,
   "id": "a456a3e7",
   "metadata": {
    "execution": {
     "iopub.execute_input": "2021-08-06T23:51:28.432918Z",
     "iopub.status.busy": "2021-08-06T23:51:28.431975Z",
     "iopub.status.idle": "2021-08-06T23:51:28.439870Z",
     "shell.execute_reply": "2021-08-06T23:51:28.440410Z",
     "shell.execute_reply.started": "2021-08-06T23:34:36.094408Z"
    },
    "papermill": {
     "duration": 0.027383,
     "end_time": "2021-08-06T23:51:28.440570",
     "exception": false,
     "start_time": "2021-08-06T23:51:28.413187",
     "status": "completed"
    },
    "tags": []
   },
   "outputs": [
    {
     "data": {
      "application/javascript": [
       "parent.postMessage({\"jupyterEvent\": \"custom.exercise_interaction\", \"data\": {\"outcomeType\": 1, \"valueTowardsCompletion\": 0.2, \"interactionType\": 1, \"questionType\": 2, \"questionId\": \"3_PurpleShell\", \"learnToolsVersion\": \"0.3.4\", \"failureMessage\": \"\", \"exceptionClass\": \"\", \"trace\": \"\"}}, \"*\")"
      ],
      "text/plain": [
       "<IPython.core.display.Javascript object>"
      ]
     },
     "metadata": {},
     "output_type": "display_data"
    },
    {
     "data": {
      "text/markdown": [
       "<span style=\"color:#33cc33\">Correct</span>"
      ],
      "text/plain": [
       "Correct"
      ]
     },
     "metadata": {},
     "output_type": "display_data"
    }
   ],
   "source": [
    "def purple_shell(racers):\n",
    "    \"\"\"Given a list of racers, set the first place racer (at the front of the list) to last\n",
    "    place and vice versa.\n",
    "    \n",
    "    >>> r = [\"Mario\", \"Bowser\", \"Luigi\"]\n",
    "    >>> purple_shell(r)\n",
    "    >>> r\n",
    "    [\"Luigi\", \"Bowser\", \"Mario\"]\n",
    "    \"\"\"\n",
    "    racers[0], racers[-1] = racers[-1], racers[0]\n",
    "\n",
    "# Check your answer\n",
    "q3.check()"
   ]
  },
  {
   "cell_type": "code",
   "execution_count": 7,
   "id": "065111d2",
   "metadata": {
    "execution": {
     "iopub.execute_input": "2021-08-06T23:51:28.479327Z",
     "iopub.status.busy": "2021-08-06T23:51:28.478702Z",
     "iopub.status.idle": "2021-08-06T23:51:28.481569Z",
     "shell.execute_reply": "2021-08-06T23:51:28.482092Z",
     "shell.execute_reply.started": "2021-08-06T23:34:36.678402Z"
    },
    "papermill": {
     "duration": 0.024018,
     "end_time": "2021-08-06T23:51:28.482247",
     "exception": false,
     "start_time": "2021-08-06T23:51:28.458229",
     "status": "completed"
    },
    "tags": []
   },
   "outputs": [],
   "source": [
    "#q3.hint()\n",
    "#q3.solution()"
   ]
  },
  {
   "cell_type": "markdown",
   "id": "2ad72996",
   "metadata": {
    "papermill": {
     "duration": 0.017101,
     "end_time": "2021-08-06T23:51:28.516780",
     "exception": false,
     "start_time": "2021-08-06T23:51:28.499679",
     "status": "completed"
    },
    "tags": []
   },
   "source": [
    "# 4.\n",
    "\n",
    "What are the lengths of the following lists? Fill in the variable `lengths` with your predictions. (Try to make a prediction for each list *without* just calling `len()` on it.)"
   ]
  },
  {
   "cell_type": "code",
   "execution_count": 8,
   "id": "171f88b9",
   "metadata": {
    "execution": {
     "iopub.execute_input": "2021-08-06T23:51:28.554508Z",
     "iopub.status.busy": "2021-08-06T23:51:28.553867Z",
     "iopub.status.idle": "2021-08-06T23:51:28.561694Z",
     "shell.execute_reply": "2021-08-06T23:51:28.562215Z",
     "shell.execute_reply.started": "2021-08-06T23:35:31.907008Z"
    },
    "papermill": {
     "duration": 0.028086,
     "end_time": "2021-08-06T23:51:28.562372",
     "exception": false,
     "start_time": "2021-08-06T23:51:28.534286",
     "status": "completed"
    },
    "tags": []
   },
   "outputs": [
    {
     "data": {
      "application/javascript": [
       "parent.postMessage({\"jupyterEvent\": \"custom.exercise_interaction\", \"data\": {\"outcomeType\": 1, \"valueTowardsCompletion\": 0.2, \"interactionType\": 1, \"questionType\": 1, \"questionId\": \"4_UnderstandLen\", \"learnToolsVersion\": \"0.3.4\", \"failureMessage\": \"\", \"exceptionClass\": \"\", \"trace\": \"\"}}, \"*\")"
      ],
      "text/plain": [
       "<IPython.core.display.Javascript object>"
      ]
     },
     "metadata": {},
     "output_type": "display_data"
    },
    {
     "data": {
      "text/markdown": [
       "<span style=\"color:#33cc33\">Correct:</span> \n",
       "\n",
       "\n",
       "- a: There are three items in this list. Nothing tricky yet.\n",
       "- b: The list `[2, 3]` counts as a single item. It has one item before it. So we have 2 items in the list\n",
       "- c: The empty list has 0 items\n",
       "- d: The expression is the same as the list `[2, 3]`, which has length 2."
      ],
      "text/plain": [
       "Correct: \n",
       "\n",
       "\n",
       "- a: There are three items in this list. Nothing tricky yet.\n",
       "- b: The list `[2, 3]` counts as a single item. It has one item before it. So we have 2 items in the list\n",
       "- c: The empty list has 0 items\n",
       "- d: The expression is the same as the list `[2, 3]`, which has length 2."
      ]
     },
     "metadata": {},
     "output_type": "display_data"
    }
   ],
   "source": [
    "a = [1, 2, 3]\n",
    "b = [1, [2, 3]]\n",
    "c = []\n",
    "d = [1, 2, 3][1:]\n",
    "\n",
    "# Put your predictions in the list below. Lengths should contain 4 numbers, the\n",
    "# first being the length of a, the second being the length of b and so on.\n",
    "lengths = [len(a), len(b), len(c), len(d)]\n",
    "\n",
    "# Check your answer\n",
    "q4.check()"
   ]
  },
  {
   "cell_type": "code",
   "execution_count": 9,
   "id": "02fe4e7d",
   "metadata": {
    "execution": {
     "iopub.execute_input": "2021-08-06T23:51:28.602202Z",
     "iopub.status.busy": "2021-08-06T23:51:28.601252Z",
     "iopub.status.idle": "2021-08-06T23:51:28.604630Z",
     "shell.execute_reply": "2021-08-06T23:51:28.605136Z",
     "shell.execute_reply.started": "2021-08-06T23:35:32.625939Z"
    },
    "papermill": {
     "duration": 0.024877,
     "end_time": "2021-08-06T23:51:28.605295",
     "exception": false,
     "start_time": "2021-08-06T23:51:28.580418",
     "status": "completed"
    },
    "tags": []
   },
   "outputs": [],
   "source": [
    "# line below provides some explanation\n",
    "#q4.solution()"
   ]
  },
  {
   "cell_type": "markdown",
   "id": "2469558b",
   "metadata": {
    "papermill": {
     "duration": 0.017854,
     "end_time": "2021-08-06T23:51:28.641329",
     "exception": false,
     "start_time": "2021-08-06T23:51:28.623475",
     "status": "completed"
    },
    "tags": []
   },
   "source": [
    "# 5. <span title=\"A bit spicy\" style=\"color: darkgreen \">🌶️</span>\n",
    "\n",
    "We're using lists to record people who attended our party and what order they arrived in. For example, the following list represents a party with 7 guests, in which Adela showed up first and Ford was the last to arrive:\n",
    "\n",
    "    party_attendees = ['Adela', 'Fleda', 'Owen', 'May', 'Mona', 'Gilbert', 'Ford']\n",
    "\n",
    "A guest is considered 'fashionably late' if they arrived after at least half of the party's guests. However, they must not be the very last guest (that's taking it too far). In the above example, Mona and Gilbert are the only guests who were fashionably late.\n",
    "\n",
    "Complete the function below which takes a list of party attendees as well as a person, and tells us whether that person is fashionably late."
   ]
  },
  {
   "cell_type": "code",
   "execution_count": 10,
   "id": "0fdd19b9",
   "metadata": {
    "execution": {
     "iopub.execute_input": "2021-08-06T23:51:28.680996Z",
     "iopub.status.busy": "2021-08-06T23:51:28.680100Z",
     "iopub.status.idle": "2021-08-06T23:51:28.689377Z",
     "shell.execute_reply": "2021-08-06T23:51:28.689905Z",
     "shell.execute_reply.started": "2021-08-06T23:50:41.691003Z"
    },
    "papermill": {
     "duration": 0.030594,
     "end_time": "2021-08-06T23:51:28.690059",
     "exception": false,
     "start_time": "2021-08-06T23:51:28.659465",
     "status": "completed"
    },
    "tags": []
   },
   "outputs": [
    {
     "data": {
      "application/javascript": [
       "parent.postMessage({\"jupyterEvent\": \"custom.exercise_interaction\", \"data\": {\"outcomeType\": 1, \"valueTowardsCompletion\": 0.2, \"interactionType\": 1, \"questionType\": 2, \"questionId\": \"5_FashionablyLate\", \"learnToolsVersion\": \"0.3.4\", \"failureMessage\": \"\", \"exceptionClass\": \"\", \"trace\": \"\"}}, \"*\")"
      ],
      "text/plain": [
       "<IPython.core.display.Javascript object>"
      ]
     },
     "metadata": {},
     "output_type": "display_data"
    },
    {
     "data": {
      "text/markdown": [
       "<span style=\"color:#33cc33\">Correct</span>"
      ],
      "text/plain": [
       "Correct"
      ]
     },
     "metadata": {},
     "output_type": "display_data"
    }
   ],
   "source": [
    "import math\n",
    "\n",
    "def fashionably_late(arrivals, name):\n",
    "    \"\"\"Given an ordered list of arrivals to the party and a name, return whether the guest with that\n",
    "    name was fashionably late.\n",
    "    \"\"\"\n",
    "    if name == arrivals[-1]:\n",
    "        return False\n",
    "    \n",
    "    num_people = len(arrivals)\n",
    "    arrival_time = arrivals.index(name)+1\n",
    "    \n",
    "    if math.ceil(num_people / 2) < arrival_time < len(arrivals):\n",
    "        return True\n",
    "    else:\n",
    "        return False\n",
    "\n",
    "# Check your answer\n",
    "q5.check()"
   ]
  },
  {
   "cell_type": "code",
   "execution_count": 11,
   "id": "706cac14",
   "metadata": {
    "execution": {
     "iopub.execute_input": "2021-08-06T23:51:28.731917Z",
     "iopub.status.busy": "2021-08-06T23:51:28.730993Z",
     "iopub.status.idle": "2021-08-06T23:51:28.738138Z",
     "shell.execute_reply": "2021-08-06T23:51:28.738598Z",
     "shell.execute_reply.started": "2021-08-06T23:50:46.209858Z"
    },
    "papermill": {
     "duration": 0.029221,
     "end_time": "2021-08-06T23:51:28.738755",
     "exception": false,
     "start_time": "2021-08-06T23:51:28.709534",
     "status": "completed"
    },
    "tags": []
   },
   "outputs": [
    {
     "data": {
      "application/javascript": [
       "parent.postMessage({\"jupyterEvent\": \"custom.exercise_interaction\", \"data\": {\"interactionType\": 3, \"questionType\": 2, \"questionId\": \"5_FashionablyLate\", \"learnToolsVersion\": \"0.3.4\", \"valueTowardsCompletion\": 0.0, \"failureMessage\": \"\", \"exceptionClass\": \"\", \"trace\": \"\", \"outcomeType\": 4}}, \"*\")"
      ],
      "text/plain": [
       "<IPython.core.display.Javascript object>"
      ]
     },
     "metadata": {},
     "output_type": "display_data"
    },
    {
     "data": {
      "text/markdown": [
       "<span style=\"color:#33cc99\">Solution:</span> \n",
       "```python\n",
       "def fashionably_late(arrivals, name):\n",
       "    order = arrivals.index(name)\n",
       "    return order >= len(arrivals) / 2 and order != len(arrivals) - 1\n",
       "```"
      ],
      "text/plain": [
       "Solution: \n",
       "```python\n",
       "def fashionably_late(arrivals, name):\n",
       "    order = arrivals.index(name)\n",
       "    return order >= len(arrivals) / 2 and order != len(arrivals) - 1\n",
       "```"
      ]
     },
     "metadata": {},
     "output_type": "display_data"
    }
   ],
   "source": [
    "#q5.hint()\n",
    "q5.solution()"
   ]
  },
  {
   "cell_type": "markdown",
   "id": "1c603a73",
   "metadata": {
    "papermill": {
     "duration": 0.019958,
     "end_time": "2021-08-06T23:51:28.778745",
     "exception": false,
     "start_time": "2021-08-06T23:51:28.758787",
     "status": "completed"
    },
    "tags": []
   },
   "source": [
    "# Keep Going\n",
    "\n",
    "That's it for lists and tuples! Now you have the baseline knowledge to **[learn about loops](https://www.kaggle.com/colinmorris/loops-and-list-comprehensions)**, which is where lists and tuples get really interesting. "
   ]
  },
  {
   "cell_type": "markdown",
   "id": "1e6c8949",
   "metadata": {
    "papermill": {
     "duration": 0.0205,
     "end_time": "2021-08-06T23:51:28.819155",
     "exception": false,
     "start_time": "2021-08-06T23:51:28.798655",
     "status": "completed"
    },
    "tags": []
   },
   "source": [
    "---\n",
    "\n",
    "\n",
    "\n",
    "\n",
    "*Have questions or comments? Visit the [Learn Discussion forum](https://www.kaggle.com/learn-forum/161283) to chat with other Learners.*"
   ]
  }
 ],
 "metadata": {
  "kernelspec": {
   "display_name": "Python 3",
   "language": "python",
   "name": "python3"
  },
  "language_info": {
   "codemirror_mode": {
    "name": "ipython",
    "version": 3
   },
   "file_extension": ".py",
   "mimetype": "text/x-python",
   "name": "python",
   "nbconvert_exporter": "python",
   "pygments_lexer": "ipython3",
   "version": "3.7.10"
  },
  "papermill": {
   "default_parameters": {},
   "duration": 9.331756,
   "end_time": "2021-08-06T23:51:29.447514",
   "environment_variables": {},
   "exception": null,
   "input_path": "__notebook__.ipynb",
   "output_path": "__notebook__.ipynb",
   "parameters": {},
   "start_time": "2021-08-06T23:51:20.115758",
   "version": "2.3.3"
  }
 },
 "nbformat": 4,
 "nbformat_minor": 5
}
