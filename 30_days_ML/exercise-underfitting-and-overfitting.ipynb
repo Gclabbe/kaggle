{
 "cells": [
  {
   "cell_type": "markdown",
   "id": "2765558f",
   "metadata": {
    "papermill": {
     "duration": 0.010621,
     "end_time": "2021-08-11T18:35:16.496570",
     "exception": false,
     "start_time": "2021-08-11T18:35:16.485949",
     "status": "completed"
    },
    "tags": []
   },
   "source": [
    "**This notebook is an exercise in the [Introduction to Machine Learning](https://www.kaggle.com/learn/intro-to-machine-learning) course.  You can reference the tutorial at [this link](https://www.kaggle.com/dansbecker/underfitting-and-overfitting).**\n",
    "\n",
    "---\n"
   ]
  },
  {
   "cell_type": "markdown",
   "id": "768d5530",
   "metadata": {
    "papermill": {
     "duration": 0.009239,
     "end_time": "2021-08-11T18:35:16.517133",
     "exception": false,
     "start_time": "2021-08-11T18:35:16.507894",
     "status": "completed"
    },
    "tags": []
   },
   "source": [
    "## Recap\n",
    "You've built your first model, and now it's time to optimize the size of the tree to make better predictions. Run this cell to set up your coding environment where the previous step left off."
   ]
  },
  {
   "cell_type": "code",
   "execution_count": 1,
   "id": "81176102",
   "metadata": {
    "execution": {
     "iopub.execute_input": "2021-08-11T18:35:16.555534Z",
     "iopub.status.busy": "2021-08-11T18:35:16.554770Z",
     "iopub.status.idle": "2021-08-11T18:35:18.103964Z",
     "shell.execute_reply": "2021-08-11T18:35:18.103213Z",
     "shell.execute_reply.started": "2021-08-11T18:09:37.429578Z"
    },
    "papermill": {
     "duration": 1.577404,
     "end_time": "2021-08-11T18:35:18.104161",
     "exception": false,
     "start_time": "2021-08-11T18:35:16.526757",
     "status": "completed"
    },
    "tags": []
   },
   "outputs": [
    {
     "name": "stdout",
     "output_type": "stream",
     "text": [
      "Validation MAE: 29,653\n",
      "\n",
      "Setup complete\n"
     ]
    }
   ],
   "source": [
    "# Code you have previously used to load data\n",
    "import pandas as pd\n",
    "from sklearn.metrics import mean_absolute_error\n",
    "from sklearn.model_selection import train_test_split\n",
    "from sklearn.tree import DecisionTreeRegressor\n",
    "\n",
    "\n",
    "# Path of the file to read\n",
    "iowa_file_path = '../input/home-data-for-ml-course/train.csv'\n",
    "\n",
    "home_data = pd.read_csv(iowa_file_path)\n",
    "# Create target object and call it y\n",
    "y = home_data.SalePrice\n",
    "# Create X\n",
    "features = ['LotArea', 'YearBuilt', '1stFlrSF', '2ndFlrSF', 'FullBath', 'BedroomAbvGr', 'TotRmsAbvGrd']\n",
    "X = home_data[features]\n",
    "\n",
    "# Split into validation and training data\n",
    "train_X, val_X, train_y, val_y = train_test_split(X, y, random_state=1)\n",
    "\n",
    "# Specify Model\n",
    "iowa_model = DecisionTreeRegressor(random_state=1)\n",
    "# Fit Model\n",
    "iowa_model.fit(train_X, train_y)\n",
    "\n",
    "# Make validation predictions and calculate mean absolute error\n",
    "val_predictions = iowa_model.predict(val_X)\n",
    "val_mae = mean_absolute_error(val_predictions, val_y)\n",
    "print(\"Validation MAE: {:,.0f}\".format(val_mae))\n",
    "\n",
    "# Set up code checking\n",
    "from learntools.core import binder\n",
    "binder.bind(globals())\n",
    "from learntools.machine_learning.ex5 import *\n",
    "print(\"\\nSetup complete\")"
   ]
  },
  {
   "cell_type": "markdown",
   "id": "45aeb53d",
   "metadata": {
    "papermill": {
     "duration": 0.009919,
     "end_time": "2021-08-11T18:35:18.124531",
     "exception": false,
     "start_time": "2021-08-11T18:35:18.114612",
     "status": "completed"
    },
    "tags": []
   },
   "source": [
    "# Exercises\n",
    "You could write the function `get_mae` yourself. For now, we'll supply it. This is the same function you read about in the previous lesson. Just run the cell below."
   ]
  },
  {
   "cell_type": "code",
   "execution_count": 2,
   "id": "ac717cb0",
   "metadata": {
    "execution": {
     "iopub.execute_input": "2021-08-11T18:35:18.148066Z",
     "iopub.status.busy": "2021-08-11T18:35:18.147393Z",
     "iopub.status.idle": "2021-08-11T18:35:18.153997Z",
     "shell.execute_reply": "2021-08-11T18:35:18.153365Z",
     "shell.execute_reply.started": "2021-08-11T18:14:50.805933Z"
    },
    "papermill": {
     "duration": 0.01974,
     "end_time": "2021-08-11T18:35:18.154161",
     "exception": false,
     "start_time": "2021-08-11T18:35:18.134421",
     "status": "completed"
    },
    "tags": []
   },
   "outputs": [],
   "source": [
    "def get_mae(max_leaf_nodes, train_X, val_X, train_y, val_y):\n",
    "    model = DecisionTreeRegressor(max_leaf_nodes=max_leaf_nodes, random_state=0)\n",
    "    model.fit(train_X, train_y)\n",
    "    preds_val = model.predict(val_X)\n",
    "    mae = mean_absolute_error(val_y, preds_val)\n",
    "    \n",
    "    return(mae)"
   ]
  },
  {
   "cell_type": "markdown",
   "id": "4e55b427",
   "metadata": {
    "papermill": {
     "duration": 0.009515,
     "end_time": "2021-08-11T18:35:18.173868",
     "exception": false,
     "start_time": "2021-08-11T18:35:18.164353",
     "status": "completed"
    },
    "tags": []
   },
   "source": [
    "## Step 1: Compare Different Tree Sizes\n",
    "Write a loop that tries the following values for *max_leaf_nodes* from a set of possible values.\n",
    "\n",
    "Call the *get_mae* function on each value of max_leaf_nodes. Store the output in some way that allows you to select the value of `max_leaf_nodes` that gives the most accurate model on your data."
   ]
  },
  {
   "cell_type": "code",
   "execution_count": 3,
   "id": "07cd2d7b",
   "metadata": {
    "execution": {
     "iopub.execute_input": "2021-08-11T18:35:18.197785Z",
     "iopub.status.busy": "2021-08-11T18:35:18.196990Z",
     "iopub.status.idle": "2021-08-11T18:35:18.267754Z",
     "shell.execute_reply": "2021-08-11T18:35:18.267127Z",
     "shell.execute_reply.started": "2021-08-11T18:16:14.719645Z"
    },
    "papermill": {
     "duration": 0.084158,
     "end_time": "2021-08-11T18:35:18.267931",
     "exception": false,
     "start_time": "2021-08-11T18:35:18.183773",
     "status": "completed"
    },
    "tags": []
   },
   "outputs": [
    {
     "name": "stdout",
     "output_type": "stream",
     "text": [
      "{'5': 35044.51299744237, '25': 29016.41319191076, '50': 27405.930473214907, '100': 27282.50803885739, '250': 27893.822225701646, '500': 29454.18598068598}\n"
     ]
    },
    {
     "data": {
      "application/javascript": [
       "parent.postMessage({\"jupyterEvent\": \"custom.exercise_interaction\", \"data\": {\"outcomeType\": 1, \"valueTowardsCompletion\": 0.5, \"interactionType\": 1, \"questionType\": 1, \"questionId\": \"1_BestTreeSize\", \"learnToolsVersion\": \"0.3.4\", \"failureMessage\": \"\", \"exceptionClass\": \"\", \"trace\": \"\"}}, \"*\")"
      ],
      "text/plain": [
       "<IPython.core.display.Javascript object>"
      ]
     },
     "metadata": {},
     "output_type": "display_data"
    },
    {
     "data": {
      "text/markdown": [
       "<span style=\"color:#33cc33\">Correct</span>"
      ],
      "text/plain": [
       "Correct"
      ]
     },
     "metadata": {},
     "output_type": "display_data"
    }
   ],
   "source": [
    "candidate_max_leaf_nodes = [5, 25, 50, 100, 250, 500]\n",
    "results = {}\n",
    "\n",
    "# Write loop to find the ideal tree size from candidate_max_leaf_nodes\n",
    "for this_size in candidate_max_leaf_nodes:\n",
    "    results[f\"{this_size}\"] = get_mae(\n",
    "        this_size,\n",
    "        train_X,\n",
    "        val_X,\n",
    "        train_y,\n",
    "        val_y\n",
    "    )\n",
    "\n",
    "print(results)\n",
    "\n",
    "# Store the best value of max_leaf_nodes (it will be either 5, 25, 50, 100, 250 or 500)\n",
    "best_tree_size = 100\n",
    "\n",
    "# Check your answer\n",
    "step_1.check()"
   ]
  },
  {
   "cell_type": "code",
   "execution_count": 4,
   "id": "504a5a0d",
   "metadata": {
    "execution": {
     "iopub.execute_input": "2021-08-11T18:35:18.297257Z",
     "iopub.status.busy": "2021-08-11T18:35:18.296389Z",
     "iopub.status.idle": "2021-08-11T18:35:18.299754Z",
     "shell.execute_reply": "2021-08-11T18:35:18.299190Z",
     "shell.execute_reply.started": "2021-08-11T18:25:04.664128Z"
    },
    "papermill": {
     "duration": 0.019052,
     "end_time": "2021-08-11T18:35:18.299925",
     "exception": false,
     "start_time": "2021-08-11T18:35:18.280873",
     "status": "completed"
    },
    "tags": []
   },
   "outputs": [],
   "source": [
    "# The lines below will show you a hint or the solution.\n",
    "# step_1.hint() \n",
    "# step_1.solution()"
   ]
  },
  {
   "cell_type": "markdown",
   "id": "f4f2d2da",
   "metadata": {
    "papermill": {
     "duration": 0.011331,
     "end_time": "2021-08-11T18:35:18.322761",
     "exception": false,
     "start_time": "2021-08-11T18:35:18.311430",
     "status": "completed"
    },
    "tags": []
   },
   "source": [
    "## Step 2: Fit Model Using All Data\n",
    "You know the best tree size. If you were going to deploy this model in practice, you would make it even more accurate by using all of the data and keeping that tree size.  That is, you don't need to hold out the validation data now that you've made all your modeling decisions."
   ]
  },
  {
   "cell_type": "code",
   "execution_count": 5,
   "id": "fab04a6f",
   "metadata": {
    "execution": {
     "iopub.execute_input": "2021-08-11T18:35:18.355652Z",
     "iopub.status.busy": "2021-08-11T18:35:18.354879Z",
     "iopub.status.idle": "2021-08-11T18:35:18.370886Z",
     "shell.execute_reply": "2021-08-11T18:35:18.370276Z",
     "shell.execute_reply.started": "2021-08-11T18:34:42.404194Z"
    },
    "papermill": {
     "duration": 0.036817,
     "end_time": "2021-08-11T18:35:18.371048",
     "exception": false,
     "start_time": "2021-08-11T18:35:18.334231",
     "status": "completed"
    },
    "tags": []
   },
   "outputs": [
    {
     "data": {
      "application/javascript": [
       "parent.postMessage({\"jupyterEvent\": \"custom.exercise_interaction\", \"data\": {\"outcomeType\": 1, \"valueTowardsCompletion\": 0.5, \"interactionType\": 1, \"questionType\": 2, \"questionId\": \"2_FitModelWithAllData\", \"learnToolsVersion\": \"0.3.4\", \"failureMessage\": \"\", \"exceptionClass\": \"\", \"trace\": \"\"}}, \"*\")"
      ],
      "text/plain": [
       "<IPython.core.display.Javascript object>"
      ]
     },
     "metadata": {},
     "output_type": "display_data"
    },
    {
     "data": {
      "text/markdown": [
       "<span style=\"color:#33cc33\">Correct</span>"
      ],
      "text/plain": [
       "Correct"
      ]
     },
     "metadata": {},
     "output_type": "display_data"
    }
   ],
   "source": [
    "# Fill in argument to make optimal size and uncomment\n",
    "final_model = DecisionTreeRegressor(random_state=42, max_leaf_nodes=100)\n",
    "\n",
    "# fit the final model and uncomment the next two lines\n",
    "final_model.fit(X, y)\n",
    "\n",
    "# Check your answer\n",
    "step_2.check()"
   ]
  },
  {
   "cell_type": "code",
   "execution_count": 6,
   "id": "7fe2e673",
   "metadata": {
    "execution": {
     "iopub.execute_input": "2021-08-11T18:35:18.401636Z",
     "iopub.status.busy": "2021-08-11T18:35:18.400923Z",
     "iopub.status.idle": "2021-08-11T18:35:18.404160Z",
     "shell.execute_reply": "2021-08-11T18:35:18.403610Z"
    },
    "papermill": {
     "duration": 0.020859,
     "end_time": "2021-08-11T18:35:18.404316",
     "exception": false,
     "start_time": "2021-08-11T18:35:18.383457",
     "status": "completed"
    },
    "tags": []
   },
   "outputs": [],
   "source": [
    "# step_2.hint()\n",
    "# step_2.solution()"
   ]
  },
  {
   "cell_type": "markdown",
   "id": "25623a0b",
   "metadata": {
    "papermill": {
     "duration": 0.012066,
     "end_time": "2021-08-11T18:35:18.428989",
     "exception": false,
     "start_time": "2021-08-11T18:35:18.416923",
     "status": "completed"
    },
    "tags": []
   },
   "source": [
    "You've tuned this model and improved your results. But we are still using Decision Tree models, which are not very sophisticated by modern machine learning standards. In the next step you will learn to use Random Forests to improve your models even more.\n",
    "\n",
    "# Keep Going\n",
    "\n",
    "You are ready for **[Random Forests](https://www.kaggle.com/dansbecker/random-forests).**\n"
   ]
  },
  {
   "cell_type": "markdown",
   "id": "bdf1a920",
   "metadata": {
    "papermill": {
     "duration": 0.01265,
     "end_time": "2021-08-11T18:35:18.454210",
     "exception": false,
     "start_time": "2021-08-11T18:35:18.441560",
     "status": "completed"
    },
    "tags": []
   },
   "source": [
    "---\n",
    "\n",
    "\n",
    "\n",
    "\n",
    "*Have questions or comments? Visit the [Learn Discussion forum](https://www.kaggle.com/learn-forum/161285) to chat with other Learners.*"
   ]
  }
 ],
 "metadata": {
  "kernelspec": {
   "display_name": "Python 3",
   "language": "python",
   "name": "python3"
  },
  "language_info": {
   "codemirror_mode": {
    "name": "ipython",
    "version": 3
   },
   "file_extension": ".py",
   "mimetype": "text/x-python",
   "name": "python",
   "nbconvert_exporter": "python",
   "pygments_lexer": "ipython3",
   "version": "3.7.10"
  },
  "papermill": {
   "default_parameters": {},
   "duration": 12.922499,
   "end_time": "2021-08-11T18:35:20.453524",
   "environment_variables": {},
   "exception": null,
   "input_path": "__notebook__.ipynb",
   "output_path": "__notebook__.ipynb",
   "parameters": {},
   "start_time": "2021-08-11T18:35:07.531025",
   "version": "2.3.3"
  }
 },
 "nbformat": 4,
 "nbformat_minor": 5
}
