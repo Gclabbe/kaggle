{
 "cells": [
  {
   "cell_type": "markdown",
   "id": "b3628ecc",
   "metadata": {
    "papermill": {
     "duration": 0.01438,
     "end_time": "2021-08-10T17:02:40.340438",
     "exception": false,
     "start_time": "2021-08-10T17:02:40.326058",
     "status": "completed"
    },
    "tags": []
   },
   "source": [
    "**This notebook is an exercise in the [Introduction to Machine Learning](https://www.kaggle.com/learn/intro-to-machine-learning) course.  You can reference the tutorial at [this link](https://www.kaggle.com/dansbecker/model-validation).**\n",
    "\n",
    "---\n"
   ]
  },
  {
   "cell_type": "markdown",
   "id": "c4bb9f61",
   "metadata": {
    "papermill": {
     "duration": 0.013218,
     "end_time": "2021-08-10T17:02:40.367518",
     "exception": false,
     "start_time": "2021-08-10T17:02:40.354300",
     "status": "completed"
    },
    "tags": []
   },
   "source": [
    "## Recap\n",
    "You've built a model. In this exercise you will test how good your model is.\n",
    "\n",
    "Run the cell below to set up your coding environment where the previous exercise left off."
   ]
  },
  {
   "cell_type": "code",
   "execution_count": 1,
   "id": "2c6ca23d",
   "metadata": {
    "execution": {
     "iopub.execute_input": "2021-08-10T17:02:40.412447Z",
     "iopub.status.busy": "2021-08-10T17:02:40.411757Z",
     "iopub.status.idle": "2021-08-10T17:02:41.927193Z",
     "shell.execute_reply": "2021-08-10T17:02:41.926393Z",
     "shell.execute_reply.started": "2021-08-10T16:57:18.450462Z"
    },
    "papermill": {
     "duration": 1.545706,
     "end_time": "2021-08-10T17:02:41.927364",
     "exception": false,
     "start_time": "2021-08-10T17:02:40.381658",
     "status": "completed"
    },
    "tags": []
   },
   "outputs": [
    {
     "name": "stdout",
     "output_type": "stream",
     "text": [
      "First in-sample predictions: [208500. 181500. 223500. 140000. 250000.]\n",
      "Actual target values for those homes: [208500, 181500, 223500, 140000, 250000]\n",
      "Setup Complete\n"
     ]
    }
   ],
   "source": [
    "# Code you have previously used to load data\n",
    "import pandas as pd\n",
    "from sklearn.tree import DecisionTreeRegressor\n",
    "\n",
    "# Path of the file to read\n",
    "iowa_file_path = '../input/home-data-for-ml-course/train.csv'\n",
    "\n",
    "home_data = pd.read_csv(iowa_file_path)\n",
    "y = home_data.SalePrice\n",
    "\n",
    "feature_columns = ['LotArea', 'YearBuilt', '1stFlrSF', '2ndFlrSF', 'FullBath',\n",
    "                   'BedroomAbvGr', 'TotRmsAbvGrd']\n",
    "X = home_data[feature_columns]\n",
    "\n",
    "# Specify Model\n",
    "iowa_model = DecisionTreeRegressor()\n",
    "\n",
    "# Fit Model\n",
    "iowa_model.fit(X, y)\n",
    "\n",
    "print(\"First in-sample predictions:\", iowa_model.predict(X.head()))\n",
    "print(\"Actual target values for those homes:\", y.head().tolist())\n",
    "\n",
    "# Set up code checking\n",
    "from learntools.core import binder\n",
    "binder.bind(globals())\n",
    "from learntools.machine_learning.ex4 import *\n",
    "print(\"Setup Complete\")"
   ]
  },
  {
   "cell_type": "markdown",
   "id": "d41dabda",
   "metadata": {
    "papermill": {
     "duration": 0.01331,
     "end_time": "2021-08-10T17:02:41.954992",
     "exception": false,
     "start_time": "2021-08-10T17:02:41.941682",
     "status": "completed"
    },
    "tags": []
   },
   "source": [
    "# Exercises\n",
    "\n",
    "## Step 1: Split Your Data\n",
    "Use the `train_test_split` function to split up your data.\n",
    "\n",
    "Give it the argument `random_state=1` so the `check` functions know what to expect when verifying your code.\n",
    "\n",
    "Recall, your features are loaded in the DataFrame **X** and your target is loaded in **y**.\n"
   ]
  },
  {
   "cell_type": "code",
   "execution_count": 2,
   "id": "c5b7a7f7",
   "metadata": {
    "execution": {
     "iopub.execute_input": "2021-08-10T17:02:41.991226Z",
     "iopub.status.busy": "2021-08-10T17:02:41.990508Z",
     "iopub.status.idle": "2021-08-10T17:02:42.018594Z",
     "shell.execute_reply": "2021-08-10T17:02:42.019117Z",
     "shell.execute_reply.started": "2021-08-10T16:58:36.510523Z"
    },
    "papermill": {
     "duration": 0.050542,
     "end_time": "2021-08-10T17:02:42.019295",
     "exception": false,
     "start_time": "2021-08-10T17:02:41.968753",
     "status": "completed"
    },
    "tags": []
   },
   "outputs": [
    {
     "data": {
      "application/javascript": [
       "parent.postMessage({\"jupyterEvent\": \"custom.exercise_interaction\", \"data\": {\"outcomeType\": 1, \"valueTowardsCompletion\": 0.25, \"interactionType\": 1, \"questionType\": 2, \"questionId\": \"1_SplitData\", \"learnToolsVersion\": \"0.3.4\", \"failureMessage\": \"\", \"exceptionClass\": \"\", \"trace\": \"\"}}, \"*\")"
      ],
      "text/plain": [
       "<IPython.core.display.Javascript object>"
      ]
     },
     "metadata": {},
     "output_type": "display_data"
    },
    {
     "data": {
      "text/markdown": [
       "<span style=\"color:#33cc33\">Correct</span>"
      ],
      "text/plain": [
       "Correct"
      ]
     },
     "metadata": {},
     "output_type": "display_data"
    }
   ],
   "source": [
    "# Import the train_test_split function and uncomment\n",
    "from sklearn.model_selection import train_test_split\n",
    "\n",
    "# fill in and uncomment\n",
    "train_X, val_X, train_y, val_y = train_test_split(X, y, random_state=1)\n",
    "\n",
    "# Check your answer\n",
    "step_1.check()"
   ]
  },
  {
   "cell_type": "code",
   "execution_count": 3,
   "id": "3172f6c7",
   "metadata": {
    "execution": {
     "iopub.execute_input": "2021-08-10T17:02:42.052929Z",
     "iopub.status.busy": "2021-08-10T17:02:42.051979Z",
     "iopub.status.idle": "2021-08-10T17:02:42.055537Z",
     "shell.execute_reply": "2021-08-10T17:02:42.056126Z",
     "shell.execute_reply.started": "2021-08-10T16:58:42.076429Z"
    },
    "papermill": {
     "duration": 0.022234,
     "end_time": "2021-08-10T17:02:42.056310",
     "exception": false,
     "start_time": "2021-08-10T17:02:42.034076",
     "status": "completed"
    },
    "tags": []
   },
   "outputs": [],
   "source": [
    "# The lines below will show you a hint or the solution.\n",
    "# step_1.hint() \n",
    "# step_1.solution()\n"
   ]
  },
  {
   "cell_type": "markdown",
   "id": "53258833",
   "metadata": {
    "papermill": {
     "duration": 0.01482,
     "end_time": "2021-08-10T17:02:42.087255",
     "exception": false,
     "start_time": "2021-08-10T17:02:42.072435",
     "status": "completed"
    },
    "tags": []
   },
   "source": [
    "## Step 2: Specify and Fit the Model\n",
    "\n",
    "Create a `DecisionTreeRegressor` model and fit it to the relevant data.\n",
    "Set `random_state` to 1 again when creating the model."
   ]
  },
  {
   "cell_type": "code",
   "execution_count": 4,
   "id": "f78b6a9d",
   "metadata": {
    "execution": {
     "iopub.execute_input": "2021-08-10T17:02:42.120967Z",
     "iopub.status.busy": "2021-08-10T17:02:42.119845Z",
     "iopub.status.idle": "2021-08-10T17:02:42.151335Z",
     "shell.execute_reply": "2021-08-10T17:02:42.150771Z",
     "shell.execute_reply.started": "2021-08-10T16:59:31.115461Z"
    },
    "papermill": {
     "duration": 0.049364,
     "end_time": "2021-08-10T17:02:42.151475",
     "exception": false,
     "start_time": "2021-08-10T17:02:42.102111",
     "status": "completed"
    },
    "tags": []
   },
   "outputs": [
    {
     "name": "stdout",
     "output_type": "stream",
     "text": [
      "[186500. 184000. 130000.  92000. 164500. 220000. 335000. 144152. 215000.\n",
      " 262000.]\n",
      "[186500. 184000. 130000.  92000. 164500. 220000. 335000. 144152. 215000.\n",
      " 262000.]\n"
     ]
    },
    {
     "data": {
      "application/javascript": [
       "parent.postMessage({\"jupyterEvent\": \"custom.exercise_interaction\", \"data\": {\"outcomeType\": 1, \"valueTowardsCompletion\": 0.25, \"interactionType\": 1, \"questionType\": 2, \"questionId\": \"2_FitModelWithTrain\", \"learnToolsVersion\": \"0.3.4\", \"failureMessage\": \"\", \"exceptionClass\": \"\", \"trace\": \"\"}}, \"*\")"
      ],
      "text/plain": [
       "<IPython.core.display.Javascript object>"
      ]
     },
     "metadata": {},
     "output_type": "display_data"
    },
    {
     "data": {
      "text/markdown": [
       "<span style=\"color:#33cc33\">Correct</span>"
      ],
      "text/plain": [
       "Correct"
      ]
     },
     "metadata": {},
     "output_type": "display_data"
    }
   ],
   "source": [
    "# You imported DecisionTreeRegressor in your last exercise\n",
    "# and that code has been copied to the setup code above. So, no need to\n",
    "# import it again\n",
    "\n",
    "# Specify the model\n",
    "iowa_model = DecisionTreeRegressor(random_state=1)\n",
    "\n",
    "# Fit iowa_model with the training data.\n",
    "iowa_model.fit(train_X, train_y)\n",
    "\n",
    "# Check your answer\n",
    "step_2.check()"
   ]
  },
  {
   "cell_type": "code",
   "execution_count": 5,
   "id": "573927d4",
   "metadata": {
    "execution": {
     "iopub.execute_input": "2021-08-10T17:02:42.188887Z",
     "iopub.status.busy": "2021-08-10T17:02:42.187765Z",
     "iopub.status.idle": "2021-08-10T17:02:42.191118Z",
     "shell.execute_reply": "2021-08-10T17:02:42.190587Z",
     "shell.execute_reply.started": "2021-08-10T16:59:36.333977Z"
    },
    "papermill": {
     "duration": 0.023524,
     "end_time": "2021-08-10T17:02:42.191261",
     "exception": false,
     "start_time": "2021-08-10T17:02:42.167737",
     "status": "completed"
    },
    "tags": []
   },
   "outputs": [],
   "source": [
    "# step_2.hint()\n",
    "# step_2.solution()"
   ]
  },
  {
   "cell_type": "markdown",
   "id": "8caa0421",
   "metadata": {
    "papermill": {
     "duration": 0.015995,
     "end_time": "2021-08-10T17:02:42.223698",
     "exception": false,
     "start_time": "2021-08-10T17:02:42.207703",
     "status": "completed"
    },
    "tags": []
   },
   "source": [
    "## Step 3: Make Predictions with Validation data\n"
   ]
  },
  {
   "cell_type": "code",
   "execution_count": 6,
   "id": "88b6cafa",
   "metadata": {
    "execution": {
     "iopub.execute_input": "2021-08-10T17:02:42.265498Z",
     "iopub.status.busy": "2021-08-10T17:02:42.264524Z",
     "iopub.status.idle": "2021-08-10T17:02:42.272193Z",
     "shell.execute_reply": "2021-08-10T17:02:42.271484Z",
     "shell.execute_reply.started": "2021-08-10T17:00:00.203854Z"
    },
    "papermill": {
     "duration": 0.032441,
     "end_time": "2021-08-10T17:02:42.272365",
     "exception": false,
     "start_time": "2021-08-10T17:02:42.239924",
     "status": "completed"
    },
    "tags": []
   },
   "outputs": [
    {
     "data": {
      "application/javascript": [
       "parent.postMessage({\"jupyterEvent\": \"custom.exercise_interaction\", \"data\": {\"outcomeType\": 1, \"valueTowardsCompletion\": 0.25, \"interactionType\": 1, \"questionType\": 2, \"questionId\": \"3_ValPreds\", \"learnToolsVersion\": \"0.3.4\", \"failureMessage\": \"\", \"exceptionClass\": \"\", \"trace\": \"\"}}, \"*\")"
      ],
      "text/plain": [
       "<IPython.core.display.Javascript object>"
      ]
     },
     "metadata": {},
     "output_type": "display_data"
    },
    {
     "data": {
      "text/markdown": [
       "<span style=\"color:#33cc33\">Correct</span>"
      ],
      "text/plain": [
       "Correct"
      ]
     },
     "metadata": {},
     "output_type": "display_data"
    }
   ],
   "source": [
    "# Predict with all validation observations\n",
    "val_predictions = iowa_model.predict(val_X)\n",
    "\n",
    "# Check your answer\n",
    "step_3.check()"
   ]
  },
  {
   "cell_type": "code",
   "execution_count": 7,
   "id": "d69f45ee",
   "metadata": {
    "execution": {
     "iopub.execute_input": "2021-08-10T17:02:42.310318Z",
     "iopub.status.busy": "2021-08-10T17:02:42.309586Z",
     "iopub.status.idle": "2021-08-10T17:02:42.312695Z",
     "shell.execute_reply": "2021-08-10T17:02:42.313232Z",
     "shell.execute_reply.started": "2021-08-10T17:00:04.448018Z"
    },
    "papermill": {
     "duration": 0.023717,
     "end_time": "2021-08-10T17:02:42.313406",
     "exception": false,
     "start_time": "2021-08-10T17:02:42.289689",
     "status": "completed"
    },
    "tags": []
   },
   "outputs": [],
   "source": [
    "# step_3.hint()\n",
    "# step_3.solution()"
   ]
  },
  {
   "cell_type": "markdown",
   "id": "41b79683",
   "metadata": {
    "papermill": {
     "duration": 0.016832,
     "end_time": "2021-08-10T17:02:42.348197",
     "exception": false,
     "start_time": "2021-08-10T17:02:42.331365",
     "status": "completed"
    },
    "tags": []
   },
   "source": [
    "Inspect your predictions and actual values from validation data."
   ]
  },
  {
   "cell_type": "code",
   "execution_count": 8,
   "id": "75a19798",
   "metadata": {
    "execution": {
     "iopub.execute_input": "2021-08-10T17:02:42.385791Z",
     "iopub.status.busy": "2021-08-10T17:02:42.385129Z",
     "iopub.status.idle": "2021-08-10T17:02:42.393294Z",
     "shell.execute_reply": "2021-08-10T17:02:42.392520Z",
     "shell.execute_reply.started": "2021-08-10T17:00:29.593107Z"
    },
    "papermill": {
     "duration": 0.028086,
     "end_time": "2021-08-10T17:02:42.393482",
     "exception": false,
     "start_time": "2021-08-10T17:02:42.365396",
     "status": "completed"
    },
    "tags": []
   },
   "outputs": [
    {
     "name": "stdout",
     "output_type": "stream",
     "text": [
      "[186500. 184000. 130000.  92000. 164500. 220000. 335000. 144152. 215000.\n",
      " 262000.]\n",
      "258     231500\n",
      "267     179500\n",
      "288     122000\n",
      "649      84500\n",
      "1233    142000\n",
      "167     325624\n",
      "926     285000\n",
      "831     151000\n",
      "1237    195000\n",
      "426     275000\n",
      "Name: SalePrice, dtype: int64\n"
     ]
    }
   ],
   "source": [
    "# print the top few validation predictions\n",
    "print(val_predictions[:10])\n",
    "# print the top few actual prices from validation data\n",
    "print(val_y[:10])"
   ]
  },
  {
   "cell_type": "markdown",
   "id": "682d27d6",
   "metadata": {
    "papermill": {
     "duration": 0.017245,
     "end_time": "2021-08-10T17:02:42.428841",
     "exception": false,
     "start_time": "2021-08-10T17:02:42.411596",
     "status": "completed"
    },
    "tags": []
   },
   "source": [
    "What do you notice that is different from what you saw with in-sample predictions (which are printed after the top code cell in this page).\n",
    "\n",
    "Do you remember why validation predictions differ from in-sample (or training) predictions? This is an important idea from the last lesson.\n",
    "\n",
    "## Step 4: Calculate the Mean Absolute Error in Validation Data\n"
   ]
  },
  {
   "cell_type": "code",
   "execution_count": 9,
   "id": "7b8b5e72",
   "metadata": {
    "execution": {
     "iopub.execute_input": "2021-08-10T17:02:42.471346Z",
     "iopub.status.busy": "2021-08-10T17:02:42.470560Z",
     "iopub.status.idle": "2021-08-10T17:02:42.478333Z",
     "shell.execute_reply": "2021-08-10T17:02:42.477646Z",
     "shell.execute_reply.started": "2021-08-10T17:01:59.787126Z"
    },
    "papermill": {
     "duration": 0.032148,
     "end_time": "2021-08-10T17:02:42.478493",
     "exception": false,
     "start_time": "2021-08-10T17:02:42.446345",
     "status": "completed"
    },
    "tags": []
   },
   "outputs": [
    {
     "name": "stdout",
     "output_type": "stream",
     "text": [
      "29652.931506849316\n"
     ]
    },
    {
     "data": {
      "application/javascript": [
       "parent.postMessage({\"jupyterEvent\": \"custom.exercise_interaction\", \"data\": {\"outcomeType\": 1, \"valueTowardsCompletion\": 0.25, \"interactionType\": 1, \"questionType\": 1, \"questionId\": \"4_MAE\", \"learnToolsVersion\": \"0.3.4\", \"failureMessage\": \"\", \"exceptionClass\": \"\", \"trace\": \"\"}}, \"*\")"
      ],
      "text/plain": [
       "<IPython.core.display.Javascript object>"
      ]
     },
     "metadata": {},
     "output_type": "display_data"
    },
    {
     "data": {
      "text/markdown": [
       "<span style=\"color:#33cc33\">Correct</span>"
      ],
      "text/plain": [
       "Correct"
      ]
     },
     "metadata": {},
     "output_type": "display_data"
    }
   ],
   "source": [
    "from sklearn.metrics import mean_absolute_error\n",
    "val_mae = mean_absolute_error(val_y, val_predictions)\n",
    "\n",
    "# uncomment following line to see the validation_mae\n",
    "print(val_mae)\n",
    "\n",
    "# Check your answer\n",
    "step_4.check()"
   ]
  },
  {
   "cell_type": "code",
   "execution_count": 10,
   "id": "ee436954",
   "metadata": {
    "execution": {
     "iopub.execute_input": "2021-08-10T17:02:42.521074Z",
     "iopub.status.busy": "2021-08-10T17:02:42.520272Z",
     "iopub.status.idle": "2021-08-10T17:02:42.523269Z",
     "shell.execute_reply": "2021-08-10T17:02:42.522731Z"
    },
    "papermill": {
     "duration": 0.025705,
     "end_time": "2021-08-10T17:02:42.523407",
     "exception": false,
     "start_time": "2021-08-10T17:02:42.497702",
     "status": "completed"
    },
    "tags": []
   },
   "outputs": [],
   "source": [
    "# step_4.hint()\n",
    "# step_4.solution()"
   ]
  },
  {
   "cell_type": "markdown",
   "id": "06bd9e02",
   "metadata": {
    "papermill": {
     "duration": 0.018593,
     "end_time": "2021-08-10T17:02:42.561063",
     "exception": false,
     "start_time": "2021-08-10T17:02:42.542470",
     "status": "completed"
    },
    "tags": []
   },
   "source": [
    "Is that MAE good?  There isn't a general rule for what values are good that applies across applications. But you'll see how to use (and improve) this number in the next step.\n",
    "\n",
    "# Keep Going\n",
    "\n",
    "You are ready for **[Underfitting and Overfitting](https://www.kaggle.com/dansbecker/underfitting-and-overfitting).**\n"
   ]
  },
  {
   "cell_type": "markdown",
   "id": "53894423",
   "metadata": {
    "papermill": {
     "duration": 0.019212,
     "end_time": "2021-08-10T17:02:42.599136",
     "exception": false,
     "start_time": "2021-08-10T17:02:42.579924",
     "status": "completed"
    },
    "tags": []
   },
   "source": [
    "---\n",
    "\n",
    "\n",
    "\n",
    "\n",
    "*Have questions or comments? Visit the [Learn Discussion forum](https://www.kaggle.com/learn-forum/161285) to chat with other Learners.*"
   ]
  }
 ],
 "metadata": {
  "kernelspec": {
   "display_name": "Python 3",
   "language": "python",
   "name": "python3"
  },
  "language_info": {
   "codemirror_mode": {
    "name": "ipython",
    "version": 3
   },
   "file_extension": ".py",
   "mimetype": "text/x-python",
   "name": "python",
   "nbconvert_exporter": "python",
   "pygments_lexer": "ipython3",
   "version": "3.7.10"
  },
  "papermill": {
   "default_parameters": {},
   "duration": 11.42224,
   "end_time": "2021-08-10T17:02:43.328297",
   "environment_variables": {},
   "exception": null,
   "input_path": "__notebook__.ipynb",
   "output_path": "__notebook__.ipynb",
   "parameters": {},
   "start_time": "2021-08-10T17:02:31.906057",
   "version": "2.3.3"
  }
 },
 "nbformat": 4,
 "nbformat_minor": 5
}
