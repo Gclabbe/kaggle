{
 "cells": [
  {
   "cell_type": "markdown",
   "id": "dbdc5e98",
   "metadata": {
    "papermill": {
     "duration": 0.012371,
     "end_time": "2021-08-10T16:52:43.798897",
     "exception": false,
     "start_time": "2021-08-10T16:52:43.786526",
     "status": "completed"
    },
    "tags": []
   },
   "source": [
    "**This notebook is an exercise in the [Introduction to Machine Learning](https://www.kaggle.com/learn/intro-to-machine-learning) course.  You can reference the tutorial at [this link](https://www.kaggle.com/dansbecker/your-first-machine-learning-model).**\n",
    "\n",
    "---\n"
   ]
  },
  {
   "cell_type": "markdown",
   "id": "7dfdbc7c",
   "metadata": {
    "papermill": {
     "duration": 0.011071,
     "end_time": "2021-08-10T16:52:43.821781",
     "exception": false,
     "start_time": "2021-08-10T16:52:43.810710",
     "status": "completed"
    },
    "tags": []
   },
   "source": [
    "## Recap\n",
    "So far, you have loaded your data and reviewed it with the following code. Run this cell to set up your coding environment where the previous step left off."
   ]
  },
  {
   "cell_type": "code",
   "execution_count": 1,
   "id": "f1b9c1d8",
   "metadata": {
    "execution": {
     "iopub.execute_input": "2021-08-10T16:52:43.848220Z",
     "iopub.status.busy": "2021-08-10T16:52:43.847159Z",
     "iopub.status.idle": "2021-08-10T16:52:45.095369Z",
     "shell.execute_reply": "2021-08-10T16:52:45.096020Z",
     "shell.execute_reply.started": "2021-08-10T16:23:25.234276Z"
    },
    "papermill": {
     "duration": 1.263388,
     "end_time": "2021-08-10T16:52:45.096426",
     "exception": false,
     "start_time": "2021-08-10T16:52:43.833038",
     "status": "completed"
    },
    "tags": []
   },
   "outputs": [
    {
     "name": "stdout",
     "output_type": "stream",
     "text": [
      "Setup Complete\n"
     ]
    }
   ],
   "source": [
    "# Code you have previously used to load data\n",
    "import pandas as pd\n",
    "\n",
    "# Path of the file to read\n",
    "iowa_file_path = '../input/home-data-for-ml-course/train.csv'\n",
    "\n",
    "home_data = pd.read_csv(iowa_file_path)\n",
    "\n",
    "# Set up code checking\n",
    "from learntools.core import binder\n",
    "binder.bind(globals())\n",
    "from learntools.machine_learning.ex3 import *\n",
    "\n",
    "print(\"Setup Complete\")"
   ]
  },
  {
   "cell_type": "markdown",
   "id": "e507b1b3",
   "metadata": {
    "papermill": {
     "duration": 0.011149,
     "end_time": "2021-08-10T16:52:45.121461",
     "exception": false,
     "start_time": "2021-08-10T16:52:45.110312",
     "status": "completed"
    },
    "tags": []
   },
   "source": [
    "# Exercises\n",
    "\n",
    "## Step 1: Specify Prediction Target\n",
    "Select the target variable, which corresponds to the sales price. Save this to a new variable called `y`. You'll need to print a list of the columns to find the name of the column you need.\n"
   ]
  },
  {
   "cell_type": "code",
   "execution_count": 2,
   "id": "53eae22b",
   "metadata": {
    "execution": {
     "iopub.execute_input": "2021-08-10T16:52:45.147396Z",
     "iopub.status.busy": "2021-08-10T16:52:45.146792Z",
     "iopub.status.idle": "2021-08-10T16:52:45.154387Z",
     "shell.execute_reply": "2021-08-10T16:52:45.153173Z",
     "shell.execute_reply.started": "2021-08-10T16:27:25.232970Z"
    },
    "papermill": {
     "duration": 0.021732,
     "end_time": "2021-08-10T16:52:45.154587",
     "exception": false,
     "start_time": "2021-08-10T16:52:45.132855",
     "status": "completed"
    },
    "tags": []
   },
   "outputs": [
    {
     "name": "stdout",
     "output_type": "stream",
     "text": [
      "Index(['Id', 'MSSubClass', 'MSZoning', 'LotFrontage', 'LotArea', 'Street',\n",
      "       'Alley', 'LotShape', 'LandContour', 'Utilities', 'LotConfig',\n",
      "       'LandSlope', 'Neighborhood', 'Condition1', 'Condition2', 'BldgType',\n",
      "       'HouseStyle', 'OverallQual', 'OverallCond', 'YearBuilt', 'YearRemodAdd',\n",
      "       'RoofStyle', 'RoofMatl', 'Exterior1st', 'Exterior2nd', 'MasVnrType',\n",
      "       'MasVnrArea', 'ExterQual', 'ExterCond', 'Foundation', 'BsmtQual',\n",
      "       'BsmtCond', 'BsmtExposure', 'BsmtFinType1', 'BsmtFinSF1',\n",
      "       'BsmtFinType2', 'BsmtFinSF2', 'BsmtUnfSF', 'TotalBsmtSF', 'Heating',\n",
      "       'HeatingQC', 'CentralAir', 'Electrical', '1stFlrSF', '2ndFlrSF',\n",
      "       'LowQualFinSF', 'GrLivArea', 'BsmtFullBath', 'BsmtHalfBath', 'FullBath',\n",
      "       'HalfBath', 'BedroomAbvGr', 'KitchenAbvGr', 'KitchenQual',\n",
      "       'TotRmsAbvGrd', 'Functional', 'Fireplaces', 'FireplaceQu', 'GarageType',\n",
      "       'GarageYrBlt', 'GarageFinish', 'GarageCars', 'GarageArea', 'GarageQual',\n",
      "       'GarageCond', 'PavedDrive', 'WoodDeckSF', 'OpenPorchSF',\n",
      "       'EnclosedPorch', '3SsnPorch', 'ScreenPorch', 'PoolArea', 'PoolQC',\n",
      "       'Fence', 'MiscFeature', 'MiscVal', 'MoSold', 'YrSold', 'SaleType',\n",
      "       'SaleCondition', 'SalePrice'],\n",
      "      dtype='object')\n"
     ]
    }
   ],
   "source": [
    "# print the list of columns in the dataset to find the name of the prediction target\n",
    "print(home_data.columns)"
   ]
  },
  {
   "cell_type": "code",
   "execution_count": 3,
   "id": "b29ca884",
   "metadata": {
    "execution": {
     "iopub.execute_input": "2021-08-10T16:52:45.197117Z",
     "iopub.status.busy": "2021-08-10T16:52:45.196137Z",
     "iopub.status.idle": "2021-08-10T16:52:45.205298Z",
     "shell.execute_reply": "2021-08-10T16:52:45.205750Z",
     "shell.execute_reply.started": "2021-08-10T16:29:42.041108Z"
    },
    "papermill": {
     "duration": 0.03377,
     "end_time": "2021-08-10T16:52:45.205914",
     "exception": false,
     "start_time": "2021-08-10T16:52:45.172144",
     "status": "completed"
    },
    "tags": []
   },
   "outputs": [
    {
     "data": {
      "application/javascript": [
       "parent.postMessage({\"jupyterEvent\": \"custom.exercise_interaction\", \"data\": {\"outcomeType\": 1, \"valueTowardsCompletion\": 0.25, \"interactionType\": 1, \"questionType\": 2, \"questionId\": \"1_SetTarget\", \"learnToolsVersion\": \"0.3.4\", \"failureMessage\": \"\", \"exceptionClass\": \"\", \"trace\": \"\"}}, \"*\")"
      ],
      "text/plain": [
       "<IPython.core.display.Javascript object>"
      ]
     },
     "metadata": {},
     "output_type": "display_data"
    },
    {
     "data": {
      "text/markdown": [
       "<span style=\"color:#33cc33\">Correct</span>"
      ],
      "text/plain": [
       "Correct"
      ]
     },
     "metadata": {},
     "output_type": "display_data"
    }
   ],
   "source": [
    "y = home_data['SalePrice']\n",
    "\n",
    "# Check your answer\n",
    "step_1.check()"
   ]
  },
  {
   "cell_type": "code",
   "execution_count": 4,
   "id": "17747ede",
   "metadata": {
    "execution": {
     "iopub.execute_input": "2021-08-10T16:52:45.234595Z",
     "iopub.status.busy": "2021-08-10T16:52:45.233987Z",
     "iopub.status.idle": "2021-08-10T16:52:45.236834Z",
     "shell.execute_reply": "2021-08-10T16:52:45.237335Z",
     "shell.execute_reply.started": "2021-08-10T16:29:48.623465Z"
    },
    "papermill": {
     "duration": 0.018739,
     "end_time": "2021-08-10T16:52:45.237504",
     "exception": false,
     "start_time": "2021-08-10T16:52:45.218765",
     "status": "completed"
    },
    "tags": []
   },
   "outputs": [],
   "source": [
    "# The lines below will show you a hint or the solution.\n",
    "# step_1.hint() \n",
    "# step_1.solution()"
   ]
  },
  {
   "cell_type": "markdown",
   "id": "220868bf",
   "metadata": {
    "papermill": {
     "duration": 0.014737,
     "end_time": "2021-08-10T16:52:45.265287",
     "exception": false,
     "start_time": "2021-08-10T16:52:45.250550",
     "status": "completed"
    },
    "tags": []
   },
   "source": [
    "## Step 2: Create X\n",
    "Now you will create a DataFrame called `X` holding the predictive features.\n",
    "\n",
    "Since you want only some columns from the original data, you'll first create a list with the names of the columns you want in `X`.\n",
    "\n",
    "You'll use just the following columns in the list (you can copy and paste the whole list to save some typing, though you'll still need to add quotes):\n",
    "    * LotArea\n",
    "    * YearBuilt\n",
    "    * 1stFlrSF\n",
    "    * 2ndFlrSF\n",
    "    * FullBath\n",
    "    * BedroomAbvGr\n",
    "    * TotRmsAbvGrd\n",
    "\n",
    "After you've created that list of features, use it to create the DataFrame that you'll use to fit the model."
   ]
  },
  {
   "cell_type": "code",
   "execution_count": 5,
   "id": "e2ef1023",
   "metadata": {
    "execution": {
     "iopub.execute_input": "2021-08-10T16:52:45.301332Z",
     "iopub.status.busy": "2021-08-10T16:52:45.296134Z",
     "iopub.status.idle": "2021-08-10T16:52:45.308806Z",
     "shell.execute_reply": "2021-08-10T16:52:45.309479Z",
     "shell.execute_reply.started": "2021-08-10T16:31:14.250023Z"
    },
    "papermill": {
     "duration": 0.03015,
     "end_time": "2021-08-10T16:52:45.309695",
     "exception": false,
     "start_time": "2021-08-10T16:52:45.279545",
     "status": "completed"
    },
    "tags": []
   },
   "outputs": [
    {
     "data": {
      "application/javascript": [
       "parent.postMessage({\"jupyterEvent\": \"custom.exercise_interaction\", \"data\": {\"outcomeType\": 1, \"valueTowardsCompletion\": 0.25, \"interactionType\": 1, \"questionType\": 2, \"questionId\": \"2_SelectPredictionData\", \"learnToolsVersion\": \"0.3.4\", \"failureMessage\": \"\", \"exceptionClass\": \"\", \"trace\": \"\"}}, \"*\")"
      ],
      "text/plain": [
       "<IPython.core.display.Javascript object>"
      ]
     },
     "metadata": {},
     "output_type": "display_data"
    },
    {
     "data": {
      "text/markdown": [
       "<span style=\"color:#33cc33\">Correct</span>"
      ],
      "text/plain": [
       "Correct"
      ]
     },
     "metadata": {},
     "output_type": "display_data"
    }
   ],
   "source": [
    "# Create the list of features below\n",
    "feature_names = ['LotArea', 'YearBuilt', '1stFlrSF', '2ndFlrSF',\n",
    "                 'FullBath', 'BedroomAbvGr', 'TotRmsAbvGrd']\n",
    "\n",
    "# Select data corresponding to features in feature_names\n",
    "X = home_data[feature_names]\n",
    "\n",
    "# Check your answer\n",
    "step_2.check()"
   ]
  },
  {
   "cell_type": "code",
   "execution_count": 6,
   "id": "a27bd9ee",
   "metadata": {
    "execution": {
     "iopub.execute_input": "2021-08-10T16:52:45.342600Z",
     "iopub.status.busy": "2021-08-10T16:52:45.341614Z",
     "iopub.status.idle": "2021-08-10T16:52:45.345938Z",
     "shell.execute_reply": "2021-08-10T16:52:45.345368Z",
     "shell.execute_reply.started": "2021-08-10T16:31:17.281151Z"
    },
    "papermill": {
     "duration": 0.021309,
     "end_time": "2021-08-10T16:52:45.346068",
     "exception": false,
     "start_time": "2021-08-10T16:52:45.324759",
     "status": "completed"
    },
    "tags": []
   },
   "outputs": [],
   "source": [
    "# step_2.hint()\n",
    "# step_2.solution()"
   ]
  },
  {
   "cell_type": "markdown",
   "id": "ca7b1fe0",
   "metadata": {
    "papermill": {
     "duration": 0.013776,
     "end_time": "2021-08-10T16:52:45.373933",
     "exception": false,
     "start_time": "2021-08-10T16:52:45.360157",
     "status": "completed"
    },
    "tags": []
   },
   "source": [
    "## Review Data\n",
    "Before building a model, take a quick look at **X** to verify it looks sensible"
   ]
  },
  {
   "cell_type": "code",
   "execution_count": 7,
   "id": "8539d853",
   "metadata": {
    "execution": {
     "iopub.execute_input": "2021-08-10T16:52:45.411219Z",
     "iopub.status.busy": "2021-08-10T16:52:45.410297Z",
     "iopub.status.idle": "2021-08-10T16:52:45.437233Z",
     "shell.execute_reply": "2021-08-10T16:52:45.437846Z",
     "shell.execute_reply.started": "2021-08-10T16:31:49.171400Z"
    },
    "papermill": {
     "duration": 0.050364,
     "end_time": "2021-08-10T16:52:45.438080",
     "exception": false,
     "start_time": "2021-08-10T16:52:45.387716",
     "status": "completed"
    },
    "tags": []
   },
   "outputs": [
    {
     "name": "stdout",
     "output_type": "stream",
     "text": [
      "             LotArea    YearBuilt     1stFlrSF     2ndFlrSF     FullBath  \\\n",
      "count    1460.000000  1460.000000  1460.000000  1460.000000  1460.000000   \n",
      "mean    10516.828082  1971.267808  1162.626712   346.992466     1.565068   \n",
      "std      9981.264932    30.202904   386.587738   436.528436     0.550916   \n",
      "min      1300.000000  1872.000000   334.000000     0.000000     0.000000   \n",
      "25%      7553.500000  1954.000000   882.000000     0.000000     1.000000   \n",
      "50%      9478.500000  1973.000000  1087.000000     0.000000     2.000000   \n",
      "75%     11601.500000  2000.000000  1391.250000   728.000000     2.000000   \n",
      "max    215245.000000  2010.000000  4692.000000  2065.000000     3.000000   \n",
      "\n",
      "       BedroomAbvGr  TotRmsAbvGrd  \n",
      "count   1460.000000   1460.000000  \n",
      "mean       2.866438      6.517808  \n",
      "std        0.815778      1.625393  \n",
      "min        0.000000      2.000000  \n",
      "25%        2.000000      5.000000  \n",
      "50%        3.000000      6.000000  \n",
      "75%        3.000000      7.000000  \n",
      "max        8.000000     14.000000  \n",
      "   LotArea  YearBuilt  1stFlrSF  2ndFlrSF  FullBath  BedroomAbvGr  \\\n",
      "0     8450       2003       856       854         2             3   \n",
      "1     9600       1976      1262         0         2             3   \n",
      "2    11250       2001       920       866         2             3   \n",
      "3     9550       1915       961       756         1             3   \n",
      "4    14260       2000      1145      1053         2             4   \n",
      "\n",
      "   TotRmsAbvGrd  \n",
      "0             8  \n",
      "1             6  \n",
      "2             6  \n",
      "3             7  \n",
      "4             9  \n"
     ]
    }
   ],
   "source": [
    "# Review data\n",
    "# print description or statistics from X\n",
    "print(X.describe())\n",
    "\n",
    "# print the top few lines\n",
    "print(X.head())"
   ]
  },
  {
   "cell_type": "markdown",
   "id": "b5809bd0",
   "metadata": {
    "papermill": {
     "duration": 0.01348,
     "end_time": "2021-08-10T16:52:45.466184",
     "exception": false,
     "start_time": "2021-08-10T16:52:45.452704",
     "status": "completed"
    },
    "tags": []
   },
   "source": [
    "## Step 3: Specify and Fit Model\n",
    "Create a `DecisionTreeRegressor` and save it iowa_model. Ensure you've done the relevant import from sklearn to run this command.\n",
    "\n",
    "Then fit the model you just created using the data in `X` and `y` that you saved above."
   ]
  },
  {
   "cell_type": "code",
   "execution_count": 8,
   "id": "e49267f3",
   "metadata": {
    "execution": {
     "iopub.execute_input": "2021-08-10T16:52:45.496149Z",
     "iopub.status.busy": "2021-08-10T16:52:45.495604Z",
     "iopub.status.idle": "2021-08-10T16:52:45.513807Z",
     "shell.execute_reply": "2021-08-10T16:52:45.513316Z",
     "shell.execute_reply.started": "2021-08-10T16:49:48.050740Z"
    },
    "papermill": {
     "duration": 0.034032,
     "end_time": "2021-08-10T16:52:45.513945",
     "exception": false,
     "start_time": "2021-08-10T16:52:45.479913",
     "status": "completed"
    },
    "tags": []
   },
   "outputs": [
    {
     "data": {
      "application/javascript": [
       "parent.postMessage({\"jupyterEvent\": \"custom.exercise_interaction\", \"data\": {\"outcomeType\": 1, \"valueTowardsCompletion\": 0.25, \"interactionType\": 1, \"questionType\": 2, \"questionId\": \"3_CreateModel\", \"learnToolsVersion\": \"0.3.4\", \"failureMessage\": \"\", \"exceptionClass\": \"\", \"trace\": \"\"}}, \"*\")"
      ],
      "text/plain": [
       "<IPython.core.display.Javascript object>"
      ]
     },
     "metadata": {},
     "output_type": "display_data"
    },
    {
     "data": {
      "text/markdown": [
       "<span style=\"color:#33cc33\">Correct</span>"
      ],
      "text/plain": [
       "Correct"
      ]
     },
     "metadata": {},
     "output_type": "display_data"
    }
   ],
   "source": [
    "from sklearn.tree import DecisionTreeRegressor\n",
    "\n",
    "#specify the model. \n",
    "#For model reproducibility, set a numeric value for random_state when specifying the model\n",
    "iowa_model = DecisionTreeRegressor(random_state=42)\n",
    "\n",
    "# Fit the model\n",
    "iowa_model.fit(X, y)\n",
    "\n",
    "# Check your answer\n",
    "step_3.check()"
   ]
  },
  {
   "cell_type": "code",
   "execution_count": 9,
   "id": "0b4c8d1a",
   "metadata": {
    "execution": {
     "iopub.execute_input": "2021-08-10T16:52:45.546904Z",
     "iopub.status.busy": "2021-08-10T16:52:45.546341Z",
     "iopub.status.idle": "2021-08-10T16:52:45.549165Z",
     "shell.execute_reply": "2021-08-10T16:52:45.548694Z",
     "shell.execute_reply.started": "2021-08-10T16:49:50.790983Z"
    },
    "papermill": {
     "duration": 0.020976,
     "end_time": "2021-08-10T16:52:45.549310",
     "exception": false,
     "start_time": "2021-08-10T16:52:45.528334",
     "status": "completed"
    },
    "tags": []
   },
   "outputs": [],
   "source": [
    "# step_3.hint()\n",
    "# step_3.solution()"
   ]
  },
  {
   "cell_type": "markdown",
   "id": "7517d2d8",
   "metadata": {
    "papermill": {
     "duration": 0.014098,
     "end_time": "2021-08-10T16:52:45.577644",
     "exception": false,
     "start_time": "2021-08-10T16:52:45.563546",
     "status": "completed"
    },
    "tags": []
   },
   "source": [
    "## Step 4: Make Predictions\n",
    "Make predictions with the model's `predict` command using `X` as the data. Save the results to a variable called `predictions`."
   ]
  },
  {
   "cell_type": "code",
   "execution_count": 10,
   "id": "c6d4e8da",
   "metadata": {
    "execution": {
     "iopub.execute_input": "2021-08-10T16:52:45.612850Z",
     "iopub.status.busy": "2021-08-10T16:52:45.612280Z",
     "iopub.status.idle": "2021-08-10T16:52:45.622108Z",
     "shell.execute_reply": "2021-08-10T16:52:45.622583Z",
     "shell.execute_reply.started": "2021-08-10T16:50:17.648814Z"
    },
    "papermill": {
     "duration": 0.030641,
     "end_time": "2021-08-10T16:52:45.622755",
     "exception": false,
     "start_time": "2021-08-10T16:52:45.592114",
     "status": "completed"
    },
    "tags": []
   },
   "outputs": [
    {
     "name": "stdout",
     "output_type": "stream",
     "text": [
      "[208500. 181500. 223500. ... 266500. 142125. 147500.]\n"
     ]
    },
    {
     "data": {
      "application/javascript": [
       "parent.postMessage({\"jupyterEvent\": \"custom.exercise_interaction\", \"data\": {\"outcomeType\": 1, \"valueTowardsCompletion\": 0.25, \"interactionType\": 1, \"questionType\": 2, \"questionId\": \"4_MakePredictions\", \"learnToolsVersion\": \"0.3.4\", \"failureMessage\": \"\", \"exceptionClass\": \"\", \"trace\": \"\"}}, \"*\")"
      ],
      "text/plain": [
       "<IPython.core.display.Javascript object>"
      ]
     },
     "metadata": {},
     "output_type": "display_data"
    },
    {
     "data": {
      "text/markdown": [
       "<span style=\"color:#33cc33\">Correct</span>"
      ],
      "text/plain": [
       "Correct"
      ]
     },
     "metadata": {},
     "output_type": "display_data"
    }
   ],
   "source": [
    "predictions = iowa_model.predict(X)\n",
    "print(predictions)\n",
    "\n",
    "# Check your answer\n",
    "step_4.check()"
   ]
  },
  {
   "cell_type": "code",
   "execution_count": 11,
   "id": "925e49c8",
   "metadata": {
    "execution": {
     "iopub.execute_input": "2021-08-10T16:52:45.657815Z",
     "iopub.status.busy": "2021-08-10T16:52:45.656854Z",
     "iopub.status.idle": "2021-08-10T16:52:45.659964Z",
     "shell.execute_reply": "2021-08-10T16:52:45.659498Z",
     "shell.execute_reply.started": "2021-08-10T16:50:21.752852Z"
    },
    "papermill": {
     "duration": 0.022032,
     "end_time": "2021-08-10T16:52:45.660094",
     "exception": false,
     "start_time": "2021-08-10T16:52:45.638062",
     "status": "completed"
    },
    "tags": []
   },
   "outputs": [],
   "source": [
    "# step_4.hint()\n",
    "# step_4.solution()"
   ]
  },
  {
   "cell_type": "markdown",
   "id": "613aa64f",
   "metadata": {
    "papermill": {
     "duration": 0.015087,
     "end_time": "2021-08-10T16:52:45.690712",
     "exception": false,
     "start_time": "2021-08-10T16:52:45.675625",
     "status": "completed"
    },
    "tags": []
   },
   "source": [
    "## Think About Your Results\n",
    "\n",
    "Use the `head` method to compare the top few predictions to the actual home values (in `y`) for those same homes. Anything surprising?\n"
   ]
  },
  {
   "cell_type": "code",
   "execution_count": 12,
   "id": "22924e6b",
   "metadata": {
    "execution": {
     "iopub.execute_input": "2021-08-10T16:52:45.736702Z",
     "iopub.status.busy": "2021-08-10T16:52:45.735808Z",
     "iopub.status.idle": "2021-08-10T16:52:45.739646Z",
     "shell.execute_reply": "2021-08-10T16:52:45.740518Z",
     "shell.execute_reply.started": "2021-08-10T16:51:48.406499Z"
    },
    "papermill": {
     "duration": 0.031604,
     "end_time": "2021-08-10T16:52:45.740739",
     "exception": false,
     "start_time": "2021-08-10T16:52:45.709135",
     "status": "completed"
    },
    "tags": []
   },
   "outputs": [
    {
     "name": "stdout",
     "output_type": "stream",
     "text": [
      "[208500. 181500. 223500. 140000. 250000. 143000. 307000. 200000. 129900.\n",
      " 118000.]\n",
      "0    208500\n",
      "1    181500\n",
      "2    223500\n",
      "3    140000\n",
      "4    250000\n",
      "5    143000\n",
      "6    307000\n",
      "7    200000\n",
      "8    129900\n",
      "9    118000\n",
      "Name: SalePrice, dtype: int64\n"
     ]
    }
   ],
   "source": [
    "# You can write code in this cell\n",
    "print(predictions[:10])\n",
    "print(y[:10])"
   ]
  },
  {
   "cell_type": "markdown",
   "id": "a7d22f9e",
   "metadata": {
    "papermill": {
     "duration": 0.015249,
     "end_time": "2021-08-10T16:52:45.774331",
     "exception": false,
     "start_time": "2021-08-10T16:52:45.759082",
     "status": "completed"
    },
    "tags": []
   },
   "source": [
    "It's natural to ask how accurate the model's predictions will be and how you can improve that. That will be you're next step.\n",
    "\n",
    "# Keep Going\n",
    "\n",
    "You are ready for **[Model Validation](https://www.kaggle.com/dansbecker/model-validation).**\n"
   ]
  },
  {
   "cell_type": "markdown",
   "id": "fee0c767",
   "metadata": {
    "papermill": {
     "duration": 0.015346,
     "end_time": "2021-08-10T16:52:45.808638",
     "exception": false,
     "start_time": "2021-08-10T16:52:45.793292",
     "status": "completed"
    },
    "tags": []
   },
   "source": [
    "---\n",
    "\n",
    "\n",
    "\n",
    "\n",
    "*Have questions or comments? Visit the [Learn Discussion forum](https://www.kaggle.com/learn-forum/161285) to chat with other Learners.*"
   ]
  }
 ],
 "metadata": {
  "kernelspec": {
   "display_name": "Python 3",
   "language": "python",
   "name": "python3"
  },
  "language_info": {
   "codemirror_mode": {
    "name": "ipython",
    "version": 3
   },
   "file_extension": ".py",
   "mimetype": "text/x-python",
   "name": "python",
   "nbconvert_exporter": "python",
   "pygments_lexer": "ipython3",
   "version": "3.7.10"
  },
  "papermill": {
   "default_parameters": {},
   "duration": 9.614133,
   "end_time": "2021-08-10T16:52:46.533296",
   "environment_variables": {},
   "exception": null,
   "input_path": "__notebook__.ipynb",
   "output_path": "__notebook__.ipynb",
   "parameters": {},
   "start_time": "2021-08-10T16:52:36.919163",
   "version": "2.3.3"
  }
 },
 "nbformat": 4,
 "nbformat_minor": 5
}
