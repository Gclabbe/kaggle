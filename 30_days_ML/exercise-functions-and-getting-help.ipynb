{
 "cells": [
  {
   "cell_type": "markdown",
   "id": "1e62f614",
   "metadata": {
    "papermill": {
     "duration": 0.015048,
     "end_time": "2021-08-04T18:35:43.113535",
     "exception": false,
     "start_time": "2021-08-04T18:35:43.098487",
     "status": "completed"
    },
    "tags": []
   },
   "source": [
    "**This notebook is an exercise in the [Python](https://www.kaggle.com/learn/python) course.  You can reference the tutorial at [this link](https://www.kaggle.com/colinmorris/functions-and-getting-help).**\n",
    "\n",
    "---\n"
   ]
  },
  {
   "cell_type": "markdown",
   "id": "cfb22788",
   "metadata": {
    "papermill": {
     "duration": 0.013544,
     "end_time": "2021-08-04T18:35:43.141525",
     "exception": false,
     "start_time": "2021-08-04T18:35:43.127981",
     "status": "completed"
    },
    "tags": []
   },
   "source": [
    "Functions are powerful. Try writing some yourself.\n",
    "\n",
    "As before, don't forget to run the setup code below before jumping into question 1."
   ]
  },
  {
   "cell_type": "code",
   "execution_count": 1,
   "id": "0f5434b9",
   "metadata": {
    "_kg_hide-input": true,
    "_kg_hide-output": true,
    "execution": {
     "iopub.execute_input": "2021-08-04T18:35:43.174167Z",
     "iopub.status.busy": "2021-08-04T18:35:43.172989Z",
     "iopub.status.idle": "2021-08-04T18:35:43.308779Z",
     "shell.execute_reply": "2021-08-04T18:35:43.309321Z",
     "shell.execute_reply.started": "2021-08-04T18:30:23.476955Z"
    },
    "papermill": {
     "duration": 0.153467,
     "end_time": "2021-08-04T18:35:43.309608",
     "exception": false,
     "start_time": "2021-08-04T18:35:43.156141",
     "status": "completed"
    },
    "tags": []
   },
   "outputs": [
    {
     "name": "stdout",
     "output_type": "stream",
     "text": [
      "Setup complete.\n"
     ]
    }
   ],
   "source": [
    "# SETUP. You don't need to worry for now about what this code does or how it works.\n",
    "from learntools.core import binder; binder.bind(globals())\n",
    "from learntools.python.ex2 import *\n",
    "print('Setup complete.')"
   ]
  },
  {
   "cell_type": "markdown",
   "id": "3418c31a",
   "metadata": {
    "papermill": {
     "duration": 0.013906,
     "end_time": "2021-08-04T18:35:43.338380",
     "exception": false,
     "start_time": "2021-08-04T18:35:43.324474",
     "status": "completed"
    },
    "tags": []
   },
   "source": [
    "# 1.\n",
    "\n",
    "Complete the body of the following function according to its docstring.\n",
    "\n",
    "HINT: Python has a built-in function `round`."
   ]
  },
  {
   "cell_type": "code",
   "execution_count": 2,
   "id": "21568e97",
   "metadata": {
    "execution": {
     "iopub.execute_input": "2021-08-04T18:35:43.370734Z",
     "iopub.status.busy": "2021-08-04T18:35:43.369714Z",
     "iopub.status.idle": "2021-08-04T18:35:43.380090Z",
     "shell.execute_reply": "2021-08-04T18:35:43.380608Z",
     "shell.execute_reply.started": "2021-08-04T18:30:39.416032Z"
    },
    "papermill": {
     "duration": 0.028138,
     "end_time": "2021-08-04T18:35:43.380783",
     "exception": false,
     "start_time": "2021-08-04T18:35:43.352645",
     "status": "completed"
    },
    "tags": []
   },
   "outputs": [
    {
     "data": {
      "application/javascript": [
       "parent.postMessage({\"jupyterEvent\": \"custom.exercise_interaction\", \"data\": {\"outcomeType\": 1, \"valueTowardsCompletion\": 0.16666666666666666, \"interactionType\": 1, \"questionType\": 2, \"questionId\": \"1_RoundFunctionProblem\", \"learnToolsVersion\": \"0.3.4\", \"failureMessage\": \"\", \"exceptionClass\": \"\", \"trace\": \"\"}}, \"*\")"
      ],
      "text/plain": [
       "<IPython.core.display.Javascript object>"
      ]
     },
     "metadata": {},
     "output_type": "display_data"
    },
    {
     "data": {
      "text/markdown": [
       "<span style=\"color:#33cc33\">Correct</span>"
      ],
      "text/plain": [
       "Correct"
      ]
     },
     "metadata": {},
     "output_type": "display_data"
    }
   ],
   "source": [
    "def round_to_two_places(num):\n",
    "    \"\"\"Return the given number rounded to two decimal places. \n",
    "    \n",
    "    >>> round_to_two_places(3.14159)\n",
    "    3.14\n",
    "    \"\"\"\n",
    "    # Replace this body with your own code.\n",
    "    # (\"pass\" is a keyword that does literally nothing. We used it as a placeholder\n",
    "    # because after we begin a code block, Python requires at least one line of code)\n",
    "    return round(num, 2)\n",
    "\n",
    "# Check your answer\n",
    "q1.check()"
   ]
  },
  {
   "cell_type": "code",
   "execution_count": 3,
   "id": "b345332b",
   "metadata": {
    "execution": {
     "iopub.execute_input": "2021-08-04T18:35:43.414876Z",
     "iopub.status.busy": "2021-08-04T18:35:43.414219Z",
     "iopub.status.idle": "2021-08-04T18:35:43.418143Z",
     "shell.execute_reply": "2021-08-04T18:35:43.417484Z",
     "shell.execute_reply.started": "2021-08-04T18:30:44.049863Z"
    },
    "papermill": {
     "duration": 0.021951,
     "end_time": "2021-08-04T18:35:43.418294",
     "exception": false,
     "start_time": "2021-08-04T18:35:43.396343",
     "status": "completed"
    },
    "tags": []
   },
   "outputs": [],
   "source": [
    "# Uncomment the following for a hint\n",
    "#q1.hint()\n",
    "# Or uncomment the following to peek at the solution\n",
    "#q1.solution()"
   ]
  },
  {
   "cell_type": "markdown",
   "id": "4403b1a8",
   "metadata": {
    "papermill": {
     "duration": 0.015292,
     "end_time": "2021-08-04T18:35:43.449269",
     "exception": false,
     "start_time": "2021-08-04T18:35:43.433977",
     "status": "completed"
    },
    "tags": []
   },
   "source": [
    "# 2.\n",
    "The help for `round` says that `ndigits` (the second argument) may be negative.\n",
    "What do you think will happen when it is? Try some examples in the following cell."
   ]
  },
  {
   "cell_type": "code",
   "execution_count": 4,
   "id": "70b6ebfc",
   "metadata": {
    "execution": {
     "iopub.execute_input": "2021-08-04T18:35:43.486223Z",
     "iopub.status.busy": "2021-08-04T18:35:43.485347Z",
     "iopub.status.idle": "2021-08-04T18:35:43.489606Z",
     "shell.execute_reply": "2021-08-04T18:35:43.489007Z",
     "shell.execute_reply.started": "2021-08-04T18:32:18.204998Z"
    },
    "papermill": {
     "duration": 0.024774,
     "end_time": "2021-08-04T18:35:43.489736",
     "exception": false,
     "start_time": "2021-08-04T18:35:43.464962",
     "status": "completed"
    },
    "tags": []
   },
   "outputs": [
    {
     "data": {
      "text/plain": [
       "12300"
      ]
     },
     "execution_count": 4,
     "metadata": {},
     "output_type": "execute_result"
    }
   ],
   "source": [
    "round(12345, -2)"
   ]
  },
  {
   "cell_type": "markdown",
   "id": "b0d0442a",
   "metadata": {
    "papermill": {
     "duration": 0.015633,
     "end_time": "2021-08-04T18:35:43.521167",
     "exception": false,
     "start_time": "2021-08-04T18:35:43.505534",
     "status": "completed"
    },
    "tags": []
   },
   "source": [
    "Can you think of a case where this would be useful?  Once you're ready, run the code cell below to see the answer and to receive credit for completing the problem."
   ]
  },
  {
   "cell_type": "code",
   "execution_count": 5,
   "id": "b107f280",
   "metadata": {
    "execution": {
     "iopub.execute_input": "2021-08-04T18:35:43.557948Z",
     "iopub.status.busy": "2021-08-04T18:35:43.557178Z",
     "iopub.status.idle": "2021-08-04T18:35:43.563261Z",
     "shell.execute_reply": "2021-08-04T18:35:43.562620Z",
     "shell.execute_reply.started": "2021-08-04T18:32:22.216539Z"
    },
    "papermill": {
     "duration": 0.026499,
     "end_time": "2021-08-04T18:35:43.563396",
     "exception": false,
     "start_time": "2021-08-04T18:35:43.536897",
     "status": "completed"
    },
    "tags": []
   },
   "outputs": [
    {
     "data": {
      "application/javascript": [
       "parent.postMessage({\"jupyterEvent\": \"custom.exercise_interaction\", \"data\": {\"interactionType\": 3, \"questionType\": 4, \"questionId\": \"2_RoundNdigitsProblem\", \"learnToolsVersion\": \"0.3.4\", \"valueTowardsCompletion\": 0.0, \"failureMessage\": \"\", \"exceptionClass\": \"\", \"trace\": \"\", \"outcomeType\": 4}}, \"*\")"
      ],
      "text/plain": [
       "<IPython.core.display.Javascript object>"
      ]
     },
     "metadata": {},
     "output_type": "display_data"
    },
    {
     "data": {
      "text/markdown": [
       "<span style=\"color:#33cc99\">Solution:</span> As you've seen, `ndigits=-1` rounds to the nearest 10, `ndigits=-2` rounds to the nearest 100 and so on. Where might this be useful? Suppose we're dealing with large numbers:\n",
       "\n",
       "> The area of Finland is 338,424 km²  \n",
       "> The area of Greenland is 2,166,086 km²\n",
       "\n",
       "We probably don't care whether it's really 338,424, or 338,425, or 338,177. All those digits of accuracy are just distracting. We can chop them off by calling `round()` with `ndigits=-3`:\n",
       "\n",
       "> The area of Finland is 338,000 km²  \n",
       "> The area of Greenland is 2,166,000 km²\n",
       "\n",
       "(We'll talk about how we would get the commas later when we talk about string formatting :))\n"
      ],
      "text/plain": [
       "Solution: As you've seen, `ndigits=-1` rounds to the nearest 10, `ndigits=-2` rounds to the nearest 100 and so on. Where might this be useful? Suppose we're dealing with large numbers:\n",
       "\n",
       "> The area of Finland is 338,424 km²  \n",
       "> The area of Greenland is 2,166,086 km²\n",
       "\n",
       "We probably don't care whether it's really 338,424, or 338,425, or 338,177. All those digits of accuracy are just distracting. We can chop them off by calling `round()` with `ndigits=-3`:\n",
       "\n",
       "> The area of Finland is 338,000 km²  \n",
       "> The area of Greenland is 2,166,000 km²\n",
       "\n",
       "(We'll talk about how we would get the commas later when we talk about string formatting :))"
      ]
     },
     "metadata": {},
     "output_type": "display_data"
    }
   ],
   "source": [
    "# Check your answer (Run this code cell to receive credit!)\n",
    "q2.solution()"
   ]
  },
  {
   "cell_type": "markdown",
   "id": "5ec40048",
   "metadata": {
    "papermill": {
     "duration": 0.016453,
     "end_time": "2021-08-04T18:35:43.596779",
     "exception": false,
     "start_time": "2021-08-04T18:35:43.580326",
     "status": "completed"
    },
    "tags": []
   },
   "source": [
    "# 3.\n",
    "\n",
    "In the previous exercise, the candy-sharing friends Alice, Bob and Carol tried to split candies evenly. For the sake of their friendship, any candies left over would be smashed. For example, if they collectively bring home 91 candies, they'll take 30 each and smash 1.\n",
    "\n",
    "Below is a simple function that will calculate the number of candies to smash for *any* number of total candies.\n",
    "\n",
    "Modify it so that it optionally takes a second argument representing the number of friends the candies are being split between. If no second argument is provided, it should assume 3 friends, as before.\n",
    "\n",
    "Update the docstring to reflect this new behaviour."
   ]
  },
  {
   "cell_type": "code",
   "execution_count": 6,
   "id": "4b652b4b",
   "metadata": {
    "execution": {
     "iopub.execute_input": "2021-08-04T18:35:43.636120Z",
     "iopub.status.busy": "2021-08-04T18:35:43.635420Z",
     "iopub.status.idle": "2021-08-04T18:35:43.640056Z",
     "shell.execute_reply": "2021-08-04T18:35:43.640516Z",
     "shell.execute_reply.started": "2021-08-04T18:33:18.487885Z"
    },
    "papermill": {
     "duration": 0.027163,
     "end_time": "2021-08-04T18:35:43.640684",
     "exception": false,
     "start_time": "2021-08-04T18:35:43.613521",
     "status": "completed"
    },
    "tags": []
   },
   "outputs": [
    {
     "data": {
      "application/javascript": [
       "parent.postMessage({\"jupyterEvent\": \"custom.exercise_interaction\", \"data\": {\"outcomeType\": 1, \"valueTowardsCompletion\": 0.16666666666666666, \"interactionType\": 1, \"questionType\": 2, \"questionId\": \"3_CandySmashingFunctionProblem\", \"learnToolsVersion\": \"0.3.4\", \"failureMessage\": \"\", \"exceptionClass\": \"\", \"trace\": \"\"}}, \"*\")"
      ],
      "text/plain": [
       "<IPython.core.display.Javascript object>"
      ]
     },
     "metadata": {},
     "output_type": "display_data"
    },
    {
     "data": {
      "text/markdown": [
       "<span style=\"color:#33cc33\">Correct</span>"
      ],
      "text/plain": [
       "Correct"
      ]
     },
     "metadata": {},
     "output_type": "display_data"
    }
   ],
   "source": [
    "def to_smash(total_candies, num_friends=3):\n",
    "    \"\"\"Return the number of leftover candies that must be smashed after distributing\n",
    "    the given number of candies evenly between 3 friends.\n",
    "    \n",
    "    >>> to_smash(91)\n",
    "    1\n",
    "    \"\"\"\n",
    "    return total_candies % num_friends\n",
    "\n",
    "# Check your answer\n",
    "q3.check()"
   ]
  },
  {
   "cell_type": "code",
   "execution_count": 7,
   "id": "1f99b697",
   "metadata": {
    "execution": {
     "iopub.execute_input": "2021-08-04T18:35:43.681699Z",
     "iopub.status.busy": "2021-08-04T18:35:43.680752Z",
     "iopub.status.idle": "2021-08-04T18:35:43.683763Z",
     "shell.execute_reply": "2021-08-04T18:35:43.683121Z",
     "shell.execute_reply.started": "2021-08-04T18:33:23.795029Z"
    },
    "papermill": {
     "duration": 0.025455,
     "end_time": "2021-08-04T18:35:43.683925",
     "exception": false,
     "start_time": "2021-08-04T18:35:43.658470",
     "status": "completed"
    },
    "tags": []
   },
   "outputs": [],
   "source": [
    "#q3.hint()"
   ]
  },
  {
   "cell_type": "code",
   "execution_count": 8,
   "id": "cf1b6ecd",
   "metadata": {
    "execution": {
     "iopub.execute_input": "2021-08-04T18:35:43.723920Z",
     "iopub.status.busy": "2021-08-04T18:35:43.723242Z",
     "iopub.status.idle": "2021-08-04T18:35:43.726680Z",
     "shell.execute_reply": "2021-08-04T18:35:43.725896Z",
     "shell.execute_reply.started": "2021-08-04T18:33:24.115486Z"
    },
    "papermill": {
     "duration": 0.02496,
     "end_time": "2021-08-04T18:35:43.726841",
     "exception": false,
     "start_time": "2021-08-04T18:35:43.701881",
     "status": "completed"
    },
    "tags": []
   },
   "outputs": [],
   "source": [
    "#q3.solution()"
   ]
  },
  {
   "cell_type": "markdown",
   "id": "5567e1cf",
   "metadata": {
    "papermill": {
     "duration": 0.0174,
     "end_time": "2021-08-04T18:35:43.762294",
     "exception": false,
     "start_time": "2021-08-04T18:35:43.744894",
     "status": "completed"
    },
    "tags": []
   },
   "source": [
    "# 4. (Optional)\n",
    "\n",
    "It may not be fun, but reading and understanding error messages will be an important part of your Python career.\n",
    "\n",
    "Each code cell below contains some commented buggy code. For each cell...\n",
    "\n",
    "1. Read the code and predict what you think will happen when it's run.\n",
    "2. Then uncomment the code and run it to see what happens. (**Tip**: In the kernel editor, you can highlight several lines and press `ctrl`+`/` to toggle commenting.)\n",
    "3. Fix the code (so that it accomplishes its intended purpose without throwing an exception)\n",
    "\n",
    "<!-- TODO: should this be autochecked? Delta is probably pretty small. -->"
   ]
  },
  {
   "cell_type": "code",
   "execution_count": 9,
   "id": "f5b0fd69",
   "metadata": {
    "execution": {
     "iopub.execute_input": "2021-08-04T18:35:43.803710Z",
     "iopub.status.busy": "2021-08-04T18:35:43.803016Z",
     "iopub.status.idle": "2021-08-04T18:35:43.807005Z",
     "shell.execute_reply": "2021-08-04T18:35:43.806473Z",
     "shell.execute_reply.started": "2021-08-04T18:34:05.311689Z"
    },
    "papermill": {
     "duration": 0.027023,
     "end_time": "2021-08-04T18:35:43.807156",
     "exception": false,
     "start_time": "2021-08-04T18:35:43.780133",
     "status": "completed"
    },
    "tags": []
   },
   "outputs": [
    {
     "data": {
      "text/plain": [
       "10.0"
      ]
     },
     "execution_count": 9,
     "metadata": {},
     "output_type": "execute_result"
    }
   ],
   "source": [
    "round_to_two_places(9.9999)"
   ]
  },
  {
   "cell_type": "code",
   "execution_count": 10,
   "id": "1b14c9b5",
   "metadata": {
    "execution": {
     "iopub.execute_input": "2021-08-04T18:35:43.848710Z",
     "iopub.status.busy": "2021-08-04T18:35:43.847993Z",
     "iopub.status.idle": "2021-08-04T18:35:43.851713Z",
     "shell.execute_reply": "2021-08-04T18:35:43.851078Z",
     "shell.execute_reply.started": "2021-08-04T18:34:50.923229Z"
    },
    "papermill": {
     "duration": 0.026399,
     "end_time": "2021-08-04T18:35:43.851899",
     "exception": false,
     "start_time": "2021-08-04T18:35:43.825500",
     "status": "completed"
    },
    "tags": []
   },
   "outputs": [
    {
     "name": "stdout",
     "output_type": "stream",
     "text": [
      "5\n"
     ]
    }
   ],
   "source": [
    "x = -10\n",
    "y = 5\n",
    "# Which of the two variables above has the smallest absolute value?\n",
    "smallest_abs = min(abs(x), abs(y))\n",
    "print(smallest_abs)"
   ]
  },
  {
   "cell_type": "code",
   "execution_count": 11,
   "id": "6890efa3",
   "metadata": {
    "execution": {
     "iopub.execute_input": "2021-08-04T18:35:43.903043Z",
     "iopub.status.busy": "2021-08-04T18:35:43.902057Z",
     "iopub.status.idle": "2021-08-04T18:35:43.905649Z",
     "shell.execute_reply": "2021-08-04T18:35:43.906309Z",
     "shell.execute_reply.started": "2021-08-04T18:35:16.258380Z"
    },
    "papermill": {
     "duration": 0.03357,
     "end_time": "2021-08-04T18:35:43.906488",
     "exception": false,
     "start_time": "2021-08-04T18:35:43.872918",
     "status": "completed"
    },
    "tags": []
   },
   "outputs": [
    {
     "name": "stdout",
     "output_type": "stream",
     "text": [
      "5\n"
     ]
    }
   ],
   "source": [
    "def f(x):\n",
    "    y = abs(x)\n",
    "    return y\n",
    "\n",
    "print(f(5))"
   ]
  },
  {
   "cell_type": "markdown",
   "id": "14de09cf",
   "metadata": {
    "papermill": {
     "duration": 0.021439,
     "end_time": "2021-08-04T18:35:43.954656",
     "exception": false,
     "start_time": "2021-08-04T18:35:43.933217",
     "status": "completed"
    },
    "tags": []
   },
   "source": [
    "# Keep Going\n",
    "\n",
    "Nice job with the code. Next up, you'll learn about *conditionals*, which you'll need to **[write interesting programs](https://www.kaggle.com/colinmorris/booleans-and-conditionals)**. "
   ]
  },
  {
   "cell_type": "markdown",
   "id": "fd3a1a3c",
   "metadata": {
    "papermill": {
     "duration": 0.019477,
     "end_time": "2021-08-04T18:35:43.996441",
     "exception": false,
     "start_time": "2021-08-04T18:35:43.976964",
     "status": "completed"
    },
    "tags": []
   },
   "source": [
    "---\n",
    "\n",
    "\n",
    "\n",
    "\n",
    "*Have questions or comments? Visit the [Learn Discussion forum](https://www.kaggle.com/learn-forum/161283) to chat with other Learners.*"
   ]
  }
 ],
 "metadata": {
  "kernelspec": {
   "display_name": "Python 3",
   "language": "python",
   "name": "python3"
  },
  "language_info": {
   "codemirror_mode": {
    "name": "ipython",
    "version": 3
   },
   "file_extension": ".py",
   "mimetype": "text/x-python",
   "name": "python",
   "nbconvert_exporter": "python",
   "pygments_lexer": "ipython3",
   "version": "3.7.10"
  },
  "papermill": {
   "default_parameters": {},
   "duration": 9.613584,
   "end_time": "2021-08-04T18:35:44.624907",
   "environment_variables": {},
   "exception": null,
   "input_path": "__notebook__.ipynb",
   "output_path": "__notebook__.ipynb",
   "parameters": {},
   "start_time": "2021-08-04T18:35:35.011323",
   "version": "2.3.3"
  }
 },
 "nbformat": 4,
 "nbformat_minor": 5
}
