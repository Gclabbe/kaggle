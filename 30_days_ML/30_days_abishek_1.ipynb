{
 "cells": [
  {
   "cell_type": "markdown",
   "id": "d5369483-16ba-443d-bce7-35bbbf3ecb9c",
   "metadata": {},
   "source": [
    "# Intro to 4BAI Kaggle 30 days of ML competition\n",
    "\n",
    "## contributors\n",
    "* Labbe, Chris (gclabbe)\n",
    "\n",
    "### Notes\n",
    "It appears from online discussions that this particular data works better with CPU.  So, GPU is good for rapid iteration through options, however, final computations for submission need to be run on CPU which can take 30+ minutes depending on the number of folds.\n",
    "\n",
    "### Revisions\n",
    "* V5 - \n",
    "* V6 - 10-fold with params from raw GridSearchCV\n",
    "* V7 - failed compile because of grid search layout\n",
    "* V8 - need to remember to disable GPU in XGB when saving with CPU\n",
    "* V9 - 10-fold with params from tutorial ... this version\n",
    "* V10 - pulling in Tutorial 5 -- Blending\n",
    "\n",
    "### Plans\n",
    "* Tutorial 6 -- \n"
   ]
  },
  {
   "cell_type": "markdown",
   "id": "009c60a2-db7f-448a-98cc-e9c7456ae782",
   "metadata": {
    "tags": []
   },
   "source": [
    "Welcome to the **[30 Days of ML competition](https://www.kaggle.com/c/30-days-of-ml/overview)**!  In this notebook, you'll learn how to make your first submission.\n",
    "\n",
    "Before getting started, make your own editable copy of this notebook by clicking on the **Copy and Edit** button.\n",
    "\n",
    "# Step 1: Import helpful libraries\n",
    "\n",
    "We begin by importing the libraries we'll need.  Some of them will be familiar from the **[Intro to Machine Learning](https://www.kaggle.com/learn/intro-to-machine-learning)** course and the **[Intermediate Machine Learning](https://www.kaggle.com/learn/intermediate-machine-learning)** course."
   ]
  },
  {
   "cell_type": "markdown",
   "id": "72600a5a-c2f5-4c2c-b898-14f77c8eaf79",
   "metadata": {},
   "source": [
    "### This version of the notebook will follow the tutorials published by Abishek\n",
    "https://www.kaggle.com/abhishek/\n",
    "\n",
    "* part-1: Baseline"
   ]
  },
  {
   "cell_type": "markdown",
   "id": "9353dc2e-f071-430b-a714-9eddcfae6eb1",
   "metadata": {},
   "source": [
    "### Tensorflow\n",
    "Including GPU support - sometimes - having trouble keeping tf-gpu working in Anaconda on Windoze\n"
   ]
  },
  {
   "cell_type": "code",
   "execution_count": 13,
   "id": "7aed10f6-6d10-4e86-8111-9ff270d695d4",
   "metadata": {},
   "outputs": [
    {
     "name": "stdout",
     "output_type": "stream",
     "text": [
      "2.3.0\n",
      "Num GPUs Available:  0\n"
     ]
    }
   ],
   "source": [
    "import tensorflow as tf\n",
    "print(tf.__version__)\n",
    "\n",
    "config = tf.compat.v1.ConfigProto(\n",
    "    gpu_options=tf.compat.v1.GPUOptions(per_process_gpu_memory_fraction=0.8),\n",
    "    device_count={'GPU': 1},\n",
    "    # session = tf.compat.v1.Session(config=config) \n",
    "    # tf.compat.v1.keras.backend.set_session(session)\n",
    ")\n",
    "\n",
    "session = tf.compat.v1.Session(config=config)\n",
    "tf.compat.v1.keras.backend.set_session(session)\n",
    "\n",
    "print(\"Num GPUs Available: \", len(tf.config.list_physical_devices('GPU')))\n"
   ]
  },
  {
   "cell_type": "markdown",
   "id": "7aaa035e-98de-4558-8885-7b6146b948d8",
   "metadata": {
    "id": "JWibA4lcO-P-"
   },
   "source": [
    "### Import the necessary modules"
   ]
  },
  {
   "cell_type": "code",
   "execution_count": 14,
   "id": "d590d4a1-ce12-4a73-9751-72acedfcc795",
   "metadata": {},
   "outputs": [],
   "source": [
    "import time\n",
    "import os\n",
    "import numpy as np\n",
    "import pandas as pd\n",
    "from pathlib import Path\n",
    "\n",
    "# modules called out in part-1\n",
    "from sklearn import model_selection\n",
    "from sklearn.preprocessing import OrdinalEncoder\n",
    "from sklearn.model_selection import train_test_split\n",
    "from sklearn.metrics import mean_squared_error\n",
    "from sklearn import preprocessing\n",
    "\n",
    "\n",
    "# other modules from previous work\n",
    "# from sklearn.preprocessing import StandardScaler\n",
    "# from sklearn.decomposition import PCA\n",
    "# import statsmodels.api as sm\n",
    "# from sklearn.feature_selection import RFE\n",
    "# from sklearn.metrics import confusion_matrix\n",
    "\n",
    "# Regressors\n",
    "# from sklearn.ensemble import RandomForestClassifier\n",
    "from sklearn.linear_model import LinearRegression\n",
    "from xgboost import XGBRegressor\n",
    "# from lightgbm import LGBMRegressor\n",
    "# from sklearn.linear_model import RidgeCV, LassoCV, Ridge, Lasso\n",
    "from sklearn.model_selection import GridSearchCV\n",
    "from sklearn.pipeline import make_pipeline, Pipeline\n",
    "\n",
    "# visualization\n",
    "import matplotlib.pyplot as plt\n",
    "%matplotlib inline\n",
    "import seaborn as sns\n",
    "\n",
    "# suppress \"torch\" warning in TPOT and GridSearchCV warning\n",
    "import warnings\n",
    "warnings.filterwarnings('ignore')\n"
   ]
  },
  {
   "cell_type": "markdown",
   "id": "f42d614e-a197-40e9-b229-6f30a1c56ca0",
   "metadata": {},
   "source": [
    "# Step 2: Load the data\n",
    "\n",
    "Next, we'll load the training and test data.  \n",
    "\n",
    "We set `index_col=0` in the code cell below to use the `id` column to index the DataFrame.  (*If you're not sure how this works, try temporarily removing `index_col=0` and see how it changes the result.*)"
   ]
  },
  {
   "cell_type": "code",
   "execution_count": 15,
   "id": "68abc517-d3c9-464d-a232-d017268ae4d9",
   "metadata": {},
   "outputs": [],
   "source": [
    "# Load the training data\n",
    "path = \"\"  # \"../input/30-days-of-ml/\"\n",
    "\n",
    "df_train = pd.read_csv(f\"{path}train.csv\")\n",
    "df_test = pd.read_csv(f\"{path}test.csv\")\n",
    "sample_submission = pd.read_csv(f\"{path}sample_submission.csv\")\n"
   ]
  },
  {
   "cell_type": "markdown",
   "id": "0ed375f2-e010-4409-8775-48740142b3f6",
   "metadata": {},
   "source": [
    "# Step 3: Prepare the data\n",
    "\n",
    "Next, we'll need to handle the categorical columns (`cat0`, `cat1`, ... `cat9`).  \n",
    "\n",
    "In the **[Categorical Variables lesson](https://www.kaggle.com/alexisbcook/categorical-variables)** in the Intermediate Machine Learning course, you learned several different ways to encode categorical variables in a dataset.  In this notebook, we'll use ordinal encoding and save our encoded features as new variables `X` and `X_test`."
   ]
  },
  {
   "cell_type": "markdown",
   "id": "89221efc-e290-41e2-97b2-7f496ee0f60d",
   "metadata": {
    "tags": []
   },
   "source": [
    "### Implement KFold techniques\n",
    "posted in the discussions by KGM - Abishek Thakur\n"
   ]
  },
  {
   "cell_type": "code",
   "execution_count": 16,
   "id": "a7aadb21-c4c2-4891-9681-b63eb18dc776",
   "metadata": {},
   "outputs": [],
   "source": [
    "force_refold = True\n",
    "folds = 5\n",
    "\n",
    "# create train_folds.csv if it does not exist\n",
    "if not Path(\"train_folds.csv\").is_file() or force_refold==True:\n",
    "    df_train = pd.read_csv(f\"{path}train.csv\")\n",
    "    df_train[\"kfold\"] = -1\n",
    "\n",
    "    kf = model_selection.KFold(\n",
    "        n_splits=folds,\n",
    "        shuffle=True,\n",
    "        random_state=42\n",
    "    )\n",
    "\n",
    "    for fold, (train_indicies, valid_indicies) in enumerate(kf.split(X=df_train)):\n",
    "        df_train.loc[valid_indicies, \"kfold\"] = fold\n",
    "\n",
    "    df_train.to_csv(\"train_folds.csv\", index=False)\n",
    "\n",
    "df_train = pd.read_csv(f\"{path}train_folds.csv\")\n"
   ]
  },
  {
   "cell_type": "code",
   "execution_count": 17,
   "id": "50936020-5a27-47c9-81fe-8a171a6c589c",
   "metadata": {},
   "outputs": [
    {
     "name": "stdout",
     "output_type": "stream",
     "text": [
      "<bound method NDFrame.head of             id cat0 cat1 cat2 cat3 cat4 cat5 cat6 cat7 cat8  ...     cont6  \\\n",
      "0            1    B    B    B    C    B    B    A    E    C  ...  0.160266   \n",
      "1            2    B    B    A    A    B    D    A    F    A  ...  0.558922   \n",
      "2            3    A    A    A    C    B    D    A    D    A  ...  0.375348   \n",
      "3            4    B    B    A    C    B    D    A    E    C  ...  0.239061   \n",
      "4            6    A    A    A    C    B    D    A    E    A  ...  0.420667   \n",
      "...        ...  ...  ...  ...  ...  ...  ...  ...  ...  ...  ...       ...   \n",
      "299995  499993    B    B    A    A    B    D    A    E    A  ...  0.450538   \n",
      "299996  499996    A    B    A    C    B    B    A    E    E  ...  0.508502   \n",
      "299997  499997    B    B    A    C    B    C    A    E    G  ...  0.372425   \n",
      "299998  499998    A    B    A    C    B    B    A    E    E  ...  0.424243   \n",
      "299999  499999    A    A    A    C    A    D    A    E    A  ...  0.328669   \n",
      "\n",
      "           cont7     cont8     cont9    cont10    cont11    cont12    cont13  \\\n",
      "0       0.310921  0.389470  0.267559  0.237281  0.377873  0.322401  0.869850   \n",
      "1       0.516294  0.594928  0.341439  0.906013  0.921701  0.261975  0.465083   \n",
      "2       0.902567  0.555205  0.843531  0.748809  0.620126  0.541474  0.763846   \n",
      "3       0.732948  0.679618  0.574844  0.346010  0.714610  0.540150  0.280682   \n",
      "4       0.648182  0.684501  0.956692  1.000773  0.776742  0.625849  0.250823   \n",
      "...          ...       ...       ...       ...       ...       ...       ...   \n",
      "299995  0.934360  1.005077  0.853726  0.422541  1.063463  0.697685  0.506404   \n",
      "299996  0.358247  0.257825  0.433525  0.301015  0.268447  0.577055  0.823611   \n",
      "299997  0.364936  0.383224  0.551825  0.661007  0.629606  0.714139  0.245732   \n",
      "299998  0.382028  0.468819  0.351036  0.288768  0.611169  0.380254  0.332030   \n",
      "299999  0.789165  0.960406  0.776019  0.734707  0.484392  0.639754  0.689317   \n",
      "\n",
      "          target  kfold  \n",
      "0       8.113634      0  \n",
      "1       8.481233      2  \n",
      "2       8.364351      4  \n",
      "3       8.049253      3  \n",
      "4       7.972260      1  \n",
      "...          ...    ...  \n",
      "299995  7.945605      4  \n",
      "299996  7.326118      3  \n",
      "299997  8.706755      1  \n",
      "299998  7.229569      3  \n",
      "299999  8.631146      1  \n",
      "\n",
      "[300000 rows x 27 columns]>\n"
     ]
    }
   ],
   "source": [
    "print(df_train.head)"
   ]
  },
  {
   "cell_type": "markdown",
   "id": "04408cc6-8806-4874-8927-0be15937b49c",
   "metadata": {},
   "source": [
    "??? Why are we stripping test to only the catX columns ???"
   ]
  },
  {
   "cell_type": "code",
   "execution_count": 18,
   "id": "3fa171d6-20a6-42f7-aec0-d78ba9bb8696",
   "metadata": {},
   "outputs": [],
   "source": [
    "useful_features = [c for c in df_train.columns if c not in (\"id\", \"target\", \"kfold\")]\n",
    "# numerical_cols = [col for col in useful_features if col.startswith(\"cont\")]\n",
    "object_cols = [col for col in useful_features if 'cat' in col]\n",
    "\n",
    "df_test = df_test[useful_features]"
   ]
  },
  {
   "cell_type": "markdown",
   "id": "61ab88a0-429d-4ba1-8294-9bb54f96f1e3",
   "metadata": {},
   "source": [
    "## Feature encoding tests - Tutorial 2"
   ]
  },
  {
   "cell_type": "markdown",
   "id": "0a64939e-493a-4792-87dc-7df92cee63ea",
   "metadata": {},
   "source": [
    "### Log transformation"
   ]
  },
  {
   "cell_type": "code",
   "execution_count": 19,
   "id": "37b2697c-c03c-4a67-8f2f-fe32cba73473",
   "metadata": {},
   "outputs": [],
   "source": [
    "'''\n",
    "# 0.72562 std 0.00109\n",
    "for col in numerical_cols:\n",
    "    df_train[col] = np.log1p(df_train[col])\n",
    "    df_test[col] = np.log1p(df_test[col])\n",
    "'''\n",
    "\n",
    "pass"
   ]
  },
  {
   "cell_type": "markdown",
   "id": "06c82ef7-25d2-4197-9c52-4a88773a2a14",
   "metadata": {},
   "source": [
    "### Polynomial transformation"
   ]
  },
  {
   "cell_type": "code",
   "execution_count": 20,
   "id": "52af7a68-f6a2-470a-84e0-fcb3519e6a0e",
   "metadata": {},
   "outputs": [],
   "source": [
    "'''\n",
    "# 0.72963 std 0.00066\n",
    "poly = preprocessing.PolynomialFeatures(degree=3, interaction_only=True, include_bias=False)\n",
    "train_poly = poly.fit_transform(df[numerical_cols])\n",
    "test_poly = poly.fit_transform(df_test[numerical_cols])\n",
    "\n",
    "df_poly = pd.DataFrame(train_poly, columns=[f\"poly_{i}\" for i in range(train_poly.shape[1])])\n",
    "df_test_poly = pd.DataFrame(test_poly, columns=[f\"poly_{i}\" for i in range(test_poly.shape[1])])\n",
    "\n",
    "df = pd.concat([df, df_poly], axis=1)\n",
    "df_test = pd.concat([df_test, df_test_poly], axis=1)\n",
    "\n",
    "useful_features = [c for c in df.columns if c not in (\"id\", \"target\", \"kfold\")]\n",
    "object_cols = [col for col in useful_features if 'cat' in col]\n",
    "df_test = df_test[useful_features]\n",
    "'''\n",
    "\n",
    "pass"
   ]
  },
  {
   "cell_type": "markdown",
   "id": "8a27b7fb-c905-487d-b718-737bd973edeb",
   "metadata": {},
   "source": [
    "### Target Encoding (tutorial 3)"
   ]
  },
  {
   "cell_type": "code",
   "execution_count": 23,
   "id": "c8e45a6e-1482-4499-97fc-57e5f41d5dc6",
   "metadata": {},
   "outputs": [],
   "source": [
    "# target encoding - worse results in tutorial\n",
    "'''\n",
    "for col in object_cols:\n",
    "    temp_df = []\n",
    "    temp_test_feat = None\n",
    "    for fold in range(folds):\n",
    "        x_train = df_train[df_train.kfold != fold].reset_index(drop=True)\n",
    "        x_valid = df_train[df_train.kfold == fold].reset_index(drop=True)\n",
    "\n",
    "        feat = x_train.groupby(col)[\"target\"].agg(\"mean\")\n",
    "        feat = feat.to_dict()\n",
    "\n",
    "        x_valid.loc[:, f\"tar_enc_{col}\"] = x_valid[col].map(feat)\n",
    "        temp_df.append(x_valid)\n",
    "\n",
    "        if temp_test_feat is None:\n",
    "            temp_test_feat = df_test[col].map(feat)\n",
    "        else:\n",
    "            temp_test_feat += df_test[col].map(feat)\n",
    "\n",
    "    temp_test_feat /= folds\n",
    "    df_test.loc[:, f\"tar_enc_{col}\"] = temp_test_feat\n",
    "    df_train = pd.concat(temp_df)\n",
    "'''\n",
    "\n",
    "pass"
   ]
  },
  {
   "cell_type": "code",
   "execution_count": 24,
   "id": "04eb607c-2a9d-4e36-bfb3-4f2fdf008df5",
   "metadata": {},
   "outputs": [],
   "source": [
    "'''\n",
    "useful_features = [c for c in df_train.columns if c not in (\"id\", \"target\", \"kfold\")]\n",
    "# numerical_cols = [col for col in useful_features if col.startswith(\"cont\")]\n",
    "object_cols = [col for col in useful_features if 'cat' in col]\n",
    "\n",
    "df_test = df_test[useful_features]\n",
    "'''\n",
    "\n",
    "pass"
   ]
  },
  {
   "cell_type": "code",
   "execution_count": null,
   "id": "86ef2ec7-1818-491c-8791-bc14673234b1",
   "metadata": {},
   "outputs": [],
   "source": [
    "# target encoding\n",
    "for col in object_cols:\n",
    "    temp_df = []\n",
    "    temp_test_feat = None\n",
    "    for fold in range(folds):\n",
    "        x_train = df_train[df_train.kfold != fold].reset_index(drop=True)\n",
    "        x_valid = df_train[df_train.kfold == fold].reset_index(drop=True)\n",
    "\n",
    "        feat = x_train.groupby(col)[\"target\"].agg(\"mean\")\n",
    "        feat = feat.to_dict()\n",
    "\n",
    "        x_valid.loc[:, f\"tar_enc_{col}\"] = x_valid[col].map(feat)\n",
    "        temp_df.append(x_valid)\n",
    "\n",
    "        if temp_test_feat is None:\n",
    "            temp_test_feat = df_test[col].map(feat)\n",
    "        else:\n",
    "            temp_test_feat += df_test[col].map(feat)\n",
    "\n",
    "    temp_test_feat /= folds\n",
    "    df_test.loc[:, f\"tar_enc_{col}\"] = temp_test_feat\n",
    "    df_train = pd.concat(temp_df)"
   ]
  },
  {
   "cell_type": "code",
   "execution_count": null,
   "id": "fe9513cb-b153-45f9-8674-10f9c315734c",
   "metadata": {},
   "outputs": [],
   "source": [
    "useful_features = [c for c in df_train.columns if c not in (\"id\", \"target\", \"kfold\")]\n",
    "object_cols = [col for col in useful_features if col.startswith(\"cat\")]\n",
    "df_test = df_test[useful_features]\n"
   ]
  },
  {
   "cell_type": "markdown",
   "id": "97c0b3e5-23c5-4796-bdac-257b0b69913b",
   "metadata": {
    "tags": []
   },
   "source": [
    "# Step 4: Train a model\n",
    "\n",
    "Now that the data is prepared, the next step is to train a model.  \n",
    "\n",
    "If you took the **[Intro to Machine Learning](https://www.kaggle.com/learn/intro-to-machine-learning)** courses, then you learned about **[Random Forests](https://www.kaggle.com/dansbecker/random-forests)**.  In the code cell below, we fit a random forest model to the data."
   ]
  },
  {
   "cell_type": "code",
   "execution_count": 25,
   "id": "a79ba9af-45d8-469e-81ab-7568955f6df6",
   "metadata": {},
   "outputs": [
    {
     "name": "stdout",
     "output_type": "stream",
     "text": [
      "[0]\tvalidation_0-rmse:7.17497\n",
      "[1000]\tvalidation_0-rmse:0.71804\n",
      "[2000]\tvalidation_0-rmse:0.71613\n",
      "[3000]\tvalidation_0-rmse:0.71585\n",
      "[3015]\tvalidation_0-rmse:0.71585\n",
      "2.0464849710464477\n",
      "0 0.7157960351918344\n",
      "[0]\tvalidation_0-rmse:7.17166\n",
      "[1000]\tvalidation_0-rmse:0.71783\n",
      "[2000]\tvalidation_0-rmse:0.71600\n",
      "[2754]\tvalidation_0-rmse:0.71579\n",
      "1.8262253403663635\n",
      "1 0.7157692394517907\n",
      "[0]\tvalidation_0-rmse:7.16934\n",
      "[1000]\tvalidation_0-rmse:0.71965\n",
      "[2000]\tvalidation_0-rmse:0.71798\n",
      "[2507]\tvalidation_0-rmse:0.71796\n",
      "1.6707689960797627\n",
      "2 0.7179145769990651\n",
      "[0]\tvalidation_0-rmse:7.17163\n",
      "[1000]\tvalidation_0-rmse:0.71951\n",
      "[2000]\tvalidation_0-rmse:0.71787\n",
      "[2565]\tvalidation_0-rmse:0.71775\n",
      "1.7159351229667663\n",
      "3 0.7177345462518764\n",
      "[0]\tvalidation_0-rmse:7.17711\n",
      "[1000]\tvalidation_0-rmse:0.71840\n",
      "[2000]\tvalidation_0-rmse:0.71642\n",
      "[3000]\tvalidation_0-rmse:0.71612\n",
      "[3045]\tvalidation_0-rmse:0.71612\n",
      "2.0863810698191325\n",
      "4 0.7161071640206745\n",
      "\n",
      "Average MAE: 0.716664\n"
     ]
    }
   ],
   "source": [
    "final_test_predictions = []\n",
    "final_valid_predictions = {}\n",
    "scores = []\n",
    "\n",
    "for fold in range(folds):\n",
    "    x_train = df_train[df_train.kfold != fold].reset_index(drop=True)\n",
    "    x_valid = df_train[df_train.kfold == fold].reset_index(drop=True)\n",
    "    x_test = df_test.copy()\n",
    "\n",
    "    valid_ids = x_valid.id.values.tolist()\n",
    "\n",
    "    y_train = x_train.target\n",
    "    y_valid = x_valid.target\n",
    "\n",
    "    x_train = x_train[useful_features]\n",
    "    x_valid = x_valid[useful_features]\n",
    "\n",
    "    # encode categorical columns\n",
    "    ordinal_encoder = OrdinalEncoder()\n",
    "    x_train[object_cols] = ordinal_encoder.fit_transform(x_train[object_cols])\n",
    "    x_valid[object_cols] = ordinal_encoder.transform(x_valid[object_cols])\n",
    "    x_test[object_cols] = ordinal_encoder.transform(x_test[object_cols])\n",
    "\n",
    "    # standardize numerical columns\n",
    "    '''\n",
    "    # 0.725506 std 0.00119\n",
    "    scaler = preprocessing.StandardScaler()\n",
    "    x_train[numerical_cols] = scaler.fit_transform(x_train[numerical_cols])\n",
    "    x_valid[numerical_cols] = scaler.transform(x_valid[numerical_cols])\n",
    "    x_test[numerical_cols] = scaler.transform(x_test[numerical_cols])\n",
    "    '''\n",
    "\n",
    "    # binning of numerical features\n",
    "    '''\n",
    "    # 0.72550 std 0.00088\n",
    "    ohe = preprocessing.OneHotEncoder(sparse=False, handle_unknown=\"ignore\")\n",
    "    xtrain_ohe = ohe.fit_transform(xtrain[object_cols])\n",
    "    xvalid_ohe = ohe.transform(xvalid[object_cols])\n",
    "    xtest_ohe = ohe.transform(xtest[object_cols])\n",
    "\n",
    "    xtrain_ohe = pd.DataFrame(xtrain_ohe, columns=[f\"ohe_{i}\" for i in range(xtrain_ohe.shape[1])])\n",
    "    xvalid_ohe = pd.DataFrame(xvalid_ohe, columns=[f\"ohe_{i}\" for i in range(xvalid_ohe.shape[1])])\n",
    "    xtest_ohe = pd.DataFrame(xtest_ohe, columns=[f\"ohe_{i}\" for i in range(xtest_ohe.shape[1])])\n",
    "    '''\n",
    "\n",
    "    xgb_params_tutorial = {\n",
    "        'random_state': fold,\n",
    "        'n_jobs': -1,\n",
    "    }\n",
    "\n",
    "    xgb_params_from_gridsearch = {\n",
    "        'n_estimators': 5000,\n",
    "        'learning_rate': 0.07853392035787837,\n",
    "        'reg_lambda': 1.7549293092194938e-05,\n",
    "        'reg_alpha': 14.68267919457715,\n",
    "        'subsample': 0.8031450486786944,\n",
    "        'colsample_bytree': 0.170759104940733,\n",
    "        'max_depth': 3,\n",
    "        'booster': 'gbtree',\n",
    "        'random_state': 0,\n",
    "        'n_jobs': -1,\n",
    "        # 'gpu_id': 0,\n",
    "        # 'single_precision_histogram': True,\n",
    "        # 'tree_method': 'gpu_hist',\n",
    "        # 'predictor': 'gpu_predictor'\n",
    "    }\n",
    "\n",
    "    # xgb_model = XGBRegressor(**xgb_params_tutorial)\n",
    "    xgb_model = XGBRegressor(**xgb_params_from_gridsearch)\n",
    "\n",
    "    start = time.time()\n",
    "\n",
    "    xgb_model.fit(\n",
    "        x_train, y_train,\n",
    "        early_stopping_rounds=300,\n",
    "        eval_set=[(x_valid, y_valid)],\n",
    "        verbose=1000\n",
    "    )\n",
    "\n",
    "    print((time.time() - start) / 60.0)\n",
    "\n",
    "    preds_valid = xgb_model.predict(x_valid)\n",
    "    test_preds = xgb_model.predict(x_test)\n",
    "    final_predictions.append(test_preds)\n",
    "    final_valid_predictions.update(dict(zip(valid_ids, preds_valid)))\n",
    "    \n",
    "    mae = mean_squared_error(y_valid, preds_valid, squared=False)\n",
    "    scores.append(mae)\n",
    "\n",
    "    print(fold, mae)\n",
    "\n",
    "print(f\"\\nAverage MAE: {np.mean(scores) :0.6f}\\tStd: {np.std(scores) :0.4f}\")"
   ]
  },
  {
   "cell_type": "markdown",
   "id": "211d66c4-0151-4aff-a415-4d562c1d89e9",
   "metadata": {},
   "source": [
    "### Current best score\n",
    "    Local: 0.71668 (5-fold)\n",
    "    Kaggle-test: 0.716417 (CPU V9 10-fold, Abishek params)\n",
    "    Kaggle-result: 0.71751 (CPU V9 10-fold, Abishek params)\n",
    "\n",
    "K-Fold tutorial run as published results in:\n",
    "\n",
    "    avg ~= 0.725\n",
    "    \n",
    "With XGB params from Abishek lesson 4:\n",
    "\n",
    "    Local: 0.71668 (5-fold)\n",
    "    Kaggle-test: 0.717740 (GPU V7 10-fold)\n",
    "    Kagle-result: 0.71751 (CPU V9 10-fold)"
   ]
  },
  {
   "cell_type": "code",
   "execution_count": 11,
   "id": "f013181b-4e70-4cfc-bd48-6ca1371b8bbb",
   "metadata": {},
   "outputs": [],
   "source": [
    "preds = np.mean(np.column_stack(final_predictions), axis=1)"
   ]
  },
  {
   "cell_type": "code",
   "execution_count": null,
   "id": "122bea10-60b6-4bd5-b8f4-71e4bc075a52",
   "metadata": {},
   "outputs": [],
   "source": [
    "# sample_submission.target = preds\n",
    "# sample_submission.to_csv(\"submission.csv\", index=False)"
   ]
  },
  {
   "cell_type": "markdown",
   "id": "d83b982e-cf83-4be6-8daf-b9ad5a144062",
   "metadata": {
    "tags": []
   },
   "source": [
    "# Step 5: Submit to the competition\n",
    "\n",
    "We'll begin by using the trained model to generate predictions, which we'll save to a CSV file."
   ]
  },
  {
   "cell_type": "code",
   "execution_count": null,
   "id": "e49cd437-e84d-4de1-b71c-e853c970802c",
   "metadata": {},
   "outputs": [],
   "source": [
    "# Use the model to generate predictions\n",
    "predictions = model.predict(X_test)\n",
    "\n",
    "# Save the predictions to a CSV file\n",
    "output = pd.DataFrame({'Id': X_test.index,\n",
    "                       'target': predictions})\n",
    "\n",
    "output.to_csv('submission.csv', index=False)"
   ]
  }
 ],
 "metadata": {
  "kernelspec": {
   "display_name": "Python 3",
   "language": "python",
   "name": "python3"
  },
  "language_info": {
   "codemirror_mode": {
    "name": "ipython",
    "version": 3
   },
   "file_extension": ".py",
   "mimetype": "text/x-python",
   "name": "python",
   "nbconvert_exporter": "python",
   "pygments_lexer": "ipython3",
   "version": "3.8.11"
  }
 },
 "nbformat": 4,
 "nbformat_minor": 5
}
