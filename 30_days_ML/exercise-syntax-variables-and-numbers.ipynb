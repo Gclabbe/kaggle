{
 "cells": [
  {
   "cell_type": "markdown",
   "id": "3bb0be0b",
   "metadata": {
    "papermill": {
     "duration": 0.021696,
     "end_time": "2021-08-03T20:17:20.473686",
     "exception": false,
     "start_time": "2021-08-03T20:17:20.451990",
     "status": "completed"
    },
    "tags": []
   },
   "source": [
    "**This notebook is an exercise in the [Python](https://www.kaggle.com/learn/python) course.  You can reference the tutorial at [this link](https://www.kaggle.com/colinmorris/hello-python).**\n",
    "\n",
    "---\n"
   ]
  },
  {
   "cell_type": "markdown",
   "id": "4c2c70c6",
   "metadata": {
    "papermill": {
     "duration": 0.020031,
     "end_time": "2021-08-03T20:17:20.514206",
     "exception": false,
     "start_time": "2021-08-03T20:17:20.494175",
     "status": "completed"
    },
    "tags": []
   },
   "source": [
    "Welcome to your first set of Python coding problems.  If this is your first time using Kaggle Notebooks, welcome! \n",
    "\n",
    "Notebooks are composed of blocks (called \"cells\") of text and code. Each of these is editable, though you'll mainly be editing the code cells to answer some questions.\n",
    "\n",
    "To get started, try running the code cell below (by pressing the ► button, or clicking on the cell and pressing ctrl+enter on your keyboard)."
   ]
  },
  {
   "cell_type": "code",
   "execution_count": 1,
   "id": "6dcc9d2f",
   "metadata": {
    "execution": {
     "iopub.execute_input": "2021-08-03T20:17:20.568889Z",
     "iopub.status.busy": "2021-08-03T20:17:20.564345Z",
     "iopub.status.idle": "2021-08-03T20:17:20.572835Z",
     "shell.execute_reply": "2021-08-03T20:17:20.571932Z",
     "shell.execute_reply.started": "2021-08-03T20:10:41.702295Z"
    },
    "papermill": {
     "duration": 0.038462,
     "end_time": "2021-08-03T20:17:20.573058",
     "exception": false,
     "start_time": "2021-08-03T20:17:20.534596",
     "status": "completed"
    },
    "tags": []
   },
   "outputs": [
    {
     "name": "stdout",
     "output_type": "stream",
     "text": [
      "You've successfully run some Python code\n",
      "Congratulations!\n"
     ]
    }
   ],
   "source": [
    "print(\"You've successfully run some Python code\")\n",
    "print(\"Congratulations!\")"
   ]
  },
  {
   "cell_type": "markdown",
   "id": "3c66206e",
   "metadata": {
    "papermill": {
     "duration": 0.02027,
     "end_time": "2021-08-03T20:17:20.615681",
     "exception": false,
     "start_time": "2021-08-03T20:17:20.595411",
     "status": "completed"
    },
    "tags": []
   },
   "source": [
    "Try adding another line of code in the cell above and re-running it. \n",
    "\n",
    "Now let's get a little fancier:  Add a new code cell by clicking on an existing code cell, hitting the escape key, and then hitting the `a` or `b` key.  The `a` key will add a cell above the current cell, and `b` adds a cell below.\n",
    "\n",
    "Great! Now you know how to use Notebooks.\n",
    "\n",
    "Each hands-on exercise starts by setting up our feedback and code checking mechanism. Run the code cell below to do that. Then you'll be ready to move on to question 0."
   ]
  },
  {
   "cell_type": "code",
   "execution_count": 2,
   "id": "93b8f1a9",
   "metadata": {
    "_kg_hide-input": true,
    "_kg_hide-output": true,
    "execution": {
     "iopub.execute_input": "2021-08-03T20:17:20.662429Z",
     "iopub.status.busy": "2021-08-03T20:17:20.661728Z",
     "iopub.status.idle": "2021-08-03T20:17:20.815166Z",
     "shell.execute_reply": "2021-08-03T20:17:20.814537Z",
     "shell.execute_reply.started": "2021-08-03T20:10:48.588372Z"
    },
    "papermill": {
     "duration": 0.179233,
     "end_time": "2021-08-03T20:17:20.815340",
     "exception": false,
     "start_time": "2021-08-03T20:17:20.636107",
     "status": "completed"
    },
    "tags": []
   },
   "outputs": [
    {
     "name": "stdout",
     "output_type": "stream",
     "text": [
      "Setup complete! You're ready to start question 0.\n"
     ]
    }
   ],
   "source": [
    "from learntools.core import binder; binder.bind(globals())\n",
    "from learntools.python.ex1 import *\n",
    "print(\"Setup complete! You're ready to start question 0.\")"
   ]
  },
  {
   "cell_type": "markdown",
   "id": "34516819",
   "metadata": {
    "papermill": {
     "duration": 0.020702,
     "end_time": "2021-08-03T20:17:20.864183",
     "exception": false,
     "start_time": "2021-08-03T20:17:20.843481",
     "status": "completed"
    },
    "tags": []
   },
   "source": [
    "# 0.\n",
    "\n",
    "*This is a silly question intended as an introduction to the format we use for hands-on exercises throughout all Kaggle courses.*\n",
    "\n",
    "**What is your favorite color? **\n",
    "\n",
    "To complete this question, create a variable called `color` in the cell below with an appropriate value. The function call `q0.check()` (which we've already provided in the cell below) will check your answer."
   ]
  },
  {
   "cell_type": "code",
   "execution_count": 3,
   "id": "ea5acb0d",
   "metadata": {
    "execution": {
     "iopub.execute_input": "2021-08-03T20:17:20.913906Z",
     "iopub.status.busy": "2021-08-03T20:17:20.913113Z",
     "iopub.status.idle": "2021-08-03T20:17:20.918933Z",
     "shell.execute_reply": "2021-08-03T20:17:20.918295Z",
     "shell.execute_reply.started": "2021-08-03T20:12:56.902827Z"
    },
    "papermill": {
     "duration": 0.034228,
     "end_time": "2021-08-03T20:17:20.919070",
     "exception": false,
     "start_time": "2021-08-03T20:17:20.884842",
     "status": "completed"
    },
    "tags": []
   },
   "outputs": [
    {
     "data": {
      "application/javascript": [
       "parent.postMessage({\"jupyterEvent\": \"custom.exercise_interaction\", \"data\": {\"outcomeType\": 1, \"valueTowardsCompletion\": 0.25, \"interactionType\": 1, \"questionType\": 2, \"questionId\": \"0_ExerciseFormatTutorial\", \"learnToolsVersion\": \"0.3.4\", \"failureMessage\": \"\", \"exceptionClass\": \"\", \"trace\": \"\"}}, \"*\")"
      ],
      "text/plain": [
       "<IPython.core.display.Javascript object>"
      ]
     },
     "metadata": {},
     "output_type": "display_data"
    },
    {
     "data": {
      "text/markdown": [
       "<span style=\"color:#33cc33\">Correct:</span> What?! You got it right without needing a hint or anything? Drats. Well hey, you should still continue to the next step to get some practice asking for a hint and checking solutions. (Even though you obviously don't need any help here.)"
      ],
      "text/plain": [
       "Correct: What?! You got it right without needing a hint or anything? Drats. Well hey, you should still continue to the next step to get some practice asking for a hint and checking solutions. (Even though you obviously don't need any help here.)"
      ]
     },
     "metadata": {},
     "output_type": "display_data"
    }
   ],
   "source": [
    "# create a variable called color with an appropriate value on the line below\n",
    "# (Remember, strings in Python must be enclosed in 'single' or \"double\" quotes)\n",
    "____\n",
    "color = 'burnt orange'\n",
    "color = 'blue'\n",
    "\n",
    "# Check your answer\n",
    "q0.check()"
   ]
  },
  {
   "cell_type": "markdown",
   "id": "591910ac",
   "metadata": {
    "papermill": {
     "duration": 0.022409,
     "end_time": "2021-08-03T20:17:20.964148",
     "exception": false,
     "start_time": "2021-08-03T20:17:20.941739",
     "status": "completed"
    },
    "tags": []
   },
   "source": [
    "Didn't get the right answer? How do you not even know your own favorite color?!\n",
    "\n",
    "Delete the `#` in the line below to make one of the lines run. You can choose between getting a hint or the full answer by choosing which line to remove the `#` from. \n",
    "\n",
    "Removing the `#` is called uncommenting, because it changes that line from a \"comment\" which Python doesn't run to code, which Python does run."
   ]
  },
  {
   "cell_type": "code",
   "execution_count": 4,
   "id": "f810d6aa",
   "metadata": {
    "execution": {
     "iopub.execute_input": "2021-08-03T20:17:21.013569Z",
     "iopub.status.busy": "2021-08-03T20:17:21.012856Z",
     "iopub.status.idle": "2021-08-03T20:17:21.022274Z",
     "shell.execute_reply": "2021-08-03T20:17:21.021647Z",
     "shell.execute_reply.started": "2021-08-03T20:13:07.391887Z"
    },
    "papermill": {
     "duration": 0.036039,
     "end_time": "2021-08-03T20:17:21.022435",
     "exception": false,
     "start_time": "2021-08-03T20:17:20.986396",
     "status": "completed"
    },
    "tags": []
   },
   "outputs": [
    {
     "data": {
      "application/javascript": [
       "parent.postMessage({\"jupyterEvent\": \"custom.exercise_interaction\", \"data\": {\"interactionType\": 2, \"questionType\": 2, \"questionId\": \"0_ExerciseFormatTutorial\", \"learnToolsVersion\": \"0.3.4\", \"valueTowardsCompletion\": 0.0, \"failureMessage\": \"\", \"exceptionClass\": \"\", \"trace\": \"\", \"outcomeType\": 4}}, \"*\")"
      ],
      "text/plain": [
       "<IPython.core.display.Javascript object>"
      ]
     },
     "metadata": {},
     "output_type": "display_data"
    },
    {
     "data": {
      "text/markdown": [
       "<span style=\"color:#3366cc\">Hint:</span> Your favorite color rhymes with *glue*."
      ],
      "text/plain": [
       "Hint: Your favorite color rhymes with *glue*."
      ]
     },
     "metadata": {},
     "output_type": "display_data"
    },
    {
     "data": {
      "application/javascript": [
       "parent.postMessage({\"jupyterEvent\": \"custom.exercise_interaction\", \"data\": {\"interactionType\": 3, \"questionType\": 2, \"questionId\": \"0_ExerciseFormatTutorial\", \"learnToolsVersion\": \"0.3.4\", \"valueTowardsCompletion\": 0.0, \"failureMessage\": \"\", \"exceptionClass\": \"\", \"trace\": \"\", \"outcomeType\": 4}}, \"*\")"
      ],
      "text/plain": [
       "<IPython.core.display.Javascript object>"
      ]
     },
     "metadata": {},
     "output_type": "display_data"
    },
    {
     "data": {
      "text/markdown": [
       "<span style=\"color:#33cc99\">Solution:</span> \n",
       "```python\n",
       "color = \"blue\"\n",
       "```"
      ],
      "text/plain": [
       "Solution: \n",
       "```python\n",
       "color = \"blue\"\n",
       "```"
      ]
     },
     "metadata": {},
     "output_type": "display_data"
    }
   ],
   "source": [
    "q0.hint()\n",
    "q0.solution()"
   ]
  },
  {
   "cell_type": "markdown",
   "id": "d76ef476",
   "metadata": {
    "papermill": {
     "duration": 0.023936,
     "end_time": "2021-08-03T20:17:21.069919",
     "exception": false,
     "start_time": "2021-08-03T20:17:21.045983",
     "status": "completed"
    },
    "tags": []
   },
   "source": [
    "The upcoming questions work the same way. The only thing that will change are the question numbers. For the next question, you'll call `q1.check()`, `q1.hint()`, `q1.solution()`, for question 2, you'll call `q2.check()`, and so on."
   ]
  },
  {
   "cell_type": "markdown",
   "id": "fa854f08",
   "metadata": {
    "papermill": {
     "duration": 0.023438,
     "end_time": "2021-08-03T20:17:21.117129",
     "exception": false,
     "start_time": "2021-08-03T20:17:21.093691",
     "status": "completed"
    },
    "tags": []
   },
   "source": [
    "<hr/>\n",
    "\n",
    "# 1.\n",
    "\n",
    "Complete the code below. In case it's helpful, here is the table of available arithmetic operations:\n",
    "\n",
    "\n",
    "\n",
    "| Operator     | Name           | Description                                            |\n",
    "|--------------|----------------|--------------------------------------------------------|\n",
    "| ``a + b``    | Addition       | Sum of ``a`` and ``b``                                 |\n",
    "| ``a - b``    | Subtraction    | Difference of ``a`` and ``b``                          |\n",
    "| ``a * b``    | Multiplication | Product of ``a`` and ``b``                             |\n",
    "| ``a / b``    | True division  | Quotient of ``a`` and ``b``                            |\n",
    "| ``a // b``   | Floor division | Quotient of ``a`` and ``b``, removing fractional parts |\n",
    "| ``a % b``    | Modulus        | Integer remainder after division of ``a`` by ``b``     |\n",
    "| ``a ** b``   | Exponentiation | ``a`` raised to the power of ``b``                     |\n",
    "| ``-a``       | Negation       | The negative of ``a``                                  |\n",
    "\n",
    "<span style=\"display:none\"></span>\n"
   ]
  },
  {
   "cell_type": "code",
   "execution_count": 5,
   "id": "4c3ef620",
   "metadata": {
    "execution": {
     "iopub.execute_input": "2021-08-03T20:17:21.169680Z",
     "iopub.status.busy": "2021-08-03T20:17:21.168992Z",
     "iopub.status.idle": "2021-08-03T20:17:21.173851Z",
     "shell.execute_reply": "2021-08-03T20:17:21.174393Z",
     "shell.execute_reply.started": "2021-08-03T20:13:52.424989Z"
    },
    "papermill": {
     "duration": 0.033863,
     "end_time": "2021-08-03T20:17:21.174560",
     "exception": false,
     "start_time": "2021-08-03T20:17:21.140697",
     "status": "completed"
    },
    "tags": []
   },
   "outputs": [
    {
     "data": {
      "application/javascript": [
       "parent.postMessage({\"jupyterEvent\": \"custom.exercise_interaction\", \"data\": {\"outcomeType\": 1, \"valueTowardsCompletion\": 0.25, \"interactionType\": 1, \"questionType\": 1, \"questionId\": \"1_CircleArea\", \"learnToolsVersion\": \"0.3.4\", \"failureMessage\": \"\", \"exceptionClass\": \"\", \"trace\": \"\"}}, \"*\")"
      ],
      "text/plain": [
       "<IPython.core.display.Javascript object>"
      ]
     },
     "metadata": {},
     "output_type": "display_data"
    },
    {
     "data": {
      "text/markdown": [
       "<span style=\"color:#33cc33\">Correct</span>"
      ],
      "text/plain": [
       "Correct"
      ]
     },
     "metadata": {},
     "output_type": "display_data"
    }
   ],
   "source": [
    "pi = 3.14159 # approximate\n",
    "diameter = 3\n",
    "\n",
    "# Create a variable called 'radius' equal to half the diameter\n",
    "____\n",
    "radius = diameter / 2\n",
    "\n",
    "# Create a variable called 'area', using the formula for the area of a circle: pi times the radius squared\n",
    "____\n",
    "area = pi * radius**2\n",
    "\n",
    "# Check your answer\n",
    "q1.check()"
   ]
  },
  {
   "cell_type": "code",
   "execution_count": 6,
   "id": "adeb1a18",
   "metadata": {
    "execution": {
     "iopub.execute_input": "2021-08-03T20:17:21.227432Z",
     "iopub.status.busy": "2021-08-03T20:17:21.226758Z",
     "iopub.status.idle": "2021-08-03T20:17:21.229704Z",
     "shell.execute_reply": "2021-08-03T20:17:21.229161Z"
    },
    "papermill": {
     "duration": 0.030796,
     "end_time": "2021-08-03T20:17:21.229852",
     "exception": false,
     "start_time": "2021-08-03T20:17:21.199056",
     "status": "completed"
    },
    "tags": []
   },
   "outputs": [],
   "source": [
    "# Uncomment and run the lines below if you need help.\n",
    "#q1.hint()\n",
    "#q1.solution()"
   ]
  },
  {
   "cell_type": "markdown",
   "id": "66d6f835",
   "metadata": {
    "papermill": {
     "duration": 0.025271,
     "end_time": "2021-08-03T20:17:21.280765",
     "exception": false,
     "start_time": "2021-08-03T20:17:21.255494",
     "status": "completed"
    },
    "tags": []
   },
   "source": [
    "<hr/>\n",
    "\n",
    "# 2.\n",
    "\n",
    "Add code to the following cell to swap variables `a` and `b` (so that `a` refers to the object previously referred to by `b` and vice versa)."
   ]
  },
  {
   "cell_type": "code",
   "execution_count": 7,
   "id": "3276d0b4",
   "metadata": {
    "execution": {
     "iopub.execute_input": "2021-08-03T20:17:21.333592Z",
     "iopub.status.busy": "2021-08-03T20:17:21.332936Z",
     "iopub.status.idle": "2021-08-03T20:17:21.340162Z",
     "shell.execute_reply": "2021-08-03T20:17:21.340745Z",
     "shell.execute_reply.started": "2021-08-03T20:14:12.606791Z"
    },
    "papermill": {
     "duration": 0.035426,
     "end_time": "2021-08-03T20:17:21.340914",
     "exception": false,
     "start_time": "2021-08-03T20:17:21.305488",
     "status": "completed"
    },
    "tags": []
   },
   "outputs": [
    {
     "data": {
      "application/javascript": [
       "parent.postMessage({\"jupyterEvent\": \"custom.exercise_interaction\", \"data\": {\"outcomeType\": 1, \"valueTowardsCompletion\": 0.25, \"interactionType\": 1, \"questionType\": 2, \"questionId\": \"2_VariableSwap\", \"learnToolsVersion\": \"0.3.4\", \"failureMessage\": \"\", \"exceptionClass\": \"\", \"trace\": \"\"}}, \"*\")"
      ],
      "text/plain": [
       "<IPython.core.display.Javascript object>"
      ]
     },
     "metadata": {},
     "output_type": "display_data"
    },
    {
     "data": {
      "text/markdown": [
       "<span style=\"color:#33cc33\">Correct:</span> \n",
       "\n",
       "The most straightforward solution is to use a third variable to temporarily store one of the old values. e.g.:\n",
       "\n",
       "    tmp = a\n",
       "    a = b\n",
       "    b = tmp\n",
       "\n",
       "If you've read lots of Python code, you might have seen the following trick to swap two variables in one line:\n",
       "\n",
       "    a, b = b, a\n",
       "\n",
       "We'll demystify this bit of Python magic later when we talk about *tuples*."
      ],
      "text/plain": [
       "Correct: \n",
       "\n",
       "The most straightforward solution is to use a third variable to temporarily store one of the old values. e.g.:\n",
       "\n",
       "    tmp = a\n",
       "    a = b\n",
       "    b = tmp\n",
       "\n",
       "If you've read lots of Python code, you might have seen the following trick to swap two variables in one line:\n",
       "\n",
       "    a, b = b, a\n",
       "\n",
       "We'll demystify this bit of Python magic later when we talk about *tuples*."
      ]
     },
     "metadata": {},
     "output_type": "display_data"
    }
   ],
   "source": [
    "########### Setup code - don't touch this part ######################\n",
    "# If you're curious, these are examples of lists. We'll talk about \n",
    "# them in depth a few lessons from now. For now, just know that they're\n",
    "# yet another type of Python object, like int or float.\n",
    "a = [1, 2, 3]\n",
    "b = [3, 2, 1]\n",
    "q2.store_original_ids()\n",
    "######################################################################\n",
    "\n",
    "# Your code goes here. Swap the values to which a and b refer.\n",
    "# If you get stuck, you can always uncomment one or both of the lines in\n",
    "# the next cell for a hint, or to peek at the solution.\n",
    "\n",
    "a, b = b, a\n",
    "\n",
    "######################################################################\n",
    "\n",
    "# Check your answer\n",
    "q2.check()"
   ]
  },
  {
   "cell_type": "code",
   "execution_count": 8,
   "id": "94797675",
   "metadata": {
    "execution": {
     "iopub.execute_input": "2021-08-03T20:17:21.395702Z",
     "iopub.status.busy": "2021-08-03T20:17:21.394968Z",
     "iopub.status.idle": "2021-08-03T20:17:21.398891Z",
     "shell.execute_reply": "2021-08-03T20:17:21.398251Z"
    },
    "papermill": {
     "duration": 0.03246,
     "end_time": "2021-08-03T20:17:21.399030",
     "exception": false,
     "start_time": "2021-08-03T20:17:21.366570",
     "status": "completed"
    },
    "tags": []
   },
   "outputs": [],
   "source": [
    "#q2.hint()"
   ]
  },
  {
   "cell_type": "code",
   "execution_count": 9,
   "id": "cdb1d155",
   "metadata": {
    "execution": {
     "iopub.execute_input": "2021-08-03T20:17:21.454596Z",
     "iopub.status.busy": "2021-08-03T20:17:21.453928Z",
     "iopub.status.idle": "2021-08-03T20:17:21.457649Z",
     "shell.execute_reply": "2021-08-03T20:17:21.458168Z"
    },
    "papermill": {
     "duration": 0.033216,
     "end_time": "2021-08-03T20:17:21.458366",
     "exception": false,
     "start_time": "2021-08-03T20:17:21.425150",
     "status": "completed"
    },
    "tags": []
   },
   "outputs": [],
   "source": [
    "#q2.solution()"
   ]
  },
  {
   "cell_type": "markdown",
   "id": "6095f077",
   "metadata": {
    "papermill": {
     "duration": 0.025916,
     "end_time": "2021-08-03T20:17:21.510675",
     "exception": false,
     "start_time": "2021-08-03T20:17:21.484759",
     "status": "completed"
    },
    "tags": []
   },
   "source": [
    "<hr/>\n",
    "\n",
    "# 3a.\n",
    "\n",
    "Add parentheses to the following expression so that it evaluates to 1."
   ]
  },
  {
   "cell_type": "code",
   "execution_count": 10,
   "id": "229b29fb",
   "metadata": {
    "execution": {
     "iopub.execute_input": "2021-08-03T20:17:21.569078Z",
     "iopub.status.busy": "2021-08-03T20:17:21.568397Z",
     "iopub.status.idle": "2021-08-03T20:17:21.571686Z",
     "shell.execute_reply": "2021-08-03T20:17:21.572189Z",
     "shell.execute_reply.started": "2021-08-03T20:14:35.026439Z"
    },
    "papermill": {
     "duration": 0.035394,
     "end_time": "2021-08-03T20:17:21.572390",
     "exception": false,
     "start_time": "2021-08-03T20:17:21.536996",
     "status": "completed"
    },
    "tags": []
   },
   "outputs": [
    {
     "data": {
      "text/plain": [
       "1"
      ]
     },
     "execution_count": 10,
     "metadata": {},
     "output_type": "execute_result"
    }
   ],
   "source": [
    "(5 - 3) // 2"
   ]
  },
  {
   "cell_type": "code",
   "execution_count": 11,
   "id": "e404e52a",
   "metadata": {
    "execution": {
     "iopub.execute_input": "2021-08-03T20:17:21.628471Z",
     "iopub.status.busy": "2021-08-03T20:17:21.627743Z",
     "iopub.status.idle": "2021-08-03T20:17:21.631715Z",
     "shell.execute_reply": "2021-08-03T20:17:21.631075Z",
     "shell.execute_reply.started": "2021-08-03T20:14:38.348979Z"
    },
    "papermill": {
     "duration": 0.032872,
     "end_time": "2021-08-03T20:17:21.631871",
     "exception": false,
     "start_time": "2021-08-03T20:17:21.598999",
     "status": "completed"
    },
    "tags": []
   },
   "outputs": [],
   "source": [
    "#q3.a.hint()"
   ]
  },
  {
   "cell_type": "code",
   "execution_count": 12,
   "id": "0c05ca42",
   "metadata": {
    "execution": {
     "iopub.execute_input": "2021-08-03T20:17:21.690971Z",
     "iopub.status.busy": "2021-08-03T20:17:21.690221Z",
     "iopub.status.idle": "2021-08-03T20:17:21.694114Z",
     "shell.execute_reply": "2021-08-03T20:17:21.694650Z",
     "shell.execute_reply.started": "2021-08-03T20:14:39.635983Z"
    },
    "papermill": {
     "duration": 0.035673,
     "end_time": "2021-08-03T20:17:21.694836",
     "exception": false,
     "start_time": "2021-08-03T20:17:21.659163",
     "status": "completed"
    },
    "tags": []
   },
   "outputs": [
    {
     "data": {
      "application/javascript": [
       "parent.postMessage({\"jupyterEvent\": \"custom.exercise_interaction\", \"data\": {\"interactionType\": 3, \"questionType\": 4, \"questionId\": \"3.1_ArithmeticParensEasy\", \"learnToolsVersion\": \"0.3.4\", \"valueTowardsCompletion\": 0.0, \"failureMessage\": \"\", \"exceptionClass\": \"\", \"trace\": \"\", \"outcomeType\": 4}}, \"*\")"
      ],
      "text/plain": [
       "<IPython.core.display.Javascript object>"
      ]
     },
     "metadata": {},
     "output_type": "display_data"
    },
    {
     "data": {
      "text/markdown": [
       "<span style=\"color:#33cc99\">Solution:</span> \n",
       "```python\n",
       "(5 - 3) // 2\n",
       "```"
      ],
      "text/plain": [
       "Solution: \n",
       "```python\n",
       "(5 - 3) // 2\n",
       "```"
      ]
     },
     "metadata": {},
     "output_type": "display_data"
    }
   ],
   "source": [
    "# Check your answer (Run this code cell to receive credit!)\n",
    "q3.a.solution()"
   ]
  },
  {
   "cell_type": "markdown",
   "id": "84d10cc8",
   "metadata": {
    "papermill": {
     "duration": 0.026952,
     "end_time": "2021-08-03T20:17:21.750063",
     "exception": false,
     "start_time": "2021-08-03T20:17:21.723111",
     "status": "completed"
    },
    "tags": []
   },
   "source": [
    "# 3b.  <span title=\"A bit spicy\" style=\"color: darkgreen \">🌶️</span>\n",
    "\n",
    "<small>Questions, like this one, marked a spicy pepper are a bit harder.</small>\n",
    "\n",
    "Add parentheses to the following expression so that it evaluates to 0."
   ]
  },
  {
   "cell_type": "code",
   "execution_count": 13,
   "id": "350d321e",
   "metadata": {
    "execution": {
     "iopub.execute_input": "2021-08-03T20:17:21.809235Z",
     "iopub.status.busy": "2021-08-03T20:17:21.808580Z",
     "iopub.status.idle": "2021-08-03T20:17:21.813438Z",
     "shell.execute_reply": "2021-08-03T20:17:21.813936Z",
     "shell.execute_reply.started": "2021-08-03T20:15:14.504266Z"
    },
    "papermill": {
     "duration": 0.035533,
     "end_time": "2021-08-03T20:17:21.814126",
     "exception": false,
     "start_time": "2021-08-03T20:17:21.778593",
     "status": "completed"
    },
    "tags": []
   },
   "outputs": [
    {
     "data": {
      "text/plain": [
       "0"
      ]
     },
     "execution_count": 13,
     "metadata": {},
     "output_type": "execute_result"
    }
   ],
   "source": [
    "8 - 3 * 2 - (1 + 1)"
   ]
  },
  {
   "cell_type": "code",
   "execution_count": 14,
   "id": "2b072de2",
   "metadata": {
    "execution": {
     "iopub.execute_input": "2021-08-03T20:17:21.873799Z",
     "iopub.status.busy": "2021-08-03T20:17:21.873098Z",
     "iopub.status.idle": "2021-08-03T20:17:21.876342Z",
     "shell.execute_reply": "2021-08-03T20:17:21.876879Z",
     "shell.execute_reply.started": "2021-08-03T20:15:16.911090Z"
    },
    "papermill": {
     "duration": 0.034316,
     "end_time": "2021-08-03T20:17:21.877059",
     "exception": false,
     "start_time": "2021-08-03T20:17:21.842743",
     "status": "completed"
    },
    "tags": []
   },
   "outputs": [],
   "source": [
    "#q3.b.hint()"
   ]
  },
  {
   "cell_type": "code",
   "execution_count": 15,
   "id": "eba6391c",
   "metadata": {
    "execution": {
     "iopub.execute_input": "2021-08-03T20:17:21.936464Z",
     "iopub.status.busy": "2021-08-03T20:17:21.935477Z",
     "iopub.status.idle": "2021-08-03T20:17:21.943877Z",
     "shell.execute_reply": "2021-08-03T20:17:21.943339Z",
     "shell.execute_reply.started": "2021-08-03T20:15:17.300402Z"
    },
    "papermill": {
     "duration": 0.03897,
     "end_time": "2021-08-03T20:17:21.944023",
     "exception": false,
     "start_time": "2021-08-03T20:17:21.905053",
     "status": "completed"
    },
    "tags": []
   },
   "outputs": [
    {
     "data": {
      "application/javascript": [
       "parent.postMessage({\"jupyterEvent\": \"custom.exercise_interaction\", \"data\": {\"interactionType\": 3, \"questionType\": 4, \"questionId\": \"3.2_ArithmeticParensHard\", \"learnToolsVersion\": \"0.3.4\", \"valueTowardsCompletion\": 0.0, \"failureMessage\": \"\", \"exceptionClass\": \"\", \"trace\": \"\", \"outcomeType\": 4}}, \"*\")"
      ],
      "text/plain": [
       "<IPython.core.display.Javascript object>"
      ]
     },
     "metadata": {},
     "output_type": "display_data"
    },
    {
     "data": {
      "text/markdown": [
       "<span style=\"color:#33cc99\">Solution:</span> `(8 - 3) * (2 - (1 + 1))` is one solution. There may be others."
      ],
      "text/plain": [
       "Solution: `(8 - 3) * (2 - (1 + 1))` is one solution. There may be others."
      ]
     },
     "metadata": {},
     "output_type": "display_data"
    }
   ],
   "source": [
    "# Check your answer (Run this code cell to receive credit!)\n",
    "q3.b.solution()"
   ]
  },
  {
   "cell_type": "markdown",
   "id": "707dc466",
   "metadata": {
    "papermill": {
     "duration": 0.028359,
     "end_time": "2021-08-03T20:17:22.000987",
     "exception": false,
     "start_time": "2021-08-03T20:17:21.972628",
     "status": "completed"
    },
    "tags": []
   },
   "source": [
    "<hr/>\n",
    "\n",
    "# 4. \n",
    "Alice, Bob and Carol have agreed to pool their Halloween candy and split it evenly among themselves.\n",
    "For the sake of their friendship, any candies left over will be smashed. For example, if they collectively\n",
    "bring home 91 candies, they'll take 30 each and smash 1.\n",
    "\n",
    "Write an arithmetic expression below to calculate how many candies they must smash for a given haul."
   ]
  },
  {
   "cell_type": "code",
   "execution_count": 16,
   "id": "8326db5e",
   "metadata": {
    "execution": {
     "iopub.execute_input": "2021-08-03T20:17:22.065895Z",
     "iopub.status.busy": "2021-08-03T20:17:22.064890Z",
     "iopub.status.idle": "2021-08-03T20:17:22.073335Z",
     "shell.execute_reply": "2021-08-03T20:17:22.072651Z",
     "shell.execute_reply.started": "2021-08-03T20:16:48.584024Z"
    },
    "papermill": {
     "duration": 0.042736,
     "end_time": "2021-08-03T20:17:22.073481",
     "exception": false,
     "start_time": "2021-08-03T20:17:22.030745",
     "status": "completed"
    },
    "tags": []
   },
   "outputs": [
    {
     "name": "stdout",
     "output_type": "stream",
     "text": [
      "1\n"
     ]
    },
    {
     "data": {
      "application/javascript": [
       "parent.postMessage({\"jupyterEvent\": \"custom.exercise_interaction\", \"data\": {\"outcomeType\": 1, \"valueTowardsCompletion\": 0.25, \"interactionType\": 1, \"questionType\": 1, \"questionId\": \"4_CandySplitting\", \"learnToolsVersion\": \"0.3.4\", \"failureMessage\": \"\", \"exceptionClass\": \"\", \"trace\": \"\"}}, \"*\")"
      ],
      "text/plain": [
       "<IPython.core.display.Javascript object>"
      ]
     },
     "metadata": {},
     "output_type": "display_data"
    },
    {
     "data": {
      "text/markdown": [
       "<span style=\"color:#33cc33\">Correct</span>"
      ],
      "text/plain": [
       "Correct"
      ]
     },
     "metadata": {},
     "output_type": "display_data"
    }
   ],
   "source": [
    "# Variables representing the number of candies collected by alice, bob, and carol\n",
    "alice_candies = 121\n",
    "bob_candies = 77\n",
    "carol_candies = 109\n",
    "\n",
    "# Your code goes here! Replace the right-hand side of this assignment with an expression\n",
    "# involving alice_candies, bob_candies, and carol_candies\n",
    "to_smash = (alice_candies + bob_candies + carol_candies) % 3\n",
    "print(to_smash)\n",
    "\n",
    "# Check your answer\n",
    "q4.check()"
   ]
  },
  {
   "cell_type": "code",
   "execution_count": 17,
   "id": "bc589e2d",
   "metadata": {
    "execution": {
     "iopub.execute_input": "2021-08-03T20:17:22.136352Z",
     "iopub.status.busy": "2021-08-03T20:17:22.135672Z",
     "iopub.status.idle": "2021-08-03T20:17:22.139873Z",
     "shell.execute_reply": "2021-08-03T20:17:22.139360Z"
    },
    "papermill": {
     "duration": 0.036831,
     "end_time": "2021-08-03T20:17:22.140014",
     "exception": false,
     "start_time": "2021-08-03T20:17:22.103183",
     "status": "completed"
    },
    "tags": []
   },
   "outputs": [],
   "source": [
    "#q4.hint()\n",
    "#q4.solution()"
   ]
  },
  {
   "cell_type": "markdown",
   "id": "ded0be2e",
   "metadata": {
    "papermill": {
     "duration": 0.029426,
     "end_time": "2021-08-03T20:17:22.199455",
     "exception": false,
     "start_time": "2021-08-03T20:17:22.170029",
     "status": "completed"
    },
    "tags": []
   },
   "source": [
    "# Keep Going\n",
    "\n",
    "Next up, you'll **[learn to write new functions and understand functions others write](https://www.kaggle.com/colinmorris/functions-and-getting-help)**. This will make you at least 10 times more productive as a Python programmer. "
   ]
  },
  {
   "cell_type": "markdown",
   "id": "b320748b",
   "metadata": {
    "papermill": {
     "duration": 0.030263,
     "end_time": "2021-08-03T20:17:22.259536",
     "exception": false,
     "start_time": "2021-08-03T20:17:22.229273",
     "status": "completed"
    },
    "tags": []
   },
   "source": [
    "---\n",
    "\n",
    "\n",
    "\n",
    "\n",
    "*Have questions or comments? Visit the [Learn Discussion forum](https://www.kaggle.com/learn-forum/161283) to chat with other Learners.*"
   ]
  }
 ],
 "metadata": {
  "kernelspec": {
   "display_name": "Python 3",
   "language": "python",
   "name": "python3"
  },
  "language_info": {
   "codemirror_mode": {
    "name": "ipython",
    "version": 3
   },
   "file_extension": ".py",
   "mimetype": "text/x-python",
   "name": "python",
   "nbconvert_exporter": "python",
   "pygments_lexer": "ipython3",
   "version": "3.7.10"
  },
  "papermill": {
   "default_parameters": {},
   "duration": 11.793318,
   "end_time": "2021-08-03T20:17:23.757535",
   "environment_variables": {},
   "exception": null,
   "input_path": "__notebook__.ipynb",
   "output_path": "__notebook__.ipynb",
   "parameters": {},
   "start_time": "2021-08-03T20:17:11.964217",
   "version": "2.3.3"
  }
 },
 "nbformat": 4,
 "nbformat_minor": 5
}
