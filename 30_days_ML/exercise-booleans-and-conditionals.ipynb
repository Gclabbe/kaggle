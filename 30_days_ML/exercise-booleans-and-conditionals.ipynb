{
 "cells": [
  {
   "cell_type": "markdown",
   "id": "98a23a72",
   "metadata": {
    "papermill": {
     "duration": 0.022416,
     "end_time": "2021-08-05T18:32:21.779238",
     "exception": false,
     "start_time": "2021-08-05T18:32:21.756822",
     "status": "completed"
    },
    "tags": []
   },
   "source": [
    "**This notebook is an exercise in the [Python](https://www.kaggle.com/learn/python) course.  You can reference the tutorial at [this link](https://www.kaggle.com/colinmorris/booleans-and-conditionals).**\n",
    "\n",
    "---\n"
   ]
  },
  {
   "cell_type": "markdown",
   "id": "2a1add44",
   "metadata": {
    "papermill": {
     "duration": 0.020411,
     "end_time": "2021-08-05T18:32:21.821137",
     "exception": false,
     "start_time": "2021-08-05T18:32:21.800726",
     "status": "completed"
    },
    "tags": []
   },
   "source": [
    "In this exercise, you'll put to work what you have learned about booleans and conditionals.\n",
    "\n",
    "To get started, **run the setup code below** before writing your own code (and if you leave this notebook and come back later, don't forget to run the setup code again)."
   ]
  },
  {
   "cell_type": "code",
   "execution_count": 1,
   "id": "436aca6c",
   "metadata": {
    "execution": {
     "iopub.execute_input": "2021-08-05T18:32:21.866469Z",
     "iopub.status.busy": "2021-08-05T18:32:21.865451Z",
     "iopub.status.idle": "2021-08-05T18:32:21.990733Z",
     "shell.execute_reply": "2021-08-05T18:32:21.989818Z",
     "shell.execute_reply.started": "2021-08-05T17:55:18.338793Z"
    },
    "papermill": {
     "duration": 0.148984,
     "end_time": "2021-08-05T18:32:21.991014",
     "exception": false,
     "start_time": "2021-08-05T18:32:21.842030",
     "status": "completed"
    },
    "tags": []
   },
   "outputs": [
    {
     "name": "stdout",
     "output_type": "stream",
     "text": [
      "Setup complete.\n"
     ]
    }
   ],
   "source": [
    "from learntools.core import binder; binder.bind(globals())\n",
    "from learntools.python.ex3 import *\n",
    "print('Setup complete.')"
   ]
  },
  {
   "cell_type": "markdown",
   "id": "60db729c",
   "metadata": {
    "papermill": {
     "duration": 0.020749,
     "end_time": "2021-08-05T18:32:22.034185",
     "exception": false,
     "start_time": "2021-08-05T18:32:22.013436",
     "status": "completed"
    },
    "tags": []
   },
   "source": [
    "# 1.\n",
    "\n",
    "Many programming languages have [`sign`](https://en.wikipedia.org/wiki/Sign_function) available as a built-in function. Python doesn't, but we can define our own!\n",
    "\n",
    "In the cell below, define a function called `sign` which takes a numerical argument and returns -1 if it's negative, 1 if it's positive, and 0 if it's 0."
   ]
  },
  {
   "cell_type": "code",
   "execution_count": 2,
   "id": "3767e204",
   "metadata": {
    "execution": {
     "iopub.execute_input": "2021-08-05T18:32:22.082103Z",
     "iopub.status.busy": "2021-08-05T18:32:22.081165Z",
     "iopub.status.idle": "2021-08-05T18:32:22.088997Z",
     "shell.execute_reply": "2021-08-05T18:32:22.089476Z",
     "shell.execute_reply.started": "2021-08-05T17:55:24.578095Z"
    },
    "papermill": {
     "duration": 0.033945,
     "end_time": "2021-08-05T18:32:22.089636",
     "exception": false,
     "start_time": "2021-08-05T18:32:22.055691",
     "status": "completed"
    },
    "tags": []
   },
   "outputs": [
    {
     "data": {
      "application/javascript": [
       "parent.postMessage({\"jupyterEvent\": \"custom.exercise_interaction\", \"data\": {\"outcomeType\": 1, \"valueTowardsCompletion\": 0.2, \"interactionType\": 1, \"questionType\": 2, \"questionId\": \"1_SignFunctionProblem\", \"learnToolsVersion\": \"0.3.4\", \"failureMessage\": \"\", \"exceptionClass\": \"\", \"trace\": \"\"}}, \"*\")"
      ],
      "text/plain": [
       "<IPython.core.display.Javascript object>"
      ]
     },
     "metadata": {},
     "output_type": "display_data"
    },
    {
     "data": {
      "text/markdown": [
       "<span style=\"color:#33cc33\">Correct</span>"
      ],
      "text/plain": [
       "Correct"
      ]
     },
     "metadata": {},
     "output_type": "display_data"
    }
   ],
   "source": [
    "# Your code goes here. Define a function called 'sign'\n",
    "def sign(value):\n",
    "    if value == 0:\n",
    "        return 0\n",
    "    else:\n",
    "        return -1 if value < 0 else 1\n",
    "\n",
    "# Check your answer\n",
    "q1.check()"
   ]
  },
  {
   "cell_type": "code",
   "execution_count": 3,
   "id": "1f98565a",
   "metadata": {
    "execution": {
     "iopub.execute_input": "2021-08-05T18:32:22.138015Z",
     "iopub.status.busy": "2021-08-05T18:32:22.137131Z",
     "iopub.status.idle": "2021-08-05T18:32:22.140739Z",
     "shell.execute_reply": "2021-08-05T18:32:22.141137Z",
     "shell.execute_reply.started": "2021-08-05T17:55:26.758887Z"
    },
    "papermill": {
     "duration": 0.029563,
     "end_time": "2021-08-05T18:32:22.141307",
     "exception": false,
     "start_time": "2021-08-05T18:32:22.111744",
     "status": "completed"
    },
    "tags": []
   },
   "outputs": [],
   "source": [
    "# q1.solution()"
   ]
  },
  {
   "cell_type": "markdown",
   "id": "4615fb2a",
   "metadata": {
    "papermill": {
     "duration": 0.021556,
     "end_time": "2021-08-05T18:32:22.184850",
     "exception": false,
     "start_time": "2021-08-05T18:32:22.163294",
     "status": "completed"
    },
    "tags": []
   },
   "source": [
    "# 2.\n",
    "\n",
    "We've decided to add \"logging\" to our `to_smash` function from the previous exercise."
   ]
  },
  {
   "cell_type": "code",
   "execution_count": 4,
   "id": "31053204",
   "metadata": {
    "execution": {
     "iopub.execute_input": "2021-08-05T18:32:22.231817Z",
     "iopub.status.busy": "2021-08-05T18:32:22.230960Z",
     "iopub.status.idle": "2021-08-05T18:32:22.239293Z",
     "shell.execute_reply": "2021-08-05T18:32:22.238502Z",
     "shell.execute_reply.started": "2021-08-05T17:55:29.287868Z"
    },
    "papermill": {
     "duration": 0.032715,
     "end_time": "2021-08-05T18:32:22.239463",
     "exception": false,
     "start_time": "2021-08-05T18:32:22.206748",
     "status": "completed"
    },
    "tags": []
   },
   "outputs": [
    {
     "name": "stdout",
     "output_type": "stream",
     "text": [
      "Splitting 91 candies\n"
     ]
    },
    {
     "data": {
      "text/plain": [
       "1"
      ]
     },
     "execution_count": 4,
     "metadata": {},
     "output_type": "execute_result"
    }
   ],
   "source": [
    "def to_smash(total_candies):\n",
    "    \"\"\"Return the number of leftover candies that must be smashed after distributing\n",
    "    the given number of candies evenly between 3 friends.\n",
    "    \n",
    "    >>> to_smash(91)\n",
    "    1\n",
    "    \"\"\"\n",
    "    print(\"Splitting\", total_candies, \"candies\")\n",
    "    return total_candies % 3\n",
    "\n",
    "to_smash(91)"
   ]
  },
  {
   "cell_type": "markdown",
   "id": "cb66461f",
   "metadata": {
    "papermill": {
     "duration": 0.022114,
     "end_time": "2021-08-05T18:32:22.284402",
     "exception": false,
     "start_time": "2021-08-05T18:32:22.262288",
     "status": "completed"
    },
    "tags": []
   },
   "source": [
    "What happens if we call it with `total_candies = 1`?"
   ]
  },
  {
   "cell_type": "code",
   "execution_count": 5,
   "id": "3e9ec960",
   "metadata": {
    "execution": {
     "iopub.execute_input": "2021-08-05T18:32:22.334237Z",
     "iopub.status.busy": "2021-08-05T18:32:22.333328Z",
     "iopub.status.idle": "2021-08-05T18:32:22.337519Z",
     "shell.execute_reply": "2021-08-05T18:32:22.337959Z",
     "shell.execute_reply.started": "2021-08-05T17:55:32.415793Z"
    },
    "papermill": {
     "duration": 0.031362,
     "end_time": "2021-08-05T18:32:22.338114",
     "exception": false,
     "start_time": "2021-08-05T18:32:22.306752",
     "status": "completed"
    },
    "tags": []
   },
   "outputs": [
    {
     "name": "stdout",
     "output_type": "stream",
     "text": [
      "Splitting 1 candies\n"
     ]
    },
    {
     "data": {
      "text/plain": [
       "1"
      ]
     },
     "execution_count": 5,
     "metadata": {},
     "output_type": "execute_result"
    }
   ],
   "source": [
    "to_smash(1)"
   ]
  },
  {
   "cell_type": "markdown",
   "id": "78971ec4",
   "metadata": {
    "papermill": {
     "duration": 0.022583,
     "end_time": "2021-08-05T18:32:22.383454",
     "exception": false,
     "start_time": "2021-08-05T18:32:22.360871",
     "status": "completed"
    },
    "tags": []
   },
   "source": [
    "That isn't great grammar!\n",
    "\n",
    "Modify the definition in the cell below to correct the grammar of our print statement. (If there's only one candy, we should use the singular \"candy\" instead of the plural \"candies\")"
   ]
  },
  {
   "cell_type": "code",
   "execution_count": 6,
   "id": "40df3c23",
   "metadata": {
    "execution": {
     "iopub.execute_input": "2021-08-05T18:32:22.435318Z",
     "iopub.status.busy": "2021-08-05T18:32:22.434430Z",
     "iopub.status.idle": "2021-08-05T18:32:22.439571Z",
     "shell.execute_reply": "2021-08-05T18:32:22.438908Z",
     "shell.execute_reply.started": "2021-08-05T17:55:39.146239Z"
    },
    "papermill": {
     "duration": 0.033434,
     "end_time": "2021-08-05T18:32:22.439739",
     "exception": false,
     "start_time": "2021-08-05T18:32:22.406305",
     "status": "completed"
    },
    "tags": []
   },
   "outputs": [
    {
     "name": "stdout",
     "output_type": "stream",
     "text": [
      "Splitting 91 candies\n",
      "Splitting 1 candy\n"
     ]
    },
    {
     "data": {
      "text/plain": [
       "1"
      ]
     },
     "execution_count": 6,
     "metadata": {},
     "output_type": "execute_result"
    }
   ],
   "source": [
    "def to_smash(total_candies):\n",
    "    \"\"\"Return the number of leftover candies that must be smashed after distributing\n",
    "    the given number of candies evenly between 3 friends.\n",
    "    \n",
    "    >>> to_smash(91)\n",
    "    1\n",
    "    \"\"\"\n",
    "    \n",
    "    candy_word = 'candies' if total_candies > 1 else 'candy'\n",
    "    \n",
    "    print(f\"Splitting {total_candies} {candy_word}\")\n",
    "    return total_candies % 3\n",
    "\n",
    "to_smash(91)\n",
    "to_smash(1)"
   ]
  },
  {
   "cell_type": "markdown",
   "id": "2d3c0117",
   "metadata": {
    "papermill": {
     "duration": 0.023249,
     "end_time": "2021-08-05T18:32:22.487156",
     "exception": false,
     "start_time": "2021-08-05T18:32:22.463907",
     "status": "completed"
    },
    "tags": []
   },
   "source": [
    "To get credit for completing this problem, and to see the official answer, run the code cell below."
   ]
  },
  {
   "cell_type": "code",
   "execution_count": 7,
   "id": "eeb6a3e5",
   "metadata": {
    "execution": {
     "iopub.execute_input": "2021-08-05T18:32:22.538790Z",
     "iopub.status.busy": "2021-08-05T18:32:22.537953Z",
     "iopub.status.idle": "2021-08-05T18:32:22.543407Z",
     "shell.execute_reply": "2021-08-05T18:32:22.543942Z",
     "shell.execute_reply.started": "2021-08-05T17:55:42.223980Z"
    },
    "papermill": {
     "duration": 0.033712,
     "end_time": "2021-08-05T18:32:22.544108",
     "exception": false,
     "start_time": "2021-08-05T18:32:22.510396",
     "status": "completed"
    },
    "tags": []
   },
   "outputs": [
    {
     "data": {
      "application/javascript": [
       "parent.postMessage({\"jupyterEvent\": \"custom.exercise_interaction\", \"data\": {\"interactionType\": 3, \"questionType\": 4, \"questionId\": \"2_PluralizationProblem\", \"learnToolsVersion\": \"0.3.4\", \"valueTowardsCompletion\": 0.0, \"failureMessage\": \"\", \"exceptionClass\": \"\", \"trace\": \"\", \"outcomeType\": 4}}, \"*\")"
      ],
      "text/plain": [
       "<IPython.core.display.Javascript object>"
      ]
     },
     "metadata": {},
     "output_type": "display_data"
    },
    {
     "data": {
      "text/markdown": [
       "<span style=\"color:#33cc99\">Solution:</span> A straightforward (and totally fine) solution is to replace the original `print` call with:\n",
       "\n",
       "```python\n",
       "if total_candies == 1:\n",
       "    print(\"Splitting 1 candy\")\n",
       "else:\n",
       "    print(\"Splitting\", total_candies, \"candies\")\n",
       "```\n",
       "\n",
       "Here's a slightly more succinct solution using a conditional expression:\n",
       "\n",
       "```python\n",
       "print(\"Splitting\", total_candies, \"candy\" if total_candies == 1 else \"candies\")\n",
       "```"
      ],
      "text/plain": [
       "Solution: A straightforward (and totally fine) solution is to replace the original `print` call with:\n",
       "\n",
       "```python\n",
       "if total_candies == 1:\n",
       "    print(\"Splitting 1 candy\")\n",
       "else:\n",
       "    print(\"Splitting\", total_candies, \"candies\")\n",
       "```\n",
       "\n",
       "Here's a slightly more succinct solution using a conditional expression:\n",
       "\n",
       "```python\n",
       "print(\"Splitting\", total_candies, \"candy\" if total_candies == 1 else \"candies\")\n",
       "```"
      ]
     },
     "metadata": {},
     "output_type": "display_data"
    }
   ],
   "source": [
    "# Check your answer (Run this code cell to receive credit!)\n",
    "q2.solution()"
   ]
  },
  {
   "cell_type": "markdown",
   "id": "cd6998e7",
   "metadata": {
    "papermill": {
     "duration": 0.024369,
     "end_time": "2021-08-05T18:32:22.592789",
     "exception": false,
     "start_time": "2021-08-05T18:32:22.568420",
     "status": "completed"
    },
    "tags": []
   },
   "source": [
    "# 3. <span title=\"A bit spicy\" style=\"color: darkgreen \">🌶️</span>\n",
    "\n",
    "In the tutorial, we talked about deciding whether we're prepared for the weather. I said that I'm safe from today's weather if...\n",
    "- I have an umbrella...\n",
    "- or if the rain isn't too heavy and I have a hood...\n",
    "- otherwise, I'm still fine unless it's raining *and* it's a workday\n",
    "\n",
    "The function below uses our first attempt at turning this logic into a Python expression. I claimed that there was a bug in that code. Can you find it?\n",
    "\n",
    "To prove that `prepared_for_weather` is buggy, come up with a set of inputs where either:\n",
    "- the function returns `False` (but should have returned `True`), or\n",
    "- the function returned `True` (but should have returned `False`).\n",
    "\n",
    "To get credit for completing this question, your code should return a <font color='#33cc33'>Correct</font> result."
   ]
  },
  {
   "cell_type": "code",
   "execution_count": 8,
   "id": "1b7a8f12",
   "metadata": {
    "execution": {
     "iopub.execute_input": "2021-08-05T18:32:22.647352Z",
     "iopub.status.busy": "2021-08-05T18:32:22.646716Z",
     "iopub.status.idle": "2021-08-05T18:32:22.652333Z",
     "shell.execute_reply": "2021-08-05T18:32:22.652713Z",
     "shell.execute_reply.started": "2021-08-05T17:56:55.836488Z"
    },
    "papermill": {
     "duration": 0.035643,
     "end_time": "2021-08-05T18:32:22.652870",
     "exception": false,
     "start_time": "2021-08-05T18:32:22.617227",
     "status": "completed"
    },
    "tags": []
   },
   "outputs": [
    {
     "name": "stdout",
     "output_type": "stream",
     "text": [
      "False\n"
     ]
    },
    {
     "data": {
      "application/javascript": [
       "parent.postMessage({\"jupyterEvent\": \"custom.exercise_interaction\", \"data\": {\"outcomeType\": 1, \"valueTowardsCompletion\": 0.2, \"interactionType\": 1, \"questionType\": 1, \"questionId\": \"3_WeatherDebug\", \"learnToolsVersion\": \"0.3.4\", \"failureMessage\": \"\", \"exceptionClass\": \"\", \"trace\": \"\"}}, \"*\")"
      ],
      "text/plain": [
       "<IPython.core.display.Javascript object>"
      ]
     },
     "metadata": {},
     "output_type": "display_data"
    },
    {
     "data": {
      "text/markdown": [
       "<span style=\"color:#33cc33\">Correct:</span> \n",
       "\n",
       "One example of a failing test case is:\n",
       "\n",
       "```python\n",
       "have_umbrella = False\n",
       "rain_level = 0.0\n",
       "have_hood = False\n",
       "is_workday = False\n",
       "```\n",
       "\n",
       "Clearly we're prepared for the weather in this case. It's not raining. Not only that, it's not a workday, so we don't even need to leave the house! But our function will return False on these inputs.\n",
       "\n",
       "The key problem is that Python implictly parenthesizes the last part as:\n",
       "\n",
       "```python\n",
       "(not (rain_level > 0)) and is_workday\n",
       "```\n",
       "\n",
       "Whereas what we were trying to express would look more like:\n",
       "\n",
       "```python\n",
       "not (rain_level > 0 and is_workday)\n",
       "```\n"
      ],
      "text/plain": [
       "Correct: \n",
       "\n",
       "One example of a failing test case is:\n",
       "\n",
       "```python\n",
       "have_umbrella = False\n",
       "rain_level = 0.0\n",
       "have_hood = False\n",
       "is_workday = False\n",
       "```\n",
       "\n",
       "Clearly we're prepared for the weather in this case. It's not raining. Not only that, it's not a workday, so we don't even need to leave the house! But our function will return False on these inputs.\n",
       "\n",
       "The key problem is that Python implictly parenthesizes the last part as:\n",
       "\n",
       "```python\n",
       "(not (rain_level > 0)) and is_workday\n",
       "```\n",
       "\n",
       "Whereas what we were trying to express would look more like:\n",
       "\n",
       "```python\n",
       "not (rain_level > 0 and is_workday)\n",
       "```"
      ]
     },
     "metadata": {},
     "output_type": "display_data"
    }
   ],
   "source": [
    "def prepared_for_weather(have_umbrella, rain_level, have_hood, is_workday):\n",
    "    # Don't change this code. Our goal is just to find the bug, not fix it!\n",
    "    return have_umbrella or rain_level < 5 and have_hood or not rain_level > 0 and is_workday\n",
    "\n",
    "# Change the values of these inputs so they represent a case where prepared_for_weather\n",
    "# returns the wrong answer.\n",
    "have_umbrella = False\n",
    "rain_level = 0\n",
    "have_hood = False\n",
    "is_workday = False\n",
    "\n",
    "# Check what the function returns given the current values of the variables above\n",
    "actual = prepared_for_weather(have_umbrella, rain_level, have_hood, is_workday)\n",
    "print(actual)\n",
    "\n",
    "# Check your answer\n",
    "q3.check()"
   ]
  },
  {
   "cell_type": "code",
   "execution_count": 9,
   "id": "0d1584d1",
   "metadata": {
    "execution": {
     "iopub.execute_input": "2021-08-05T18:32:22.707907Z",
     "iopub.status.busy": "2021-08-05T18:32:22.707343Z",
     "iopub.status.idle": "2021-08-05T18:32:22.715177Z",
     "shell.execute_reply": "2021-08-05T18:32:22.714704Z",
     "shell.execute_reply.started": "2021-08-05T17:57:04.701942Z"
    },
    "papermill": {
     "duration": 0.037203,
     "end_time": "2021-08-05T18:32:22.715315",
     "exception": false,
     "start_time": "2021-08-05T18:32:22.678112",
     "status": "completed"
    },
    "tags": []
   },
   "outputs": [
    {
     "data": {
      "application/javascript": [
       "parent.postMessage({\"jupyterEvent\": \"custom.exercise_interaction\", \"data\": {\"interactionType\": 2, \"questionType\": 1, \"questionId\": \"3_WeatherDebug\", \"learnToolsVersion\": \"0.3.4\", \"valueTowardsCompletion\": 0.0, \"failureMessage\": \"\", \"exceptionClass\": \"\", \"trace\": \"\", \"outcomeType\": 4}}, \"*\")"
      ],
      "text/plain": [
       "<IPython.core.display.Javascript object>"
      ]
     },
     "metadata": {},
     "output_type": "display_data"
    },
    {
     "data": {
      "text/markdown": [
       "<span style=\"color:#3366cc\">Hint:</span> Take a look at how we fixed our original expression in the main lesson. We added parentheses around certain subexpressions. The bug in this code is caused by Python evaluating certain operations in the \"wrong\" order."
      ],
      "text/plain": [
       "Hint: Take a look at how we fixed our original expression in the main lesson. We added parentheses around certain subexpressions. The bug in this code is caused by Python evaluating certain operations in the \"wrong\" order."
      ]
     },
     "metadata": {},
     "output_type": "display_data"
    },
    {
     "data": {
      "application/javascript": [
       "parent.postMessage({\"jupyterEvent\": \"custom.exercise_interaction\", \"data\": {\"interactionType\": 3, \"questionType\": 1, \"questionId\": \"3_WeatherDebug\", \"learnToolsVersion\": \"0.3.4\", \"valueTowardsCompletion\": 0.0, \"failureMessage\": \"\", \"exceptionClass\": \"\", \"trace\": \"\", \"outcomeType\": 4}}, \"*\")"
      ],
      "text/plain": [
       "<IPython.core.display.Javascript object>"
      ]
     },
     "metadata": {},
     "output_type": "display_data"
    },
    {
     "data": {
      "text/markdown": [
       "<span style=\"color:#33cc99\">Solution:</span> One example of a failing test case is:\n",
       "\n",
       "```python\n",
       "have_umbrella = False\n",
       "rain_level = 0.0\n",
       "have_hood = False\n",
       "is_workday = False\n",
       "```\n",
       "\n",
       "Clearly we're prepared for the weather in this case. It's not raining. Not only that, it's not a workday, so we don't even need to leave the house! But our function will return False on these inputs.\n",
       "\n",
       "The key problem is that Python implictly parenthesizes the last part as:\n",
       "\n",
       "```python\n",
       "(not (rain_level > 0)) and is_workday\n",
       "```\n",
       "\n",
       "Whereas what we were trying to express would look more like:\n",
       "\n",
       "```python\n",
       "not (rain_level > 0 and is_workday)\n",
       "```\n"
      ],
      "text/plain": [
       "Solution: One example of a failing test case is:\n",
       "\n",
       "```python\n",
       "have_umbrella = False\n",
       "rain_level = 0.0\n",
       "have_hood = False\n",
       "is_workday = False\n",
       "```\n",
       "\n",
       "Clearly we're prepared for the weather in this case. It's not raining. Not only that, it's not a workday, so we don't even need to leave the house! But our function will return False on these inputs.\n",
       "\n",
       "The key problem is that Python implictly parenthesizes the last part as:\n",
       "\n",
       "```python\n",
       "(not (rain_level > 0)) and is_workday\n",
       "```\n",
       "\n",
       "Whereas what we were trying to express would look more like:\n",
       "\n",
       "```python\n",
       "not (rain_level > 0 and is_workday)\n",
       "```"
      ]
     },
     "metadata": {},
     "output_type": "display_data"
    }
   ],
   "source": [
    "q3.hint()\n",
    "q3.solution()"
   ]
  },
  {
   "cell_type": "markdown",
   "id": "2ba9eb00",
   "metadata": {
    "papermill": {
     "duration": 0.026712,
     "end_time": "2021-08-05T18:32:22.769015",
     "exception": false,
     "start_time": "2021-08-05T18:32:22.742303",
     "status": "completed"
    },
    "tags": []
   },
   "source": [
    "# 4.\n",
    "\n",
    "The function `is_negative` below is implemented correctly - it returns True if the given number is negative and False otherwise.\n",
    "\n",
    "However, it's more verbose than it needs to be. We can actually reduce the number of lines of code in this function by *75%* while keeping the same behaviour. \n",
    "\n",
    "See if you can come up with an equivalent body that uses just **one line** of code, and put it in the function `concise_is_negative`. (HINT: you don't even need Python's ternary syntax)"
   ]
  },
  {
   "cell_type": "code",
   "execution_count": 10,
   "id": "a44a2c60",
   "metadata": {
    "execution": {
     "iopub.execute_input": "2021-08-05T18:32:22.827787Z",
     "iopub.status.busy": "2021-08-05T18:32:22.827223Z",
     "iopub.status.idle": "2021-08-05T18:32:22.833553Z",
     "shell.execute_reply": "2021-08-05T18:32:22.833047Z",
     "shell.execute_reply.started": "2021-08-05T17:58:49.255576Z"
    },
    "papermill": {
     "duration": 0.037916,
     "end_time": "2021-08-05T18:32:22.833683",
     "exception": false,
     "start_time": "2021-08-05T18:32:22.795767",
     "status": "completed"
    },
    "tags": []
   },
   "outputs": [
    {
     "data": {
      "application/javascript": [
       "parent.postMessage({\"jupyterEvent\": \"custom.exercise_interaction\", \"data\": {\"outcomeType\": 1, \"valueTowardsCompletion\": 0.2, \"interactionType\": 1, \"questionType\": 2, \"questionId\": \"4_ConciseIsNegative\", \"learnToolsVersion\": \"0.3.4\", \"failureMessage\": \"\", \"exceptionClass\": \"\", \"trace\": \"\"}}, \"*\")"
      ],
      "text/plain": [
       "<IPython.core.display.Javascript object>"
      ]
     },
     "metadata": {},
     "output_type": "display_data"
    },
    {
     "data": {
      "text/markdown": [
       "<span style=\"color:#33cc33\">Correct</span>"
      ],
      "text/plain": [
       "Correct"
      ]
     },
     "metadata": {},
     "output_type": "display_data"
    }
   ],
   "source": [
    "def is_negative(number):\n",
    "    if number < 0:\n",
    "        return True\n",
    "    else:\n",
    "        return False\n",
    "\n",
    "def concise_is_negative(number):\n",
    "    return True if number < 0 else False # pass # Your code goes here (try to keep it to one line!)\n",
    "\n",
    "# Check your answer\n",
    "q4.check()"
   ]
  },
  {
   "cell_type": "code",
   "execution_count": 11,
   "id": "0436c144",
   "metadata": {
    "execution": {
     "iopub.execute_input": "2021-08-05T18:32:22.892975Z",
     "iopub.status.busy": "2021-08-05T18:32:22.892385Z",
     "iopub.status.idle": "2021-08-05T18:32:22.894999Z",
     "shell.execute_reply": "2021-08-05T18:32:22.895404Z",
     "shell.execute_reply.started": "2021-08-05T17:58:49.631514Z"
    },
    "papermill": {
     "duration": 0.034122,
     "end_time": "2021-08-05T18:32:22.895568",
     "exception": false,
     "start_time": "2021-08-05T18:32:22.861446",
     "status": "completed"
    },
    "tags": []
   },
   "outputs": [],
   "source": [
    "#q4.hint()\n",
    "#q4.solution()"
   ]
  },
  {
   "cell_type": "markdown",
   "id": "1d05fcf3",
   "metadata": {
    "papermill": {
     "duration": 0.027302,
     "end_time": "2021-08-05T18:32:22.950499",
     "exception": false,
     "start_time": "2021-08-05T18:32:22.923197",
     "status": "completed"
    },
    "tags": []
   },
   "source": [
    "# 5a.\n",
    "\n",
    "The boolean variables `ketchup`, `mustard` and `onion` represent whether a customer wants a particular topping on their hot dog. We want to implement a number of boolean functions that correspond to some yes-or-no questions about the customer's order. For example:"
   ]
  },
  {
   "cell_type": "code",
   "execution_count": 12,
   "id": "1b132c79",
   "metadata": {
    "execution": {
     "iopub.execute_input": "2021-08-05T18:32:23.010194Z",
     "iopub.status.busy": "2021-08-05T18:32:23.009618Z",
     "iopub.status.idle": "2021-08-05T18:32:23.012634Z",
     "shell.execute_reply": "2021-08-05T18:32:23.012098Z",
     "shell.execute_reply.started": "2021-08-05T17:59:10.716254Z"
    },
    "papermill": {
     "duration": 0.03439,
     "end_time": "2021-08-05T18:32:23.012759",
     "exception": false,
     "start_time": "2021-08-05T18:32:22.978369",
     "status": "completed"
    },
    "tags": []
   },
   "outputs": [],
   "source": [
    "def onionless(ketchup, mustard, onion):\n",
    "    \"\"\"Return whether the customer doesn't want onions.\n",
    "    \"\"\"\n",
    "    return not onion"
   ]
  },
  {
   "cell_type": "code",
   "execution_count": 13,
   "id": "8f63e135",
   "metadata": {
    "execution": {
     "iopub.execute_input": "2021-08-05T18:32:23.074012Z",
     "iopub.status.busy": "2021-08-05T18:32:23.073398Z",
     "iopub.status.idle": "2021-08-05T18:32:23.078738Z",
     "shell.execute_reply": "2021-08-05T18:32:23.078195Z",
     "shell.execute_reply.started": "2021-08-05T17:59:37.448334Z"
    },
    "papermill": {
     "duration": 0.038441,
     "end_time": "2021-08-05T18:32:23.078867",
     "exception": false,
     "start_time": "2021-08-05T18:32:23.040426",
     "status": "completed"
    },
    "tags": []
   },
   "outputs": [
    {
     "data": {
      "application/javascript": [
       "parent.postMessage({\"jupyterEvent\": \"custom.exercise_interaction\", \"data\": {\"outcomeType\": 1, \"valueTowardsCompletion\": 0.2, \"interactionType\": 1, \"questionType\": 2, \"questionId\": \"5.1_AllToppings\", \"learnToolsVersion\": \"0.3.4\", \"failureMessage\": \"\", \"exceptionClass\": \"\", \"trace\": \"\"}}, \"*\")"
      ],
      "text/plain": [
       "<IPython.core.display.Javascript object>"
      ]
     },
     "metadata": {},
     "output_type": "display_data"
    },
    {
     "data": {
      "text/markdown": [
       "<span style=\"color:#33cc33\">Correct</span>"
      ],
      "text/plain": [
       "Correct"
      ]
     },
     "metadata": {},
     "output_type": "display_data"
    }
   ],
   "source": [
    "def wants_all_toppings(ketchup, mustard, onion):\n",
    "    \"\"\"Return whether the customer wants \"the works\" (all 3 toppings)\n",
    "    \"\"\"\n",
    "    return True if (ketchup and mustard and onion) else False\n",
    "\n",
    "# Check your answer\n",
    "q5.a.check()"
   ]
  },
  {
   "cell_type": "code",
   "execution_count": 14,
   "id": "0b9ec5e9",
   "metadata": {
    "execution": {
     "iopub.execute_input": "2021-08-05T18:32:23.139022Z",
     "iopub.status.busy": "2021-08-05T18:32:23.138455Z",
     "iopub.status.idle": "2021-08-05T18:32:23.141191Z",
     "shell.execute_reply": "2021-08-05T18:32:23.140716Z"
    },
    "papermill": {
     "duration": 0.034215,
     "end_time": "2021-08-05T18:32:23.141330",
     "exception": false,
     "start_time": "2021-08-05T18:32:23.107115",
     "status": "completed"
    },
    "tags": []
   },
   "outputs": [],
   "source": [
    "#q5.a.hint()\n",
    "#q5.a.solution()"
   ]
  },
  {
   "cell_type": "markdown",
   "id": "c54faa5d",
   "metadata": {
    "papermill": {
     "duration": 0.028309,
     "end_time": "2021-08-05T18:32:23.199335",
     "exception": false,
     "start_time": "2021-08-05T18:32:23.171026",
     "status": "completed"
    },
    "tags": []
   },
   "source": [
    "# 5b.\n",
    "\n",
    "For the next function, fill in the body to match the English description in the docstring. "
   ]
  },
  {
   "cell_type": "code",
   "execution_count": 15,
   "id": "b7effd4a",
   "metadata": {
    "execution": {
     "iopub.execute_input": "2021-08-05T18:32:23.261234Z",
     "iopub.status.busy": "2021-08-05T18:32:23.260599Z",
     "iopub.status.idle": "2021-08-05T18:32:23.266358Z",
     "shell.execute_reply": "2021-08-05T18:32:23.265870Z",
     "shell.execute_reply.started": "2021-08-05T18:00:19.846840Z"
    },
    "papermill": {
     "duration": 0.038727,
     "end_time": "2021-08-05T18:32:23.266489",
     "exception": false,
     "start_time": "2021-08-05T18:32:23.227762",
     "status": "completed"
    },
    "tags": []
   },
   "outputs": [
    {
     "data": {
      "application/javascript": [
       "parent.postMessage({\"jupyterEvent\": \"custom.exercise_interaction\", \"data\": {\"outcomeType\": 1, \"valueTowardsCompletion\": 0.2, \"interactionType\": 1, \"questionType\": 2, \"questionId\": \"5.2_PlainDog\", \"learnToolsVersion\": \"0.3.4\", \"failureMessage\": \"\", \"exceptionClass\": \"\", \"trace\": \"\"}}, \"*\")"
      ],
      "text/plain": [
       "<IPython.core.display.Javascript object>"
      ]
     },
     "metadata": {},
     "output_type": "display_data"
    },
    {
     "data": {
      "text/markdown": [
       "<span style=\"color:#33cc33\">Correct:</span> \n",
       "\n",
       "One solution looks like:\n",
       "```python\n",
       "return not ketchup and not mustard and not onion\n",
       "```\n",
       "\n",
       "We can also [\"factor out\" the nots](https://en.wikipedia.org/wiki/De_Morgan%27s_laws) to get:\n",
       "\n",
       "```python\n",
       "return not (ketchup or mustard or onion)\n",
       "```"
      ],
      "text/plain": [
       "Correct: \n",
       "\n",
       "One solution looks like:\n",
       "```python\n",
       "return not ketchup and not mustard and not onion\n",
       "```\n",
       "\n",
       "We can also [\"factor out\" the nots](https://en.wikipedia.org/wiki/De_Morgan%27s_laws) to get:\n",
       "\n",
       "```python\n",
       "return not (ketchup or mustard or onion)\n",
       "```"
      ]
     },
     "metadata": {},
     "output_type": "display_data"
    }
   ],
   "source": [
    "def wants_plain_hotdog(ketchup, mustard, onion):\n",
    "    \"\"\"Return whether the customer wants a plain hot dog with no toppings.\n",
    "    \"\"\"\n",
    "    return False if (ketchup or mustard or onion) else True\n",
    "\n",
    "# Check your answer\n",
    "q5.b.check()"
   ]
  },
  {
   "cell_type": "code",
   "execution_count": 16,
   "id": "fc37c82e",
   "metadata": {
    "execution": {
     "iopub.execute_input": "2021-08-05T18:32:23.328985Z",
     "iopub.status.busy": "2021-08-05T18:32:23.328393Z",
     "iopub.status.idle": "2021-08-05T18:32:23.331081Z",
     "shell.execute_reply": "2021-08-05T18:32:23.330645Z"
    },
    "papermill": {
     "duration": 0.035241,
     "end_time": "2021-08-05T18:32:23.331211",
     "exception": false,
     "start_time": "2021-08-05T18:32:23.295970",
     "status": "completed"
    },
    "tags": []
   },
   "outputs": [],
   "source": [
    "#q5.b.hint()\n",
    "#q5.b.solution()"
   ]
  },
  {
   "cell_type": "markdown",
   "id": "419ae4e8",
   "metadata": {
    "papermill": {
     "duration": 0.029217,
     "end_time": "2021-08-05T18:32:23.390468",
     "exception": false,
     "start_time": "2021-08-05T18:32:23.361251",
     "status": "completed"
    },
    "tags": []
   },
   "source": [
    "# 5c.\n",
    "\n",
    "You know what to do: for the next function, fill in the body to match the English description in the docstring."
   ]
  },
  {
   "cell_type": "code",
   "execution_count": 17,
   "id": "ce6a87bd",
   "metadata": {
    "execution": {
     "iopub.execute_input": "2021-08-05T18:32:23.454876Z",
     "iopub.status.busy": "2021-08-05T18:32:23.454286Z",
     "iopub.status.idle": "2021-08-05T18:32:23.457968Z",
     "shell.execute_reply": "2021-08-05T18:32:23.458410Z",
     "shell.execute_reply.started": "2021-08-05T18:02:39.869571Z"
    },
    "papermill": {
     "duration": 0.038361,
     "end_time": "2021-08-05T18:32:23.458568",
     "exception": false,
     "start_time": "2021-08-05T18:32:23.420207",
     "status": "completed"
    },
    "tags": []
   },
   "outputs": [
    {
     "data": {
      "application/javascript": [
       "parent.postMessage({\"jupyterEvent\": \"custom.exercise_interaction\", \"data\": {\"outcomeType\": 1, \"valueTowardsCompletion\": 0.2, \"interactionType\": 1, \"questionType\": 2, \"questionId\": \"5.3_OneSauce\", \"learnToolsVersion\": \"0.3.4\", \"failureMessage\": \"\", \"exceptionClass\": \"\", \"trace\": \"\"}}, \"*\")"
      ],
      "text/plain": [
       "<IPython.core.display.Javascript object>"
      ]
     },
     "metadata": {},
     "output_type": "display_data"
    },
    {
     "data": {
      "text/markdown": [
       "<span style=\"color:#33cc33\">Correct</span>"
      ],
      "text/plain": [
       "Correct"
      ]
     },
     "metadata": {},
     "output_type": "display_data"
    }
   ],
   "source": [
    "def exactly_one_sauce(ketchup, mustard, onion):\n",
    "    \"\"\"Return whether the customer wants either ketchup or mustard, but not both.\n",
    "    (You may be familiar with this operation under the name \"exclusive or\")\n",
    "    \"\"\"\n",
    "    return True if (ketchup ^ mustard) else False\n",
    "\n",
    "# Check your answer\n",
    "q5.c.check()"
   ]
  },
  {
   "cell_type": "code",
   "execution_count": 18,
   "id": "cc6d6c06",
   "metadata": {
    "execution": {
     "iopub.execute_input": "2021-08-05T18:32:23.521354Z",
     "iopub.status.busy": "2021-08-05T18:32:23.520747Z",
     "iopub.status.idle": "2021-08-05T18:32:23.523453Z",
     "shell.execute_reply": "2021-08-05T18:32:23.523972Z",
     "shell.execute_reply.started": "2021-08-05T18:02:58.616153Z"
    },
    "papermill": {
     "duration": 0.035439,
     "end_time": "2021-08-05T18:32:23.524126",
     "exception": false,
     "start_time": "2021-08-05T18:32:23.488687",
     "status": "completed"
    },
    "tags": []
   },
   "outputs": [],
   "source": [
    "# q5.c.hint()\n",
    "# q5.c.solution()"
   ]
  },
  {
   "cell_type": "markdown",
   "id": "eb9788dc",
   "metadata": {
    "papermill": {
     "duration": 0.029553,
     "end_time": "2021-08-05T18:32:23.583639",
     "exception": false,
     "start_time": "2021-08-05T18:32:23.554086",
     "status": "completed"
    },
    "tags": []
   },
   "source": [
    "# 6. <span title=\"A bit spicy\" style=\"color: darkgreen \">🌶️</span>\n",
    "\n",
    "We’ve seen that calling `bool()` on an integer returns `False` if it’s equal to 0 and `True` otherwise. What happens if we call `int()` on a bool? Try it out in the notebook cell below.\n",
    "\n",
    "Can you take advantage of this to write a succinct function that corresponds to the English sentence \"does the customer want exactly one topping?\"?"
   ]
  },
  {
   "cell_type": "code",
   "execution_count": 19,
   "id": "f3ddc20d",
   "metadata": {
    "execution": {
     "iopub.execute_input": "2021-08-05T18:32:23.645994Z",
     "iopub.status.busy": "2021-08-05T18:32:23.645432Z",
     "iopub.status.idle": "2021-08-05T18:32:23.651581Z",
     "shell.execute_reply": "2021-08-05T18:32:23.652129Z",
     "shell.execute_reply.started": "2021-08-05T18:09:19.457375Z"
    },
    "papermill": {
     "duration": 0.038756,
     "end_time": "2021-08-05T18:32:23.652296",
     "exception": false,
     "start_time": "2021-08-05T18:32:23.613540",
     "status": "completed"
    },
    "tags": []
   },
   "outputs": [
    {
     "data": {
      "application/javascript": [
       "parent.postMessage({\"jupyterEvent\": \"custom.exercise_interaction\", \"data\": {\"outcomeType\": 1, \"valueTowardsCompletion\": 0.2, \"interactionType\": 1, \"questionType\": 2, \"questionId\": \"6_OneTopping\", \"learnToolsVersion\": \"0.3.4\", \"failureMessage\": \"\", \"exceptionClass\": \"\", \"trace\": \"\"}}, \"*\")"
      ],
      "text/plain": [
       "<IPython.core.display.Javascript object>"
      ]
     },
     "metadata": {},
     "output_type": "display_data"
    },
    {
     "data": {
      "text/markdown": [
       "<span style=\"color:#33cc33\">Correct:</span> \n",
       "\n",
       "This condition would be pretty complicated to express using just `and`, `or` and `not`, but using boolean-to-integer conversion gives us this short solution:\n",
       "```python\n",
       "return (int(ketchup) + int(mustard) + int(onion)) == 1\n",
       "```\n",
       "\n",
       "Fun fact: we don't technically need to call `int` on the arguments. Just by doing addition with booleans, Python implicitly does the integer conversion. So we could also write...\n",
       "\n",
       "```python\n",
       "return (ketchup + mustard + onion) == 1\n",
       "```"
      ],
      "text/plain": [
       "Correct: \n",
       "\n",
       "This condition would be pretty complicated to express using just `and`, `or` and `not`, but using boolean-to-integer conversion gives us this short solution:\n",
       "```python\n",
       "return (int(ketchup) + int(mustard) + int(onion)) == 1\n",
       "```\n",
       "\n",
       "Fun fact: we don't technically need to call `int` on the arguments. Just by doing addition with booleans, Python implicitly does the integer conversion. So we could also write...\n",
       "\n",
       "```python\n",
       "return (ketchup + mustard + onion) == 1\n",
       "```"
      ]
     },
     "metadata": {},
     "output_type": "display_data"
    }
   ],
   "source": [
    "def exactly_one_topping(ketchup, mustard, onion):\n",
    "    \"\"\"Return whether the customer wants exactly one of the three available toppings\n",
    "    on their hot dog.\n",
    "    \"\"\"\n",
    "\n",
    "    return True if 0 < (ketchup + mustard + onion) < 2 else False\n",
    "\n",
    "# Check your answer\n",
    "q6.check()"
   ]
  },
  {
   "cell_type": "code",
   "execution_count": 20,
   "id": "6942efae",
   "metadata": {
    "execution": {
     "iopub.execute_input": "2021-08-05T18:32:23.716288Z",
     "iopub.status.busy": "2021-08-05T18:32:23.715711Z",
     "iopub.status.idle": "2021-08-05T18:32:23.718505Z",
     "shell.execute_reply": "2021-08-05T18:32:23.719070Z",
     "shell.execute_reply.started": "2021-08-05T18:09:29.309568Z"
    },
    "papermill": {
     "duration": 0.03625,
     "end_time": "2021-08-05T18:32:23.719246",
     "exception": false,
     "start_time": "2021-08-05T18:32:23.682996",
     "status": "completed"
    },
    "tags": []
   },
   "outputs": [],
   "source": [
    "#q6.hint()\n",
    "#q6.solution()"
   ]
  },
  {
   "cell_type": "markdown",
   "id": "79430fa7",
   "metadata": {
    "papermill": {
     "duration": 0.030582,
     "end_time": "2021-08-05T18:32:23.780351",
     "exception": false,
     "start_time": "2021-08-05T18:32:23.749769",
     "status": "completed"
    },
    "tags": []
   },
   "source": [
    "# 7. <span title=\"A bit spicy\" style=\"color: darkgreen \">🌶️</span> (Optional)\n",
    "\n",
    "In this problem we'll be working with a simplified version of [blackjack](https://en.wikipedia.org/wiki/Blackjack) (aka twenty-one). In this version there is one player (who you'll control) and a dealer. Play proceeds as follows:\n",
    "\n",
    "- The player is dealt two face-up cards. The dealer is dealt one face-up card.\n",
    "- The player may ask to be dealt another card ('hit') as many times as they wish. If the sum of their cards exceeds 21, they lose the round immediately.\n",
    "- The dealer then deals additional cards to himself until either:\n",
    "    - the sum of the dealer's cards exceeds 21, in which case the player wins the round\n",
    "    - the sum of the dealer's cards is greater than or equal to 17. If the player's total is greater than the dealer's, the player wins. Otherwise, the dealer wins (even in case of a tie).\n",
    "    \n",
    "When calculating the sum of cards, Jack, Queen, and King count for 10. Aces can count as 1 or 11 (when referring to a player's \"total\" above, we mean the largest total that can be made without exceeding 21. So e.g. A+8 = 19, A+8+8 = 17)\n",
    "\n",
    "For this problem, you'll write a function representing the player's decision-making strategy in this game. We've provided a very unintelligent implementation below:"
   ]
  },
  {
   "cell_type": "code",
   "execution_count": 21,
   "id": "82086421",
   "metadata": {
    "execution": {
     "iopub.execute_input": "2021-08-05T18:32:23.843586Z",
     "iopub.status.busy": "2021-08-05T18:32:23.843023Z",
     "iopub.status.idle": "2021-08-05T18:32:23.846253Z",
     "shell.execute_reply": "2021-08-05T18:32:23.846757Z",
     "shell.execute_reply.started": "2021-08-05T18:12:02.635630Z"
    },
    "papermill": {
     "duration": 0.036225,
     "end_time": "2021-08-05T18:32:23.846925",
     "exception": false,
     "start_time": "2021-08-05T18:32:23.810700",
     "status": "completed"
    },
    "tags": []
   },
   "outputs": [],
   "source": [
    "def should_hit(dealer_total, player_total, player_low_aces, player_high_aces):\n",
    "    \"\"\"Return True if the player should hit (request another card) given the current game\n",
    "    state, or False if the player should stay.\n",
    "    When calculating a hand's total value, we count aces as \"high\" (with value 11) if doing so\n",
    "    doesn't bring the total above 21, otherwise we count them as low (with value 1). \n",
    "    For example, if the player's hand is {A, A, A, 7}, we will count it as 11 + 1 + 1 + 7,\n",
    "    and therefore set player_total=20, player_low_aces=2, player_high_aces=1.\n",
    "    \"\"\"\n",
    "    return False"
   ]
  },
  {
   "cell_type": "markdown",
   "id": "2796c7ca",
   "metadata": {
    "papermill": {
     "duration": 0.030099,
     "end_time": "2021-08-05T18:32:23.907790",
     "exception": false,
     "start_time": "2021-08-05T18:32:23.877691",
     "status": "completed"
    },
    "tags": []
   },
   "source": [
    "This very conservative agent *always* sticks with the hand of two cards that they're dealt.\n",
    "\n",
    "We'll be simulating games between your player agent and our own dealer agent by calling your function.\n",
    "\n",
    "Try running the function below to see an example of a simulated game:"
   ]
  },
  {
   "cell_type": "code",
   "execution_count": 22,
   "id": "9bd2e828",
   "metadata": {
    "execution": {
     "iopub.execute_input": "2021-08-05T18:32:23.971545Z",
     "iopub.status.busy": "2021-08-05T18:32:23.970993Z",
     "iopub.status.idle": "2021-08-05T18:32:23.977289Z",
     "shell.execute_reply": "2021-08-05T18:32:23.977744Z",
     "shell.execute_reply.started": "2021-08-05T18:12:03.879947Z"
    },
    "papermill": {
     "duration": 0.039756,
     "end_time": "2021-08-05T18:32:23.977925",
     "exception": false,
     "start_time": "2021-08-05T18:32:23.938169",
     "status": "completed"
    },
    "tags": []
   },
   "outputs": [
    {
     "name": "stdout",
     "output_type": "stream",
     "text": [
      "Player starts with 4 and Q (total = 14)\n",
      "Dealer starts with J\n",
      "\n",
      "__Player's turn__\n",
      "Player stays\n",
      "\n",
      "__Dealer's turn__\n",
      "Dealer hits and receives 3. (total = 13)\n",
      "Dealer hits and receives 5. (total = 18)\n",
      "Dealer stands.\n",
      "Dealer wins. 18 >= 14\n"
     ]
    }
   ],
   "source": [
    "q7.simulate_one_game()"
   ]
  },
  {
   "cell_type": "markdown",
   "id": "00738326",
   "metadata": {
    "papermill": {
     "duration": 0.030672,
     "end_time": "2021-08-05T18:32:24.039632",
     "exception": false,
     "start_time": "2021-08-05T18:32:24.008960",
     "status": "completed"
    },
    "tags": []
   },
   "source": [
    "The real test of your agent's mettle is their average win rate over many games. Try calling the function below to simulate 50000 games of blackjack (it may take a couple seconds):"
   ]
  },
  {
   "cell_type": "code",
   "execution_count": 23,
   "id": "60385a87",
   "metadata": {
    "execution": {
     "iopub.execute_input": "2021-08-05T18:32:24.105841Z",
     "iopub.status.busy": "2021-08-05T18:32:24.104948Z",
     "iopub.status.idle": "2021-08-05T18:32:25.363428Z",
     "shell.execute_reply": "2021-08-05T18:32:25.364141Z",
     "shell.execute_reply.started": "2021-08-05T18:12:16.999345Z"
    },
    "papermill": {
     "duration": 1.293338,
     "end_time": "2021-08-05T18:32:25.364366",
     "exception": false,
     "start_time": "2021-08-05T18:32:24.071028",
     "status": "completed"
    },
    "tags": []
   },
   "outputs": [
    {
     "name": "stdout",
     "output_type": "stream",
     "text": [
      "Player won 19079 out of 50000 games (win rate = 38.2%)\n"
     ]
    }
   ],
   "source": [
    "q7.simulate(n_games=50000)"
   ]
  },
  {
   "cell_type": "markdown",
   "id": "bf2e7d08",
   "metadata": {
    "papermill": {
     "duration": 0.030961,
     "end_time": "2021-08-05T18:32:25.427913",
     "exception": false,
     "start_time": "2021-08-05T18:32:25.396952",
     "status": "completed"
    },
    "tags": []
   },
   "source": [
    "Our dumb agent that completely ignores the game state still manages to win shockingly often!\n",
    "\n",
    "Try adding some more smarts to the `should_hit` function and see how it affects the results."
   ]
  },
  {
   "cell_type": "code",
   "execution_count": 24,
   "id": "60c7f49f",
   "metadata": {
    "execution": {
     "iopub.execute_input": "2021-08-05T18:32:25.493507Z",
     "iopub.status.busy": "2021-08-05T18:32:25.492863Z",
     "iopub.status.idle": "2021-08-05T18:32:26.817769Z",
     "shell.execute_reply": "2021-08-05T18:32:26.818334Z",
     "shell.execute_reply.started": "2021-08-05T18:31:56.606862Z"
    },
    "papermill": {
     "duration": 1.359303,
     "end_time": "2021-08-05T18:32:26.818501",
     "exception": false,
     "start_time": "2021-08-05T18:32:25.459198",
     "status": "completed"
    },
    "tags": []
   },
   "outputs": [
    {
     "name": "stdout",
     "output_type": "stream",
     "text": [
      "Player won 18121 out of 50000 games (win rate = 36.2%)\n"
     ]
    }
   ],
   "source": [
    "def should_hit(dealer_total, player_total, player_low_aces, player_high_aces):\n",
    "    \"\"\"Return True if the player should hit (request another card) given the current game\n",
    "    state, or False if the player should stay.\n",
    "    When calculating a hand's total value, we count aces as \"high\" (with value 11) if doing so\n",
    "    doesn't bring the total above 21, otherwise we count them as low (with value 1). \n",
    "    For example, if the player's hand is {A, A, A, 7}, we will count it as 11 + 1 + 1 + 7,\n",
    "    and therefore set player_total=20, player_low_aces=2, player_high_aces=1.\n",
    "    \"\"\"\n",
    "    # print(dealer_total, player_total)\n",
    "    # print(player_low_aces)\n",
    "    # print(player_high_aces)\n",
    "    \n",
    "    if player_high_aces > 0:\n",
    "        return True\n",
    "    \n",
    "    elif player_total > 10:\n",
    "        return False\n",
    "    \n",
    "    else:\n",
    "        return False\n",
    "    \n",
    "    # really this is only about the chance to hit exactly 21, not the chance to win\n",
    "    # if player_total == 11:\n",
    "    #    return True\n",
    "    \n",
    "    '''\n",
    "    if player_high_aces > 0:\n",
    "        return True\n",
    "    else:\n",
    "        return False\n",
    "    '''\n",
    "    \n",
    "q7.simulate(n_games=50000)"
   ]
  },
  {
   "cell_type": "markdown",
   "id": "890e12d4",
   "metadata": {
    "papermill": {
     "duration": 0.032595,
     "end_time": "2021-08-05T18:32:26.882436",
     "exception": false,
     "start_time": "2021-08-05T18:32:26.849841",
     "status": "completed"
    },
    "tags": []
   },
   "source": [
    "# Keep Going\n",
    "\n",
    "Learn about **[lists and tuples](https://www.kaggle.com/colinmorris/lists)** to handle multiple items of data in a systematic way."
   ]
  },
  {
   "cell_type": "markdown",
   "id": "5e47afea",
   "metadata": {
    "papermill": {
     "duration": 0.031112,
     "end_time": "2021-08-05T18:32:26.945280",
     "exception": false,
     "start_time": "2021-08-05T18:32:26.914168",
     "status": "completed"
    },
    "tags": []
   },
   "source": [
    "---\n",
    "\n",
    "\n",
    "\n",
    "\n",
    "*Have questions or comments? Visit the [Learn Discussion forum](https://www.kaggle.com/learn-forum/161283) to chat with other Learners.*"
   ]
  }
 ],
 "metadata": {
  "kernelspec": {
   "display_name": "Python 3",
   "language": "python",
   "name": "python3"
  },
  "language_info": {
   "codemirror_mode": {
    "name": "ipython",
    "version": 3
   },
   "file_extension": ".py",
   "mimetype": "text/x-python",
   "name": "python",
   "nbconvert_exporter": "python",
   "pygments_lexer": "ipython3",
   "version": "3.7.10"
  },
  "papermill": {
   "default_parameters": {},
   "duration": 12.166426,
   "end_time": "2021-08-05T18:32:27.585407",
   "environment_variables": {},
   "exception": null,
   "input_path": "__notebook__.ipynb",
   "output_path": "__notebook__.ipynb",
   "parameters": {},
   "start_time": "2021-08-05T18:32:15.418981",
   "version": "2.3.3"
  }
 },
 "nbformat": 4,
 "nbformat_minor": 5
}
